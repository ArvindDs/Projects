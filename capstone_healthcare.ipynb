{
  "metadata": {
    "kernelspec": {
      "language": "python",
      "display_name": "Python 3",
      "name": "python3"
    },
    "language_info": {
      "name": "python",
      "version": "3.7.6",
      "mimetype": "text/x-python",
      "codemirror_mode": {
        "name": "ipython",
        "version": 3
      },
      "pygments_lexer": "ipython3",
      "nbconvert_exporter": "python",
      "file_extension": ".py"
    },
    "colab": {
      "provenance": [],
      "include_colab_link": true
    }
  },
  "nbformat_minor": 0,
  "nbformat": 4,
  "cells": [
    {
      "cell_type": "markdown",
      "metadata": {
        "id": "view-in-github",
        "colab_type": "text"
      },
      "source": [
        "<a href=\"https://colab.research.google.com/github/ArvindDs/Projects/blob/main/capstone_healthcare.ipynb\" target=\"_parent\"><img src=\"https://colab.research.google.com/assets/colab-badge.svg\" alt=\"Open In Colab\"/></a>"
      ]
    },
    {
      "cell_type": "code",
      "source": [
        "import numpy as np\n",
        "import pandas as pd\n",
        "\n",
        "\n",
        "import matplotlib.pyplot as plt\n",
        "from matplotlib import style\n",
        "import seaborn as sns  \n",
        "\n",
        "%matplotlib inline"
      ],
      "metadata": {
        "execution": {
          "iopub.status.busy": "2022-03-19T02:10:03.079383Z",
          "iopub.execute_input": "2022-03-19T02:10:03.080175Z",
          "iopub.status.idle": "2022-03-19T02:10:04.079994Z",
          "shell.execute_reply.started": "2022-03-19T02:10:03.080113Z",
          "shell.execute_reply": "2022-03-19T02:10:04.078986Z"
        },
        "trusted": true,
        "id": "XJ4UoDjv-SuK"
      },
      "execution_count": null,
      "outputs": []
    },
    {
      "cell_type": "code",
      "source": [
        "from google.colab import  drive\n",
        "drive.mount('/content/drive')\n"
      ],
      "metadata": {
        "colab": {
          "base_uri": "https://localhost:8080/"
        },
        "id": "NEhmTOu6SsJ7",
        "outputId": "4aa4e973-1581-457b-c4af-b4305e32a0ac"
      },
      "execution_count": null,
      "outputs": [
        {
          "output_type": "stream",
          "name": "stdout",
          "text": [
            "Drive already mounted at /content/drive; to attempt to forcibly remount, call drive.mount(\"/content/drive\", force_remount=True).\n"
          ]
        }
      ]
    },
    {
      "cell_type": "code",
      "source": [
        "data = pd.read_csv('/content/drive/MyDrive/Colab Notebooks/health care diabetes.csv')"
      ],
      "metadata": {
        "trusted": true,
        "id": "SC9S3z4j-Suf"
      },
      "execution_count": null,
      "outputs": []
    },
    {
      "cell_type": "code",
      "source": [
        "data.head()"
      ],
      "metadata": {
        "trusted": true,
        "id": "nVgixvXg-Suh"
      },
      "execution_count": null,
      "outputs": []
    },
    {
      "cell_type": "code",
      "source": [
        "data.isnull().any()"
      ],
      "metadata": {
        "trusted": true,
        "id": "sLG7Yq3s-Sui"
      },
      "execution_count": null,
      "outputs": []
    },
    {
      "cell_type": "code",
      "source": [
        "data.info()"
      ],
      "metadata": {
        "trusted": true,
        "id": "VUQTX55O-Suk"
      },
      "execution_count": null,
      "outputs": []
    },
    {
      "cell_type": "code",
      "source": [
        "Positive = data[data['Outcome']==1]\n",
        "Positive.head(5)"
      ],
      "metadata": {
        "trusted": true,
        "id": "Nl6PrWBW-Sul"
      },
      "execution_count": null,
      "outputs": []
    },
    {
      "cell_type": "code",
      "source": [
        "data['Glucose'].value_counts().head(7)"
      ],
      "metadata": {
        "trusted": true,
        "id": "b9pdaGvi-Suo"
      },
      "execution_count": null,
      "outputs": []
    },
    {
      "cell_type": "code",
      "source": [
        "plt.hist(data['Glucose'])"
      ],
      "metadata": {
        "trusted": true,
        "id": "c30KUska-Suq"
      },
      "execution_count": null,
      "outputs": []
    },
    {
      "cell_type": "code",
      "source": [
        "data['BloodPressure'].value_counts().head(7)"
      ],
      "metadata": {
        "trusted": true,
        "id": "-SxUscBy-Sut"
      },
      "execution_count": null,
      "outputs": []
    },
    {
      "cell_type": "code",
      "source": [
        "plt.hist(data['BloodPressure'])"
      ],
      "metadata": {
        "trusted": true,
        "id": "zzLD5zrI-Suv"
      },
      "execution_count": null,
      "outputs": []
    },
    {
      "cell_type": "code",
      "source": [
        "data['SkinThickness'].value_counts().head(7)"
      ],
      "metadata": {
        "trusted": true,
        "id": "8seYX6nz-Suw"
      },
      "execution_count": null,
      "outputs": []
    },
    {
      "cell_type": "code",
      "source": [
        "plt.hist(data['SkinThickness'])"
      ],
      "metadata": {
        "trusted": true,
        "id": "-7iqfzXB-Sux"
      },
      "execution_count": null,
      "outputs": []
    },
    {
      "cell_type": "code",
      "source": [
        "data['Insulin'].value_counts().head(7)"
      ],
      "metadata": {
        "trusted": true,
        "id": "oLaTUJ1q-Suz"
      },
      "execution_count": null,
      "outputs": []
    },
    {
      "cell_type": "code",
      "source": [
        "plt.hist(data['Insulin'])"
      ],
      "metadata": {
        "trusted": true,
        "id": "sAp0jMPz-Su0"
      },
      "execution_count": null,
      "outputs": []
    },
    {
      "cell_type": "code",
      "source": [
        "data['BMI'].value_counts().head(7)"
      ],
      "metadata": {
        "trusted": true,
        "id": "0fKbzY-o-Su0"
      },
      "execution_count": null,
      "outputs": []
    },
    {
      "cell_type": "code",
      "source": [
        "plt.hist(data['BMI'])"
      ],
      "metadata": {
        "trusted": true,
        "id": "09pAcBj--Su2"
      },
      "execution_count": null,
      "outputs": []
    },
    {
      "cell_type": "code",
      "source": [
        "data.describe().transpose()"
      ],
      "metadata": {
        "trusted": true,
        "id": "H5ZJTKbI-Su2"
      },
      "execution_count": null,
      "outputs": []
    },
    {
      "cell_type": "markdown",
      "source": [
        "# Week 2"
      ],
      "metadata": {
        "id": "ucr5LPjt-Su3"
      }
    },
    {
      "cell_type": "code",
      "source": [
        "plt.hist(Positive['BMI'],histtype='stepfilled',bins=20)"
      ],
      "metadata": {
        "trusted": true,
        "id": "S5An06ZI-Su4"
      },
      "execution_count": null,
      "outputs": []
    },
    {
      "cell_type": "code",
      "source": [
        "Positive['BMI'].value_counts().head(7)"
      ],
      "metadata": {
        "trusted": true,
        "id": "8lO7iFqI-Su5"
      },
      "execution_count": null,
      "outputs": []
    },
    {
      "cell_type": "code",
      "source": [
        "plt.hist(Positive['Glucose'],histtype='stepfilled',bins=20)"
      ],
      "metadata": {
        "trusted": true,
        "id": "StZnaeJ7-Su6"
      },
      "execution_count": null,
      "outputs": []
    },
    {
      "cell_type": "code",
      "source": [
        "Positive['Glucose'].value_counts().head(7)"
      ],
      "metadata": {
        "trusted": true,
        "id": "ii4NDNqE-Su7"
      },
      "execution_count": null,
      "outputs": []
    },
    {
      "cell_type": "code",
      "source": [
        "plt.hist(Positive['BloodPressure'],histtype='stepfilled',bins=20)"
      ],
      "metadata": {
        "trusted": true,
        "id": "IELGLY7I-Su8"
      },
      "execution_count": null,
      "outputs": []
    },
    {
      "cell_type": "code",
      "source": [
        "Positive['BloodPressure'].value_counts().head(7)"
      ],
      "metadata": {
        "trusted": true,
        "id": "Q6lRU7PP-Su9"
      },
      "execution_count": null,
      "outputs": []
    },
    {
      "cell_type": "code",
      "source": [
        "plt.hist(Positive['SkinThickness'],histtype='stepfilled',bins=20)"
      ],
      "metadata": {
        "trusted": true,
        "id": "iHwP3TqI-Su9"
      },
      "execution_count": null,
      "outputs": []
    },
    {
      "cell_type": "code",
      "source": [
        "Positive['SkinThickness'].value_counts().head(7)"
      ],
      "metadata": {
        "trusted": true,
        "id": "x-8CpgfO-Su-"
      },
      "execution_count": null,
      "outputs": []
    },
    {
      "cell_type": "code",
      "source": [
        "plt.hist(Positive['Insulin'],histtype='stepfilled',bins=20)"
      ],
      "metadata": {
        "trusted": true,
        "id": "MUDXYOvy-Su-"
      },
      "execution_count": null,
      "outputs": []
    },
    {
      "cell_type": "code",
      "source": [
        "Positive['Insulin'].value_counts().head(7)"
      ],
      "metadata": {
        "trusted": true,
        "id": "hLwmI9xf-Su_"
      },
      "execution_count": null,
      "outputs": []
    },
    {
      "cell_type": "code",
      "source": [
        "BloodPressure = Positive['BloodPressure']\n",
        "Glucose = Positive['Glucose']\n",
        "SkinThickness = Positive['SkinThickness']\n",
        "Insulin = Positive['Insulin']\n",
        "BMI = Positive['BMI']"
      ],
      "metadata": {
        "trusted": true,
        "id": "HRsTEhGs-SvA"
      },
      "execution_count": null,
      "outputs": []
    },
    {
      "cell_type": "code",
      "source": [
        "plt.scatter(BloodPressure, Glucose, color=['b'])\n",
        "plt.xlabel('BloodPressure')\n",
        "plt.ylabel('Glucose')\n",
        "plt.title('BloodPressure & Glucose')\n",
        "plt.show()"
      ],
      "metadata": {
        "trusted": true,
        "id": "9UDw6fi5-SvA"
      },
      "execution_count": null,
      "outputs": []
    },
    {
      "cell_type": "code",
      "source": [
        "g =sns.scatterplot(x= \"Glucose\" ,y= \"BloodPressure\",\n",
        "              hue=\"Outcome\",\n",
        "              data=data);"
      ],
      "metadata": {
        "trusted": true,
        "id": "l4tweDE9-SvB"
      },
      "execution_count": null,
      "outputs": []
    },
    {
      "cell_type": "code",
      "source": [
        "B =sns.scatterplot(x= \"BMI\" ,y= \"Insulin\",\n",
        "              hue=\"Outcome\",\n",
        "              data=data);"
      ],
      "metadata": {
        "trusted": true,
        "id": "9cEnoMU1-SvC"
      },
      "execution_count": null,
      "outputs": []
    },
    {
      "cell_type": "code",
      "source": [
        "S =sns.scatterplot(x= \"SkinThickness\" ,y= \"Insulin\",\n",
        "              hue=\"Outcome\",\n",
        "              data=data);"
      ],
      "metadata": {
        "trusted": true,
        "id": "4rITiz4u-SvC"
      },
      "execution_count": null,
      "outputs": []
    },
    {
      "cell_type": "code",
      "source": [
        "### correlation matrix\n",
        "data.corr()"
      ],
      "metadata": {
        "trusted": true,
        "id": "m2QTKZQZ-SvD"
      },
      "execution_count": null,
      "outputs": []
    },
    {
      "cell_type": "code",
      "source": [
        "### create correlation heat map\n",
        "sns.heatmap(data.corr())"
      ],
      "metadata": {
        "trusted": true,
        "id": "psIE1hVb-SvE"
      },
      "execution_count": null,
      "outputs": []
    },
    {
      "cell_type": "code",
      "source": [
        "plt.subplots(figsize=(8,8))\n",
        "sns.heatmap(data.corr(),annot=True,cmap='viridis')  ### gives correlation value"
      ],
      "metadata": {
        "trusted": true,
        "id": "XW3qH-1K-SvE"
      },
      "execution_count": null,
      "outputs": []
    },
    {
      "cell_type": "code",
      "source": [
        "plt.subplots(figsize=(8,8))\n",
        "sns.heatmap(data.corr(),annot=True)  ### gives correlation value"
      ],
      "metadata": {
        "trusted": true,
        "id": "U-Y8HIus-SvF"
      },
      "execution_count": null,
      "outputs": []
    },
    {
      "cell_type": "code",
      "source": [
        "data.head(5)"
      ],
      "metadata": {
        "trusted": true,
        "id": "NgbHiV17-SvG"
      },
      "execution_count": null,
      "outputs": []
    },
    {
      "cell_type": "code",
      "source": [
        "features = data.iloc[:,[0,1,2,3,4,5,6,7]].values\n",
        "label = data.iloc[:,8].values"
      ],
      "metadata": {
        "trusted": true,
        "id": "gebhcyRw-SvG"
      },
      "execution_count": null,
      "outputs": []
    },
    {
      "cell_type": "code",
      "source": [
        "#Train test split\n",
        "from sklearn.model_selection import train_test_split\n",
        "X_train,X_test,y_train,y_test = train_test_split(features,\n",
        "                                                label,\n",
        "                                                test_size=0.2,\n",
        "                                                random_state =10)"
      ],
      "metadata": {
        "trusted": true,
        "id": "IyfGs4Qc-SvH"
      },
      "execution_count": null,
      "outputs": []
    },
    {
      "cell_type": "code",
      "source": [
        "#Create model\n",
        "from sklearn.linear_model import LogisticRegression\n",
        "model = LogisticRegression()\n",
        "model.fit(X_train,y_train) "
      ],
      "metadata": {
        "trusted": true,
        "id": "hjq2s4sG-SvH"
      },
      "execution_count": null,
      "outputs": []
    },
    {
      "cell_type": "code",
      "source": [
        "print(model.score(X_train,y_train))\n",
        "print(model.score(X_test,y_test))"
      ],
      "metadata": {
        "trusted": true,
        "id": "kenuKf5y-SvI"
      },
      "execution_count": null,
      "outputs": []
    },
    {
      "cell_type": "code",
      "source": [
        "from sklearn.metrics import confusion_matrix\n",
        "cm = confusion_matrix(label,model.predict(features))\n",
        "cm"
      ],
      "metadata": {
        "trusted": true,
        "id": "eJ00oroh-SvJ"
      },
      "execution_count": null,
      "outputs": []
    },
    {
      "cell_type": "code",
      "source": [
        "from sklearn.metrics import classification_report\n",
        "print(classification_report(label,model.predict(features)))"
      ],
      "metadata": {
        "trusted": true,
        "id": "RxcMDWBh-SvJ"
      },
      "execution_count": null,
      "outputs": []
    },
    {
      "cell_type": "code",
      "source": [
        "#Preparing ROC Curve (Receiver Operating Characteristics Curve)\n",
        "from sklearn.metrics import roc_curve\n",
        "from sklearn.metrics import roc_auc_score\n",
        "\n",
        "# predict probabilities\n",
        "probs = model.predict_proba(features)\n",
        "# keep probabilities for the positive outcome only\n",
        "probs = probs[:, 1]\n",
        "# calculate AUC\n",
        "auc = roc_auc_score(label, probs)\n",
        "print('AUC: %.3f' % auc)\n",
        "# calculate roc curve\n",
        "fpr, tpr, thresholds = roc_curve(label, probs)\n",
        "# plot no skill\n",
        "plt.plot([0, 1], [0, 1], linestyle='--')\n",
        "# plot the roc curve for the model\n",
        "plt.plot(fpr, tpr, marker='.')\n",
        "\n"
      ],
      "metadata": {
        "trusted": true,
        "id": "QjsZnnLB-SvL"
      },
      "execution_count": null,
      "outputs": []
    },
    {
      "cell_type": "code",
      "source": [
        "#Applying Decission Tree Classifier\n",
        "from sklearn.tree import DecisionTreeClassifier\n",
        "model3 = DecisionTreeClassifier(max_depth=5)\n",
        "model3.fit(X_train,y_train)"
      ],
      "metadata": {
        "trusted": true,
        "id": "XIW-W_-i-SvM"
      },
      "execution_count": null,
      "outputs": []
    },
    {
      "cell_type": "code",
      "source": [
        "model3.score(X_train,y_train)"
      ],
      "metadata": {
        "trusted": true,
        "id": "G1Vs8D_b-SvN"
      },
      "execution_count": null,
      "outputs": []
    },
    {
      "cell_type": "code",
      "source": [
        "model3.score(X_test,y_test)"
      ],
      "metadata": {
        "trusted": true,
        "id": "jH_gdVZ6-SvO"
      },
      "execution_count": null,
      "outputs": []
    },
    {
      "cell_type": "code",
      "source": [
        "#Applying Random Forest\n",
        "from sklearn.ensemble import RandomForestClassifier\n",
        "model4 = RandomForestClassifier(n_estimators=11)\n",
        "model4.fit(X_train,y_train)"
      ],
      "metadata": {
        "trusted": true,
        "id": "aaAF0j0u-SvP"
      },
      "execution_count": null,
      "outputs": []
    },
    {
      "cell_type": "code",
      "source": [
        "model4.score(X_train,y_train)"
      ],
      "metadata": {
        "trusted": true,
        "id": "TF8hhVLy-SvQ"
      },
      "execution_count": null,
      "outputs": []
    },
    {
      "cell_type": "code",
      "source": [
        "model4.score(X_test,y_test)"
      ],
      "metadata": {
        "trusted": true,
        "id": "PJaimXm5-SvR"
      },
      "execution_count": null,
      "outputs": []
    },
    {
      "cell_type": "code",
      "source": [
        "#Support Vector Classifier\n",
        "\n",
        "from sklearn.svm import SVC \n",
        "model5 = SVC(kernel='rbf',\n",
        "           gamma='auto')\n",
        "model5.fit(X_train,y_train)"
      ],
      "metadata": {
        "trusted": true,
        "id": "rrzCbmYl-SvS"
      },
      "execution_count": null,
      "outputs": []
    },
    {
      "cell_type": "code",
      "source": [
        "#model5.score(X_test,y_test).score(X_train,y_train)"
      ],
      "metadata": {
        "id": "ic36bAAe-SvT"
      },
      "execution_count": null,
      "outputs": []
    },
    {
      "cell_type": "code",
      "source": [
        "model5.score(X_test,y_test)"
      ],
      "metadata": {
        "trusted": true,
        "id": "cagybOOz-SvU"
      },
      "execution_count": null,
      "outputs": []
    },
    {
      "cell_type": "code",
      "source": [
        "#Applying K-NN\n",
        "from sklearn.neighbors import KNeighborsClassifier\n",
        "model2 = KNeighborsClassifier(n_neighbors=7,\n",
        "                             metric='minkowski',\n",
        "                             p = 2)\n",
        "model2.fit(X_train,y_train)"
      ],
      "metadata": {
        "trusted": true,
        "id": "KhQ4E-HX-SvV"
      },
      "execution_count": null,
      "outputs": []
    },
    {
      "cell_type": "code",
      "source": [
        "#Preparing ROC Curve (Receiver Operating Characteristics Curve)\n",
        "from sklearn.metrics import roc_curve\n",
        "from sklearn.metrics import roc_auc_score\n",
        "\n",
        "# predict probabilities\n",
        "probs = model2.predict_proba(features)\n",
        "# keep probabilities for the positive outcome only\n",
        "probs = probs[:, 1]\n",
        "# calculate AUC\n",
        "auc = roc_auc_score(label, probs)\n",
        "print('AUC: %.3f' % auc)\n",
        "# calculate roc curve\n",
        "fpr, tpr, thresholds = roc_curve(label, probs)\n",
        "print(\"True Positive Rate - {}, False Positive Rate - {} Thresholds - {}\".format(tpr,fpr,thresholds))\n",
        "# plot no skill\n",
        "plt.plot([0, 1], [0, 1], linestyle='--')\n",
        "# plot the roc curve for the model\n",
        "plt.plot(fpr, tpr, marker='.')\n",
        "plt.xlabel(\"False Positive Rate\")\n",
        "plt.ylabel(\"True Positive Rate\")\n"
      ],
      "metadata": {
        "trusted": true,
        "id": "4XsJKhoS-SvW"
      },
      "execution_count": null,
      "outputs": []
    },
    {
      "cell_type": "code",
      "source": [
        "#Precision Recall Curve for Logistic Regression\n",
        "\n",
        "from sklearn.metrics import precision_recall_curve\n",
        "from sklearn.metrics import f1_score\n",
        "from sklearn.metrics import auc\n",
        "from sklearn.metrics import average_precision_score\n",
        "# predict probabilities\n",
        "probs = model.predict_proba(features)\n",
        "# keep probabilities for the positive outcome only\n",
        "probs = probs[:, 1]\n",
        "# predict class values\n",
        "yhat = model.predict(features)\n",
        "# calculate precision-recall curve\n",
        "precision, recall, thresholds = precision_recall_curve(label, probs)\n",
        "# calculate F1 score\n",
        "f1 = f1_score(label, yhat)\n",
        "# calculate precision-recall AUC\n",
        "auc = auc(recall, precision)\n",
        "# calculate average precision score\n",
        "ap = average_precision_score(label, probs)\n",
        "print('f1=%.3f auc=%.3f ap=%.3f' % (f1, auc, ap))\n",
        "# plot no skill\n",
        "plt.plot([0, 1], [0.5, 0.5], linestyle='--')\n",
        "# plot the precision-recall curve for the model\n",
        "plt.plot(recall, precision, marker='.')"
      ],
      "metadata": {
        "trusted": true,
        "id": "td61EJO6-SvX"
      },
      "execution_count": null,
      "outputs": []
    },
    {
      "cell_type": "code",
      "source": [
        "#Precision Recall Curve for KNN\n",
        "\n",
        "from sklearn.metrics import precision_recall_curve\n",
        "from sklearn.metrics import f1_score\n",
        "from sklearn.metrics import auc\n",
        "from sklearn.metrics import average_precision_score\n",
        "# predict probabilities\n",
        "probs = model2.predict_proba(features)\n",
        "# keep probabilities for the positive outcome only\n",
        "probs = probs[:, 1]\n",
        "# predict class values\n",
        "yhat = model2.predict(features)\n",
        "# calculate precision-recall curve\n",
        "precision, recall, thresholds = precision_recall_curve(label, probs)\n",
        "# calculate F1 score\n",
        "f1 = f1_score(label, yhat)\n",
        "# calculate precision-recall AUC\n",
        "auc = auc(recall, precision)\n",
        "# calculate average precision score\n",
        "ap = average_precision_score(label, probs)\n",
        "print('f1=%.3f auc=%.3f ap=%.3f' % (f1, auc, ap))\n",
        "# plot no skill\n",
        "plt.plot([0, 1], [0.5, 0.5], linestyle='--')\n",
        "# plot the precision-recall curve for the model\n",
        "plt.plot(recall, precision, marker='.')"
      ],
      "metadata": {
        "trusted": true,
        "id": "xPFFd2Jo-SvY"
      },
      "execution_count": null,
      "outputs": []
    },
    {
      "cell_type": "code",
      "source": [
        "#Precision Recall Curve for Decission Tree Classifier\n",
        "\n",
        "from sklearn.metrics import precision_recall_curve\n",
        "from sklearn.metrics import f1_score\n",
        "from sklearn.metrics import auc\n",
        "from sklearn.metrics import average_precision_score\n",
        "# predict probabilities\n",
        "probs = model3.predict_proba(features)\n",
        "# keep probabilities for the positive outcome only\n",
        "probs = probs[:, 1]\n",
        "# predict class values\n",
        "yhat = model3.predict(features)\n",
        "# calculate precision-recall curve\n",
        "precision, recall, thresholds = precision_recall_curve(label, probs)\n",
        "# calculate F1 score\n",
        "f1 = f1_score(label, yhat)\n",
        "# calculate precision-recall AUC\n",
        "auc = auc(recall, precision)\n",
        "# calculate average precision score\n",
        "ap = average_precision_score(label, probs)\n",
        "print('f1=%.3f auc=%.3f ap=%.3f' % (f1, auc, ap))\n",
        "# plot no skill\n",
        "plt.plot([0, 1], [0.5, 0.5], linestyle='--')\n",
        "# plot the precision-recall curve for the model\n",
        "plt.plot(recall, precision, marker='.')"
      ],
      "metadata": {
        "trusted": true,
        "id": "_5DvlBNU-Sva"
      },
      "execution_count": null,
      "outputs": []
    },
    {
      "cell_type": "code",
      "source": [
        "#Precision Recall Curve for Random Forest\n",
        "\n",
        "from sklearn.metrics import precision_recall_curve\n",
        "from sklearn.metrics import f1_score\n",
        "from sklearn.metrics import auc\n",
        "from sklearn.metrics import average_precision_score\n",
        "# predict probabilities\n",
        "probs = model4.predict_proba(features)\n",
        "# keep probabilities for the positive outcome only\n",
        "probs = probs[:, 1]\n",
        "# predict class values\n",
        "yhat = model4.predict(features)\n",
        "# calculate precision-recall curve\n",
        "precision, recall, thresholds = precision_recall_curve(label, probs)\n",
        "# calculate F1 score\n",
        "f1 = f1_score(label, yhat)\n",
        "# calculate precision-recall AUC\n",
        "auc = auc(recall, precision)\n",
        "# calculate average precision score\n",
        "ap = average_precision_score(label, probs)\n",
        "print('f1=%.3f auc=%.3f ap=%.3f' % (f1, auc, ap))\n",
        "# plot no skill\n",
        "plt.plot([0, 1], [0.5, 0.5], linestyle='--')\n",
        "# plot the precision-recall curve for the model\n",
        "plt.plot(recall, precision, marker='.')"
      ],
      "metadata": {
        "trusted": true,
        "id": "E5K_WP9D-Svb"
      },
      "execution_count": null,
      "outputs": []
    }
  ]
}