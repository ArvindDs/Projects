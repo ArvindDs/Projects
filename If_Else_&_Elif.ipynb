{
  "cells": [
    {
      "cell_type": "markdown",
      "metadata": {
        "id": "view-in-github",
        "colab_type": "text"
      },
      "source": [
        "<a href=\"https://colab.research.google.com/github/ArvindDs/Projects/blob/main/If_Else_%26_Elif.ipynb\" target=\"_parent\"><img src=\"https://colab.research.google.com/assets/colab-badge.svg\" alt=\"Open In Colab\"/></a>"
      ]
    },
    {
      "cell_type": "markdown",
      "metadata": {
        "id": "Hk15OB7F_I0U"
      },
      "source": [
        "# If Else & Elif Conditionals In Python\n",
        "\n",
        "Let's start today's topic of “If else and elif in python”, with a definition:\n",
        "\n",
        "“If, else and elif statement can be defined as a multiway decision taken by our program due to the certain conditions in our code.”\n",
        "\n",
        "For few viewers, the term “elif” is new as they are not familiar with the word, and it is also not like most of the other words such as list or loops, etc., that have the same meaning in the English language and in Python programming. In fact, in English, “elif” means honest. But if you have ever done programming in any language, you must be familiar with the “else-if” statement; well, “elif” is just that.\n",
        "\n",
        "We are now coming towards a more formal sort of description. “If and else” are known as decision-making statements for our program. They are very similar to the decision-making we apply in our everyday life that depends on certain conditions. The everyday example is thoroughly explained in the tutorial, so I will not waste your time on that. Instead, I would now like to focus on more technical details.\n"
      ]
    },
    {
      "cell_type": "markdown",
      "metadata": {
        "id": "wdBEsK17_Mw9"
      },
      "source": [
        "# Let us focus a little on the working:\n",
        "\n",
        "Our compiler will execute the if statement to check whether it is true or false now; if it’s true, the compiler will execute the code in the “if” section of the program and skip the bunch of code written in “elif” and “else.” But if the “if” condition is false, then the compiler will move towards the elif section and keep on running the code until it finds a true statement(there could be multiple elif statements). If this does not happen, then it will execute the code written in the “else” part of the program.\n",
        "\n",
        " An “if” statement is a must because without an if, we cannot apply “else” or “else-if” statements. On the other hand else or else if statement is not necessary because if we have to check between only two conditions, we use only “if and else” and even though if we require code to run only when the statement returns true and do nothing if it returns false then an else statement is not required at all.  \n",
        "\n",
        "Now Let’s talk about some technical issues related to the working of decision statements:\n",
        "\n",
        "There is no limit to the number of conditions that we could use in our program. We can apply as many elif statements as we want, but we can only use one “else” and one “if” statement.\n",
        "\n",
        "## We can use nested if statements, i.e., if statement within an if statement. It is quite helpful in many cases.\n",
        "\n",
        "Decision statements can be written using logical conditions, which are:\n",
        "\n",
        "Equal to\n",
        "\n",
        "Not equal to\n",
        "\n",
        "Less than\n",
        "\n",
        "Greater than\n",
        "\n",
        "Greater than equal to\n",
        "\n",
        "Less than equal to\n",
        "\n",
        "We can also use Boolean or our custom-made conditions too."
      ]
    },
    {
      "cell_type": "markdown",
      "metadata": {
        "id": "CovwtHwe_ZNB"
      },
      "source": [
        "## **Bonus part:**\n",
        "\n",
        "As we know that an “if” statement is necessary, and you can’t have an “else” or “else-if” without it, but let’s suppose you have a large amount of code and for some reason, you have to remove the “if” part of the code (because maybe your code is better without it) but you do not want to do lots of coding again. Then the solution is just to write pass instead of the code, and this will help your code run without any error without executing the if part.\n",
        "\n",
        "So, this was all about if, else, and elif in Python. I hope all the concepts discussed till now are crystal clear to you. Feel free to ask your queries in the QnA section. I will try my best to clear your doubts."
      ]
    },
    {
      "cell_type": "code",
      "execution_count": null,
      "metadata": {
        "colab": {
          "background_save": true,
          "base_uri": "https://localhost:8080/"
        },
        "id": "VuQY2-hX_KA3",
        "outputId": "8cea95b0-9d95-4b82-91a9-a94aeb1a736e"
      },
      "outputs": [
        {
          "name": "stdout",
          "output_type": "stream",
          "text": [
            "What is your age?\n"
          ]
        }
      ],
      "source": [
        "# var1 = 6\n",
        "# var2 = 56\n",
        "# var3 = int(input())\n",
        "# if var3>var2:\n",
        "#     print(\"Greater\")\n",
        "# elif var3==var2:\n",
        "#     print(\"Equal\")\n",
        "# else:\n",
        "#     print(\"Lesser\")\n",
        "\n",
        "# list1 = [5, 7, 3]\n",
        "# print(15 not in list1)\n",
        "# if 15 not in list1:\n",
        "#     print(\"No its not in the list\")\n",
        "\n",
        "# Quiz\n",
        "print(\"What is your age?\")\n",
        "age = int(input())\n",
        "if age<18:\n",
        "    print(\"You cannot drive\")\n",
        "\n",
        "elif age==18:\n",
        "    print(\"We will think about you\")\n",
        "\n",
        "else:\n",
        "    print(\"You can drive\")\n",
        "\n"
      ]
    },
    {
      "cell_type": "code",
      "execution_count": null,
      "metadata": {
        "colab": {
          "base_uri": "https://localhost:8080/"
        },
        "id": "9XXM9_mYHqHb",
        "outputId": "7ce5b68c-251a-4e03-fbe9-0101e1a7afef"
      },
      "outputs": [
        {
          "name": "stdout",
          "output_type": "stream",
          "text": [
            "34\n",
            "Lesser\n"
          ]
        }
      ],
      "source": [
        "var1 = 6\n",
        "var2 = 56\n",
        "var3 = int(input())\n",
        "if var3>var2:\n",
        "  print(\"Greater\")\n",
        "elif var3==var2:\n",
        "     print(\"Equal\")\n",
        "else:\n",
        "    print(\"Lesser\")\n"
      ]
    },
    {
      "cell_type": "markdown",
      "metadata": {
        "id": "JCqOngVc_g4L"
      },
      "source": []
    }
  ],
  "metadata": {
    "colab": {
      "provenance": [],
      "authorship_tag": "ABX9TyMXJHnQhkNeJgD6/wFmijMJ",
      "include_colab_link": true
    },
    "kernelspec": {
      "display_name": "Python 3",
      "name": "python3"
    },
    "language_info": {
      "name": "python"
    }
  },
  "nbformat": 4,
  "nbformat_minor": 0
}