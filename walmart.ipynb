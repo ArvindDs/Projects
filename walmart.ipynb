{
  "nbformat": 4,
  "nbformat_minor": 0,
  "metadata": {
    "colab": {
      "provenance": [],
      "mount_file_id": "1p-4ShWkr6b7Vf6JRB9YtwTdeIDyl48ql",
      "authorship_tag": "ABX9TyOcgYjWhO8805+zn69zZ5Ae",
      "include_colab_link": true
    },
    "kernelspec": {
      "name": "python3",
      "display_name": "Python 3"
    },
    "language_info": {
      "name": "python"
    }
  },
  "cells": [
    {
      "cell_type": "markdown",
      "metadata": {
        "id": "view-in-github",
        "colab_type": "text"
      },
      "source": [
        "<a href=\"https://colab.research.google.com/github/ArvindDs/Projects/blob/main/walmart.ipynb\" target=\"_parent\"><img src=\"https://colab.research.google.com/assets/colab-badge.svg\" alt=\"Open In Colab\"/></a>"
      ]
    },
    {
      "cell_type": "code",
      "execution_count": null,
      "metadata": {
        "colab": {
          "base_uri": "https://localhost:8080/"
        },
        "id": "CRw_dV9dQPb3",
        "outputId": "b2db2ae0-d685-4084-dfa5-38cf50b86cc0"
      },
      "outputs": [
        {
          "output_type": "stream",
          "name": "stdout",
          "text": [
            "Mounted at /content/drive\n"
          ]
        }
      ],
      "source": [
        "from google.colab import  drive\n",
        "drive.mount('/content/drive')"
      ]
    },
    {
      "cell_type": "code",
      "source": [
        "import numpy as np\n",
        "import pandas as pd\n",
        "\n",
        "from datetime import date\n",
        "import matplotlib.pyplot as plt\n",
        "from matplotlib import style\n",
        "import seaborn as sns  \n",
        "\n",
        "%matplotlib inline"
      ],
      "metadata": {
        "id": "n45BrQrYRodC"
      },
      "execution_count": null,
      "outputs": []
    },
    {
      "cell_type": "code",
      "source": [
        "data = pd.read_csv('/content/drive/MyDrive/Colab Notebooks/Walmart_Store_sales.csv')"
      ],
      "metadata": {
        "id": "DXP0AZD-RsUH"
      },
      "execution_count": null,
      "outputs": []
    },
    {
      "cell_type": "markdown",
      "source": [],
      "metadata": {
        "id": "rAEaobdTQgBZ"
      }
    },
    {
      "cell_type": "code",
      "source": [
        "data.head()  #default displays the First Five rows from the dataset"
      ],
      "metadata": {
        "id": "0rUasvteSTV-"
      },
      "execution_count": null,
      "outputs": []
    },
    {
      "cell_type": "code",
      "source": [
        "data.info() #gives the basics information about our dataset like dimension, No. of nulls , datatype of the columns."
      ],
      "metadata": {
        "id": "GHWAIoubYz-s"
      },
      "execution_count": null,
      "outputs": []
    },
    {
      "cell_type": "code",
      "source": [
        "data.max() #Finds the Maximum value in each column "
      ],
      "metadata": {
        "id": "QDqaGqKYZA8f"
      },
      "execution_count": null,
      "outputs": []
    },
    {
      "cell_type": "markdown",
      "source": [
        "QUESTION 1 :- Which store has maximum sales in this dataset?\n",
        "Now we are going to find answer for this from our data ."
      ],
      "metadata": {
        "id": "zF6kvhOiZMGM"
      }
    },
    {
      "cell_type": "code",
      "source": [
        "data.loc[data['Weekly_Sales'] ==  data['Weekly_Sales'].max()] # used to find the row meeting the specific condition, Here we are checking in column Weekly_Sales which row or store in particular is having the maximum Weekly_Sales."
      ],
      "metadata": {
        "id": "8GyS5ntSZNsn"
      },
      "execution_count": null,
      "outputs": []
    },
    {
      "cell_type": "code",
      "source": [
        "#From above Figure we see that Store 14 has the maximum weekly sales."
      ],
      "metadata": {
        "id": "JOHiup8YZTy5"
      },
      "execution_count": null,
      "outputs": []
    },
    {
      "cell_type": "markdown",
      "source": [
        "QUESTION 2 :- Which store has maximum standard deviation i.e., the sales vary a lot. Also, find out the coefficient of variance (C0V)\n",
        "In simple terms CoV is ratio of standard deviation to the mean."
      ],
      "metadata": {
        "id": "YuOROEmzZjXy"
      }
    },
    {
      "cell_type": "code",
      "source": [
        "#Here i am grouping by store and finding the standard deviation and mean of each store.\n",
        "maxstd=pd.DataFrame(data.groupby('Store').agg({'Weekly_Sales':['std','mean']}))\n",
        "#Just resetting the index.\n",
        "maxstd = maxstd.reset_index()\n",
        "#Now we know that CoV is std/ mean we are doing this for each store.\n",
        "maxstd['CoV'] =(maxstd[('Weekly_Sales','std')]/maxstd[('Weekly_Sales','mean')]) *100\n",
        "#finding the store with maximum standard deviation.\n",
        "maxstd.loc[maxstd[('Weekly_Sales','std')]==maxstd[('Weekly_Sales','std')].max()]"
      ],
      "metadata": {
        "id": "3jw0qyBLZk4f"
      },
      "execution_count": null,
      "outputs": []
    },
    {
      "cell_type": "markdown",
      "source": [
        "From above Figure we can conclude that sales in store 14 vary a lot\n",
        "\n",
        "\n",
        "\n",
        "QUESTION 3 :- Which store/s has good quarterly growth rate in Q3’2012."
      ],
      "metadata": {
        "id": "K83g1rroZyzx"
      }
    },
    {
      "cell_type": "code",
      "source": [
        "#Converting the data type of date column to dateTime \n",
        "data['Date'] = pd.to_datetime(data['Date'])\n",
        "#defining the start and end date of Q3 and Q2\n",
        "Q3_date_from = pd.Timestamp(date(2012,7,1))\n",
        "Q3_date_to = pd.Timestamp(date(2012,9,30))\n",
        "Q2_date_from = pd.Timestamp(date(2012,4,1))\n",
        "Q2_date_to = pd.Timestamp(date(2012,6,30))\n",
        "#Collecting the data of Q3 and Q2 from original dataset.\n",
        "Q2data=data[(data['Date'] > Q2_date_from) & (data['Date'] < Q2_date_to)]\n",
        "Q3data=data[(data['Date'] > Q3_date_from) & (data['Date'] < Q3_date_to)]\n",
        "#finding the sum weekly sales of each store in Q2\n",
        "Q2 = pd.DataFrame(Q2data.groupby('Store')['Weekly_Sales'].sum())\n",
        "Q2.reset_index(inplace=True)\n",
        "Q2.rename(columns={'Weekly_Sales': 'Q2_Weekly_Sales'},inplace=True)\n",
        "#finding the sum weekly sales of each store in Q2\n",
        "Q3 = pd.DataFrame(Q3data.groupby('Store')['Weekly_Sales'].sum())\n",
        "Q3.reset_index(inplace=True)\n",
        "Q3.rename(columns={'Weekly_Sales': 'Q3_Weekly_Sales'},inplace=True)\n",
        "#mergeing Q2 and Q3 data on Store as a common column\n",
        "Q3_Growth= Q2.merge(Q3,how='inner',on='Store')"
      ],
      "metadata": {
        "id": "D9GpyW3bZzr-"
      },
      "execution_count": null,
      "outputs": []
    },
    {
      "cell_type": "markdown",
      "source": [
        "Growth rate formula is defined as the ratio of difference in present value to past value by past value whole multiplied with 100 (since it is in percentage)\n",
        "((Present value — Past value )/Past value )*100"
      ],
      "metadata": {
        "id": "1z7QR3CEaFb7"
      }
    },
    {
      "cell_type": "code",
      "source": [
        "#Calculating Growth rate of each Store and collecting it into a dataframe  \n",
        "Q3_Growth['Growth_Rate'] =(Q3_Growth['Q3_Weekly_Sales'] - Q3_Growth['Q2_Weekly_Sales'])/Q3_Growth['Q2_Weekly_Sales']\n",
        "Q3_Growth['Growth_Rate']=round(Q3_Growth['Growth_Rate'],2)\n",
        "Q3_Growth.sort_values('Growth_Rate',ascending=False).head(1)"
      ],
      "metadata": {
        "id": "3N8oz9uxaJgP"
      },
      "execution_count": null,
      "outputs": []
    },
    {
      "cell_type": "code",
      "source": [
        "Q3_Growth.sort_values('Growth_Rate',ascending=False).tail(1)"
      ],
      "metadata": {
        "id": "eX_9dKYhbc8i"
      },
      "execution_count": null,
      "outputs": []
    },
    {
      "cell_type": "markdown",
      "source": [
        "From above tables we can infer that Q3 growth rate is in losses .\n",
        "the Store 16 has the least loss of 3% compared the other stores and store 14 has highest loss of 18%.\n",
        "\n",
        "\n",
        "# QUESTION 4:- Some holidays have a negative impact on sales. Find out holidays which have higher sales than the mean sales in non-holiday season for all stores together."
      ],
      "metadata": {
        "id": "LiqR2i8vbjrB"
      }
    },
    {
      "cell_type": "code",
      "source": [
        "#finding the mean sales of non holiday and holiday \n",
        "data.groupby('Holiday_Flag')['Weekly_Sales'].mean()"
      ],
      "metadata": {
        "id": "XcHf4NBebssf"
      },
      "execution_count": null,
      "outputs": []
    },
    {
      "cell_type": "code",
      "source": [
        "#marking the holiday dates \n",
        "Christmas1 = pd.Timestamp(date(2010,12,31) )\n",
        "Christmas2 = pd.Timestamp(date(2011,12,30) )\n",
        "Christmas3 = pd.Timestamp(date(2012,12,28) )\n",
        "Christmas4 = pd.Timestamp(date(2013,12,27) )\n",
        "\n",
        "Thanksgiving1=pd.Timestamp(date(2010,11,26) )\n",
        "Thanksgiving2=pd.Timestamp(date(2011,11,25) )\n",
        "Thanksgiving3=pd.Timestamp(date(2012,11,23) )\n",
        "Thanksgiving4=pd.Timestamp(date(2013,11,29) )\n",
        "\n",
        "LabourDay1=pd.Timestamp(date(2010,2,10) )\n",
        "LabourDay2=pd.Timestamp(date(2011,2,9) )\n",
        "LabourDay3=pd.Timestamp(date(2012,2,7) )\n",
        "LabourDay4=pd.Timestamp(date(2013,2,6) )\n",
        "\n",
        "SuperBowl1=pd.Timestamp(date(2010,9,12) )\n",
        "SuperBowl2=pd.Timestamp(date(2011,9,11) )\n",
        "SuperBowl3=pd.Timestamp(date(2012,9,10) )\n",
        "SuperBowl4=pd.Timestamp(date(2013,9,8) )\n",
        "\n",
        "#Calculating the mean sales during the holidays\n",
        "Christmas_mean_sales=data[(data['Date'] == Christmas1) | (data['Date'] == Christmas2) | (data['Date'] == Christmas3) | (data['Date'] == Christmas4)]\n",
        "Thanksgiving_mean_sales=data[(data['Date'] == Thanksgiving1) | (data['Date'] == Thanksgiving2) | (data['Date'] == Thanksgiving3) | (data['Date'] == Thanksgiving4)]\n",
        "LabourDay_mean_sales=data[(data['Date'] == LabourDay1) | (data['Date'] == LabourDay2) | (data['Date'] == LabourDay3) | (data['Date'] == LabourDay4)]\n",
        "SuperBowl_mean_sales=data[(data['Date'] == SuperBowl1) | (data['Date'] == SuperBowl2) | (data['Date'] == SuperBowl3) | (data['Date'] == SuperBowl4)]\n",
        "#\n",
        "list_of_mean_sales = {'Christmas_mean_sales' : round(Christmas_mean_sales['Weekly_Sales'].mean(),2),\n",
        "'Thanksgiving_mean_sales': round(Thanksgiving_mean_sales['Weekly_Sales'].mean(),2),\n",
        "'LabourDay_mean_sales' : round(LabourDay_mean_sales['Weekly_Sales'].mean(),2),\n",
        "'SuperBowl_mean_sales':round(SuperBowl_mean_sales['Weekly_Sales'].mean(),2),\n",
        "'Non holiday weekly sales' : data[data['Holiday_Flag'] == 0 ]['Weekly_Sales'].mean()}\n",
        "list_of_mean_sales"
      ],
      "metadata": {
        "id": "35w-Mz2Ab2mE"
      },
      "execution_count": null,
      "outputs": []
    },
    {
      "cell_type": "markdown",
      "source": [
        "From above Figure we can infer that the mean sales of thanks giving is more than the non holiday weekly sales .\n",
        "\n",
        "\n",
        "**QUESTION 5** :-Provide a Monthly,Quaterly and Semester view of sales in units and give insights."
      ],
      "metadata": {
        "id": "SywP_OLYb9I6"
      }
    },
    {
      "cell_type": "code",
      "source": [
        "#Monthly sales \n",
        "monthly = data.groupby(pd.Grouper(key='Date', freq='1M')).sum()# groupby each 1 month\n",
        "monthly=monthly.reset_index()\n",
        "fig, ax = plt.subplots(figsize=(10,8))\n",
        "X = monthly['Date']\n",
        "Y = monthly['Weekly_Sales']\n",
        "plt.plot(X,Y)\n",
        "plt.title('Month Wise Sales')\n",
        "plt.xlabel('Monthly')\n",
        "plt.ylabel('Weekly_Sales')\n",
        "#Quaterly Sales \n",
        "Quaterly = data.groupby(pd.Grouper(key='Date', freq='3M')).sum()\n",
        "Quaterly = Quaterly.reset_index()\n",
        "fig, ax = plt.subplots(figsize=(10,8))\n",
        "X = Quaterly['Date']\n",
        "Y = Quaterly['Weekly_Sales']\n",
        "plt.plot(X,Y)\n",
        "plt.title('Quaterly Wise Sales')\n",
        "plt.xlabel('Quaterly')\n",
        "plt.ylabel('Weekly_Sales')\n",
        "#Semester Sales \n",
        "Semester = data.groupby(pd.Grouper(key='Date', freq='6M')).sum()\n",
        "Semester = Semester.reset_index()\n",
        "fig, ax = plt.subplots(figsize=(10,8))\n",
        "X = Semester['Date']\n",
        "Y = Semester['Weekly_Sales']\n",
        "plt.plot(X,Y)\n",
        "plt.title('Semester Wise Sales')\n",
        "plt.xlabel('Semester')\n",
        "plt.ylabel('Weekly_Sales')"
      ],
      "metadata": {
        "id": "T-pDlz-ZcBGn"
      },
      "execution_count": null,
      "outputs": []
    },
    {
      "cell_type": "markdown",
      "source": [
        "1. We can observe from the Monthly Sales Graph that highest sum of sales is recorded in between jan-2011 to march-2011.\n",
        "2. We can observe from the Quarterly Sales Graph that higest sum of sales is recorded in Q1 of 2011 and 2012.\n",
        "3. We can Observe from Semester Sales graph that at beginning of 1st sem of 2010 and 1st sem of 2013 sales are lowest .\n",
        "428 \n",
        "\n",
        "\n",
        "3"
      ],
      "metadata": {
        "id": "434q7xzecapa"
      }
    }
  ]
}