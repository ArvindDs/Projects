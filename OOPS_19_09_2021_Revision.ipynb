{
  "nbformat": 4,
  "nbformat_minor": 0,
  "metadata": {
    "colab": {
      "provenance": [],
      "authorship_tag": "ABX9TyPtMv9qwoBD82HuNL2Qnk3X",
      "include_colab_link": true
    },
    "kernelspec": {
      "name": "python3",
      "display_name": "Python 3"
    },
    "language_info": {
      "name": "python"
    }
  },
  "cells": [
    {
      "cell_type": "markdown",
      "metadata": {
        "id": "view-in-github",
        "colab_type": "text"
      },
      "source": [
        "<a href=\"https://colab.research.google.com/github/ArvindDs/Projects/blob/main/OOPS_19_09_2021_Revision.ipynb\" target=\"_parent\"><img src=\"https://colab.research.google.com/assets/colab-badge.svg\" alt=\"Open In Colab\"/></a>"
      ]
    },
    {
      "cell_type": "markdown",
      "metadata": {
        "id": "MzNc28SnjfV4"
      },
      "source": [
        "19.09.2021 OOPS\n",
        "1.  class  and objects\n",
        "2. class methods\n",
        "3. stat method\n",
        "4. dunder  method or magic method\n",
        "5. Inheritance\n",
        "6. polymorphism\n",
        "8. Abstraction \n",
        "9.  Encapsultion"
      ]
    },
    {
      "cell_type": "code",
      "metadata": {
        "id": "iF2e6bfr6-cd"
      },
      "source": [],
      "execution_count": null,
      "outputs": []
    },
    {
      "cell_type": "code",
      "source": [
        "class Employee:\n",
        "    # class variables\n",
        "    company_name = 'ABC Company'\n",
        "\n",
        "    # constructor to initialize the object\n",
        "    def __init__(self, name, salary):\n",
        "        # instance variables\n",
        "        self.name = name\n",
        "        self.salary = salary\n",
        "\n",
        "    # instance method\n",
        "    def show(self):\n",
        "        print('Employee:', self.name, self.salary, self.company_name)\n",
        "\n",
        "# create first object\n",
        "emp1 = Employee(\"Harry\", 12000)\n",
        "emp1.show()\n",
        "\n",
        "# create second object\n",
        "emp2 = Employee(\"Emma\", 10000)\n",
        "emp2.show()\n"
      ],
      "metadata": {
        "id": "3bBQm6eVBaui",
        "outputId": "807d41f5-0ea6-45a0-bcec-6b28f074f531",
        "colab": {
          "base_uri": "https://localhost:8080/"
        }
      },
      "execution_count": null,
      "outputs": [
        {
          "output_type": "stream",
          "name": "stdout",
          "text": [
            "Employee: Harry 12000 ABC Company\n",
            "Employee: Emma 10000 ABC Company\n"
          ]
        }
      ]
    },
    {
      "cell_type": "markdown",
      "metadata": {
        "id": "zkWh6baKg1TR"
      },
      "source": []
    },
    {
      "cell_type": "markdown",
      "metadata": {
        "id": "X5nZ7gP-oqWs"
      },
      "source": [
        "Exercise 1 creating objects and instant by constructor\n"
      ]
    },
    {
      "cell_type": "code",
      "metadata": {
        "colab": {
          "base_uri": "https://localhost:8080/",
          "height": 130
        },
        "id": "ClH2Z_s1jp9R",
        "outputId": "f40f9f9e-959b-424f-8b93-cd9197864d9d"
      },
      "source": [
        "class Employee():\n",
        "     pass\n",
        "   def__init__(self,fname,lname,salary):       # def ka color blue nahi hua def likhte hi ek tab lagan hai \n",
        "     \n",
        "     self.fname =fnamme\n",
        "     self.lname=lname\n",
        "     self.salaryy=salary                        # spelling wrong\n"
      ],
      "execution_count": null,
      "outputs": [
        {
          "output_type": "error",
          "ename": "IndentationError",
          "evalue": "ignored",
          "traceback": [
            "\u001b[0;36m  File \u001b[0;32m\"<ipython-input-1-10bc9168849c>\"\u001b[0;36m, line \u001b[0;32m3\u001b[0m\n\u001b[0;31m    def__init__(self,fname,lname,salary):       # def ka color blue nahi hua def likhte hi ek tab lagan hai\u001b[0m\n\u001b[0m                                                                                                            ^\u001b[0m\n\u001b[0;31mIndentationError\u001b[0m\u001b[0;31m:\u001b[0m unindent does not match any outer indentation level\n"
          ]
        }
      ]
    },
    {
      "cell_type": "code",
      "metadata": {
        "colab": {
          "base_uri": "https://localhost:8080/",
          "height": 130
        },
        "id": "dg2ZvMKZkTr3",
        "outputId": "a7533d25-9852-4bb0-db4d-41e1e2412f64"
      },
      "source": [
        "class Employee():\n",
        "     pass\n",
        "      \n",
        "   def __init__(self,fname,lname,salary):\n",
        "\n",
        "     self.fname =fnamme\n",
        "     self.lname=lname\n",
        "     self.salary=salary"
      ],
      "execution_count": null,
      "outputs": [
        {
          "output_type": "error",
          "ename": "IndentationError",
          "evalue": "ignored",
          "traceback": [
            "\u001b[0;36m  File \u001b[0;32m\"<ipython-input-2-f3dfde4644e2>\"\u001b[0;36m, line \u001b[0;32m4\u001b[0m\n\u001b[0;31m    def __init__(self,fname,lname,salary):\u001b[0m\n\u001b[0m                                          ^\u001b[0m\n\u001b[0;31mIndentationError\u001b[0m\u001b[0;31m:\u001b[0m unindent does not match any outer indentation level\n"
          ]
        }
      ]
    },
    {
      "cell_type": "code",
      "metadata": {
        "id": "RrG7F_mYlxMh"
      },
      "source": [
        "class Employee:\n",
        "  pass\n",
        "  def __init__(self,fname,lname,salary):\n",
        "      self.fname=fname\n",
        "      self.lname=lname\n",
        "      self.salary=salary\n",
        "      \n"
      ],
      "execution_count": null,
      "outputs": []
    },
    {
      "cell_type": "code",
      "metadata": {
        "colab": {
          "base_uri": "https://localhost:8080/",
          "height": 181
        },
        "id": "5aHuN9ynmpp2",
        "outputId": "3db967d9-c2b4-4d25-8b6f-eca158728ee8"
      },
      "source": [
        "harry= Employee(harry,'jackson',44000)    # harry main string nahi lagaya mean it is not defined\n",
        "rohan= Employee( 'rohan','das',44000)"
      ],
      "execution_count": null,
      "outputs": [
        {
          "output_type": "error",
          "ename": "NameError",
          "evalue": "ignored",
          "traceback": [
            "\u001b[0;31m---------------------------------------------------------------------------\u001b[0m",
            "\u001b[0;31mNameError\u001b[0m                                 Traceback (most recent call last)",
            "\u001b[0;32m<ipython-input-4-ed3bbe63b93b>\u001b[0m in \u001b[0;36m<module>\u001b[0;34m()\u001b[0m\n\u001b[0;32m----> 1\u001b[0;31m \u001b[0mharry\u001b[0m\u001b[0;34m=\u001b[0m \u001b[0mEmployee\u001b[0m\u001b[0;34m(\u001b[0m\u001b[0mharry\u001b[0m\u001b[0;34m,\u001b[0m\u001b[0;34m'jackson'\u001b[0m\u001b[0;34m,\u001b[0m\u001b[0;36m44000\u001b[0m\u001b[0;34m)\u001b[0m    \u001b[0;31m# harry main string nahi lagaya mean it is not defined\u001b[0m\u001b[0;34m\u001b[0m\u001b[0;34m\u001b[0m\u001b[0m\n\u001b[0m\u001b[1;32m      2\u001b[0m \u001b[0mrohan\u001b[0m\u001b[0;34m=\u001b[0m \u001b[0mEmployee\u001b[0m\u001b[0;34m(\u001b[0m \u001b[0;34m'rohan'\u001b[0m\u001b[0;34m,\u001b[0m\u001b[0;34m'das'\u001b[0m\u001b[0;34m,\u001b[0m\u001b[0;36m44000\u001b[0m\u001b[0;34m)\u001b[0m\u001b[0;34m\u001b[0m\u001b[0;34m\u001b[0m\u001b[0m\n",
            "\u001b[0;31mNameError\u001b[0m: name 'harry' is not defined"
          ]
        }
      ]
    },
    {
      "cell_type": "code",
      "metadata": {
        "id": "qo98z3qwnVxR"
      },
      "source": [
        "harry= Employee('harry','jackson'),44000)     # jackson ke baad bracket close ker  diya"
      ],
      "execution_count": null,
      "outputs": []
    },
    {
      "cell_type": "code",
      "metadata": {
        "id": "6WF8Evk3n0Gw"
      },
      "source": [
        "harry= Employee('harry','jackson',44000)\n",
        "rohan= Employee('rohan','das',44000)"
      ],
      "execution_count": null,
      "outputs": []
    },
    {
      "cell_type": "code",
      "metadata": {
        "id": "mjijS4U8oNWU"
      },
      "source": [
        "print(harry,rohan)"
      ],
      "execution_count": null,
      "outputs": []
    },
    {
      "cell_type": "code",
      "metadata": {
        "id": "IkK4WjnwoUae"
      },
      "source": [
        "print(harry.salary)"
      ],
      "execution_count": null,
      "outputs": []
    },
    {
      "cell_type": "code",
      "metadata": {
        "id": "1QdjXezkoZ35"
      },
      "source": [
        "print(harry.fname)\n",
        "print(harry.lname)"
      ],
      "execution_count": null,
      "outputs": []
    },
    {
      "cell_type": "markdown",
      "metadata": {
        "id": "91DZz1BXo3Fm"
      },
      "source": [
        "Exercise 2 Creating class variables"
      ]
    },
    {
      "cell_type": "code",
      "metadata": {
        "id": "MF92CYRDo-XS"
      },
      "source": [
        "class Employee:\n",
        "  increment=1.5\n",
        "  def __init__(self,fname,lnae,salary):\n",
        "    self.salary=salary\n",
        "    self.fnaame=fname\n",
        "    self.lname=lname\n",
        "  def increase(self):\n",
        "      self.salary=self.salary*Employee.salary         # Employee.salary ki jagah Employee.increment hona chahiye kyon ki aap \n",
        "      #increment lagana chah rahehain and tab hi increase function increment se  link karega issliye harryincrease\n",
        "      # main Employee object has no attribute increaseaa  raha hai\n",
        "      \n",
        "    "
      ],
      "execution_count": null,
      "outputs": []
    },
    {
      "cell_type": "code",
      "metadata": {
        "id": "RC-MLyjWqeda"
      },
      "source": [
        "harry.increase()"
      ],
      "execution_count": null,
      "outputs": []
    },
    {
      "cell_type": "code",
      "metadata": {
        "id": "L00Pcrwgr2kc"
      },
      "source": [
        "class Employee():\n",
        "  increment=1.5\n",
        "  def __init__(self,fname,lname,salary):\n",
        "    self.fname=fname\n",
        "    self.lname=lname\n",
        "    self.salary=salary\n",
        "  def increase(self):\n",
        "    self.salary=self.salary*Employee.increment\n",
        "    "
      ],
      "execution_count": null,
      "outputs": []
    },
    {
      "cell_type": "code",
      "metadata": {
        "id": "sQXW_1j4tUEr"
      },
      "source": [
        "harry=Employee('harry','jackson',44000)\n",
        "rohan=Employee('rohan','das',44000)\n"
      ],
      "execution_count": null,
      "outputs": []
    },
    {
      "cell_type": "code",
      "metadata": {
        "id": "zIxkBMbZt3ty"
      },
      "source": [
        "print(harry,rohan)"
      ],
      "execution_count": null,
      "outputs": []
    },
    {
      "cell_type": "code",
      "metadata": {
        "id": "UhblOpmhvcVh"
      },
      "source": [
        "print(harry.salary)"
      ],
      "execution_count": null,
      "outputs": []
    },
    {
      "cell_type": "code",
      "metadata": {
        "id": "xU4kPoXysy1Z"
      },
      "source": [
        "harry.increase()"
      ],
      "execution_count": null,
      "outputs": []
    },
    {
      "cell_type": "code",
      "metadata": {
        "id": "TU4_PE88vSCH"
      },
      "source": [
        "rohan.increase()\n"
      ],
      "execution_count": null,
      "outputs": []
    },
    {
      "cell_type": "code",
      "metadata": {
        "id": "Qd6qZCmNvo-C"
      },
      "source": [
        "print(harry.salary)"
      ],
      "execution_count": null,
      "outputs": []
    },
    {
      "cell_type": "markdown",
      "metadata": {
        "id": "JOxWCTUqv1nh"
      },
      "source": [
        "Exercise 3  based on object has nothing to do with number of employees. it is  the criteria of the class "
      ]
    },
    {
      "cell_type": "code",
      "metadata": {
        "id": "VAwY936MwTte"
      },
      "source": [
        "class Employee():\n",
        "  increment=1.5\n",
        "  no_of_employees=0\n",
        "  def __init__(self,fname,lname,salary):\n",
        "    self.salary=salary\n",
        "    self.fname=fname\n",
        "    self.lname=lname\n",
        "    Employee.no_of_employees +=1       # do not write here self as number of employees is not a part of instance variable\n",
        "  def  increase(self):\n",
        "    # Employee object has no attribute increase. Therefore connect increase with increment\n",
        "    self.salary=self.salary*Employee.increment\n"
      ],
      "execution_count": null,
      "outputs": []
    },
    {
      "cell_type": "code",
      "metadata": {
        "id": "NqaSvffIy7lE"
      },
      "source": [
        "harry=Employee('harry','jackson',44000)\n",
        "rohan=Employee('rohan','das',44000)\n",
        "print(harry,rohan)"
      ],
      "execution_count": null,
      "outputs": []
    },
    {
      "cell_type": "code",
      "metadata": {
        "id": "lTqh10ipxP3c"
      },
      "source": [
        "harry.increase()\n"
      ],
      "execution_count": null,
      "outputs": []
    },
    {
      "cell_type": "code",
      "metadata": {
        "id": "zz2Jmg5pzXla"
      },
      "source": [
        "Employee.no_of_employees"
      ],
      "execution_count": null,
      "outputs": []
    },
    {
      "cell_type": "markdown",
      "metadata": {
        "id": "TPqp-UFn27oz"
      },
      "source": [
        "Exercise 4 class  method"
      ]
    },
    {
      "cell_type": "code",
      "metadata": {
        "id": "j5iaYyO12_vd"
      },
      "source": [
        "class Employee():\n",
        "  increment=1.5\n",
        "  \n",
        "  def __init__(self,fname,lname,salary):\n",
        "    self.salary=salary\n",
        "    self.fname=fname\n",
        "    self.lname=lname\n",
        "  def increase(self):\n",
        "    self.salary=self.salary*Employee.increment\n",
        "  @classmethod\n",
        "  def change_in_increment (cls,amount):\n",
        "    cls.change_in_increment=amount # yahhan per cls.increment hoga kyon ki increment ko chane kerna hai\n"
      ],
      "execution_count": null,
      "outputs": []
    },
    {
      "cell_type": "code",
      "metadata": {
        "id": "7mJQSEHp6SbV"
      },
      "source": [
        "harry=Employee('harry','jackson',44000)\n",
        "rohan=Employee('rohan','jackson',44000)\n",
        "print(harry,rohan)\n"
      ],
      "execution_count": null,
      "outputs": []
    },
    {
      "cell_type": "code",
      "metadata": {
        "id": "0HcSwY2K91y7"
      },
      "source": [
        "print(harry.salary)"
      ],
      "execution_count": null,
      "outputs": []
    },
    {
      "cell_type": "code",
      "metadata": {
        "id": "VwHTkFJ7-bOc"
      },
      "source": [
        "print(harry.increment) # change in increment 10  nahi hua kyon ki change in increment ke bad harry.increase()likhana tha"
      ],
      "execution_count": null,
      "outputs": []
    },
    {
      "cell_type": "code",
      "metadata": {
        "id": "-RihCALm_rNs"
      },
      "source": [
        "harry.change_in_increment(10)\n",
        "harry.increase()"
      ],
      "execution_count": null,
      "outputs": []
    },
    {
      "cell_type": "code",
      "metadata": {
        "id": "nET0QZHRAmvr"
      },
      "source": [
        "# galat aa raha hai why? aana chaihiye 440000..\n",
        "print(harry.salary)\n"
      ],
      "execution_count": null,
      "outputs": []
    },
    {
      "cell_type": "code",
      "metadata": {
        "id": "ke6TZHzjD5QZ"
      },
      "source": [
        "# Sudhara\n",
        "class Employee():\n",
        "  increment=1.5\n",
        "  \n",
        "  def __init__(self,fname,lname,salary):\n",
        "    self.salary=salary\n",
        "    self.fname=fname\n",
        "    self.lname=lname\n",
        "  def increase(self):\n",
        "    self.salary=self.salary*Employee.increment\n",
        "  @classmethod\n",
        "  def change_in_increment (cls,amount):\n",
        "    cls.increment= amount\n"
      ],
      "execution_count": null,
      "outputs": []
    },
    {
      "cell_type": "code",
      "metadata": {
        "id": "kI5-VOWZEPxi"
      },
      "source": [
        "harry=Employee('harry','jackson',44000)\n",
        "rohan=Employee('rohan','jackson',44000)\n",
        "print(harry,rohan)\n"
      ],
      "execution_count": null,
      "outputs": []
    },
    {
      "cell_type": "code",
      "metadata": {
        "id": "NrXHxo-rESXj"
      },
      "source": [
        "harry.change_in_increment(15)\n",
        "harry.increase()"
      ],
      "execution_count": null,
      "outputs": []
    },
    {
      "cell_type": "code",
      "metadata": {
        "id": "CPlGwK9KEdO3"
      },
      "source": [
        "print(harry.salary)"
      ],
      "execution_count": null,
      "outputs": []
    },
    {
      "cell_type": "markdown",
      "metadata": {
        "id": "Is2Kz68BFFGI"
      },
      "source": [
        "# Exercise 5 Stat **Method** "
      ]
    },
    {
      "cell_type": "code",
      "metadata": {
        "id": "fKnIHXUbFXre"
      },
      "source": [
        "class Employee:\n",
        "  increment=1.5\n",
        "  def __init__(self,fname,lname,salary):\n",
        "    self.fname=fname\n",
        "    self.lname=lname\n",
        "    self.salary=salary\n",
        "  def increase():\n",
        "    self.salary=self.salary*Employee.increment\n",
        "  @classmethod\n",
        "  def change_in_increment(clas,amount):\n",
        "    cls.increment=amount\n",
        "  @staticmethod\n",
        "  def office_open(day):                   ## maine yahan per day ko define nahi kiya\n",
        "    if office_open(sunday):                # string hai 'sunday'\n",
        "      return false                       ## False hoga na ki false\n",
        "    else:\n",
        "      return true                        ## True hoga na ki true\n",
        "\n",
        "  "
      ],
      "execution_count": null,
      "outputs": []
    },
    {
      "cell_type": "code",
      "metadata": {
        "id": "48aIFXarLoX7"
      },
      "source": [
        "Employee.office_open(sunday) # string hai sunday lagao' sunday'"
      ],
      "execution_count": null,
      "outputs": []
    },
    {
      "cell_type": "code",
      "metadata": {
        "id": "p81XE8QcMZEM"
      },
      "source": [
        "class Employee:\n",
        "  increment=1.5\n",
        "  def __init__(self,fname,lname,salary):\n",
        "    self.fname=fname\n",
        "    self.lname=lname\n",
        "    self.salary=salary\n",
        "  def increase():\n",
        "    self.salary=self.salary*Employee.increment\n",
        "  @classmethod\n",
        "  def change_in_increment(cls,amount):\n",
        "    cls.increment=amount\n",
        "  @staticmethod\n",
        "  def office_open(day):\n",
        "                       \n",
        "    if day=='sunday':               # sunday string hai \n",
        "      return False\n",
        "    else:\n",
        "      return True\n"
      ],
      "execution_count": null,
      "outputs": []
    },
    {
      "cell_type": "code",
      "metadata": {
        "id": "28IGaAezM4G_"
      },
      "source": [
        "print(Employee.office_open('monday'))"
      ],
      "execution_count": null,
      "outputs": []
    },
    {
      "cell_type": "code",
      "metadata": {
        "id": "eniiFfOQOpGj"
      },
      "source": [
        "harry.change_in_increment(12)\n",
        "harry.increase()\n"
      ],
      "execution_count": null,
      "outputs": []
    },
    {
      "cell_type": "markdown",
      "metadata": {
        "id": "ahblDdvgTMSF"
      },
      "source": [
        "Exercise - 6 INHERITANCE:: meaning parent hamare paas employee hain ab ham inn employee mmain se kutch employee jo programmer hain ke dataa feed ker ek sub class create karainge "
      ]
    },
    {
      "cell_type": "code",
      "metadata": {
        "id": "_GhKmG0QTmhj"
      },
      "source": [
        "class Employee:\n",
        "  increment=1.5\n",
        "  def __init__(self,fname,lname,salary):\n",
        "    self.fname=fname \n",
        "    self.lname=lname\n",
        "    self.salary=salary\n",
        "  def increase(self):\n",
        "    self.salary=self.salary*Employee.increment\n",
        "  @classmethod\n",
        "  def change_in_increment(cls,amount):\n",
        "    cls.increment=amount\n",
        "  @staticmethod\n",
        "  def open_office(day):\n",
        "    if day==sunday:\n",
        "      return True\n",
        "    else:\n",
        "      return False\n",
        "  ## Now we are studying inheritance. Let u consider tat we have some employees as  programer and we want  \n",
        "  ##to deal with them separately while their allother characterritics are same excet programming language and expriemce.\n",
        "  ### So we will create a subclass.\n",
        "class Programmer(Employee):\n",
        "\n",
        "  def  __init__(self,fname,lname,salary,prolang,exp):\n",
        "    super().__init__(fname,lname,salary)\n",
        "    self.prolang=prolang\n",
        "    self.exp=exp\n",
        "    #if we want that a programmar should get extra increment\n",
        "  def increase(self):\n",
        "    self.salary=self.salary*(Employee.increment+0.2)\n",
        "\n",
        "\n",
        "\n"
      ],
      "execution_count": null,
      "outputs": []
    },
    {
      "cell_type": "code",
      "metadata": {
        "id": "w6QJeiFRz5Dk"
      },
      "source": [
        "harry=Employee('harry','jackson',44000)\n",
        "rohan=Employee('rohan','das',44000)\n",
        "print(harry,rohan)\n"
      ],
      "execution_count": null,
      "outputs": []
    },
    {
      "cell_type": "code",
      "metadata": {
        "id": "eTlS3ozX5BOj"
      },
      "source": [
        "harry=Programmer('harry','jackson',44000,'python','5yrs')\n",
        "print(harry,rohan)\n",
        "# see object ke roop main harry ki  position change ho gai e50 aur  rohan ki wahi hai f10 hai"
      ],
      "execution_count": null,
      "outputs": []
    },
    {
      "cell_type": "code",
      "metadata": {
        "id": "JrdcyeMc8QrM"
      },
      "source": [
        "print(harry.prolang,harry.exp)"
      ],
      "execution_count": null,
      "outputs": []
    },
    {
      "cell_type": "code",
      "metadata": {
        "id": "roc4r67_9R4-"
      },
      "source": [
        "\n",
        "harry.increase()\n"
      ],
      "execution_count": null,
      "outputs": []
    },
    {
      "cell_type": "code",
      "metadata": {
        "id": "v8b7TwwG-8Q9"
      },
      "source": [
        "print(harry.increment)  # harry ka increment 1.7  hai per ye 1.5 dikha raha hai why?(1.5+0.2=1.7) 4400X1.7=74800"
      ],
      "execution_count": null,
      "outputs": []
    },
    {
      "cell_type": "code",
      "metadata": {
        "id": "DSCP1ZnS9VaY"
      },
      "source": [
        "print(harry.salary)"
      ],
      "execution_count": null,
      "outputs": []
    },
    {
      "cell_type": "code",
      "metadata": {
        "id": "EHpcx_tBA3ot"
      },
      "source": [
        "print(Programmer) # it is a class"
      ],
      "execution_count": null,
      "outputs": []
    },
    {
      "cell_type": "code",
      "metadata": {
        "id": "NduHHuYXBdRI"
      },
      "source": [
        "print(Employee)"
      ],
      "execution_count": null,
      "outputs": []
    },
    {
      "cell_type": "code",
      "metadata": {
        "id": "x49yjUexBq4e"
      },
      "source": [
        "print(help(Programmer)) # it is teliing us the order of resolutuon etc."
      ],
      "execution_count": null,
      "outputs": []
    },
    {
      "cell_type": "code",
      "metadata": {
        "id": "8-JXu4z2CIgU"
      },
      "source": [
        "help(Programmer)"
      ],
      "execution_count": null,
      "outputs": []
    },
    {
      "cell_type": "code",
      "metadata": {
        "id": "vgQFlZChEwtp"
      },
      "source": [
        "# what is return?\n"
      ],
      "execution_count": null,
      "outputs": []
    },
    {
      "cell_type": "markdown",
      "metadata": {
        "id": "ZEC8uhb3E3D4"
      },
      "source": [
        "what is return?\n",
        "ager koi function ko check  kerna hai to print (function ko likho). lekin return wahi hoga jo return main likha hai.\n",
        "\n",
        "\n",
        "\n",
        "\n",
        "\n"
      ]
    },
    {
      "cell_type": "code",
      "metadata": {
        "id": "oRX1qMDnFijW"
      },
      "source": [
        "class Employee:\n",
        "  increment=1.5\n",
        "  def __init__(self,fname,lname,salary):\n",
        "    self.fname=fname \n",
        "    self.lname=lname\n",
        "    self.salary=salary\n",
        "  def increase(self):\n",
        "    self.salary=self.salary*Employee.increment\n",
        "  @classmethod\n",
        "  def change_in_increment(cls,amount):\n",
        "    cls.increment=amount\n",
        "  @staticmethod\n",
        "  def open_office(day):\n",
        "    if day==sunday:\n",
        "      return True\n",
        "    else:\n",
        "      return False\n",
        "  ## Now we are studying inheritance. Let u consider tat we have some employees as  programer and we want  \n",
        "  ##to deal with them separately while their allother characterritics are same excet programming language and expriemce.\n",
        "  ### So we will create a subclass.\n",
        "class Programmer(Employee):\n",
        "\n",
        "  def  __init__(self,fname,lname,salary,prolang,exp):\n",
        "    super().__init__(fname,lname,salary)\n",
        "    self.prolang=prolang\n",
        "    self.exp=exp\n",
        "    #if we want that a programmar should get extra increment\n",
        "  def increase(self):\n",
        "    self.salary=self.salary*(Employee.increment+0.2)\n",
        "    return  'thenga'"
      ],
      "execution_count": null,
      "outputs": []
    },
    {
      "cell_type": "code",
      "metadata": {
        "id": "TwGqwV8iF6Xv"
      },
      "source": [
        "print(harry.increase()) # thenga aana chahiye per none aa  raha hai check kero"
      ],
      "execution_count": null,
      "outputs": []
    },
    {
      "cell_type": "markdown",
      "metadata": {
        "id": "hvA8axSbHZLr"
      },
      "source": [
        "# Exercise 7 Magic/Dundr Methods in Python      Isko Advance Python ke baad pada jayega"
      ]
    },
    {
      "cell_type": "markdown",
      "metadata": {
        "id": "Xvj8eDRfL63D"
      },
      "source": [
        "## Decorators bhi advance Python ke baad pado"
      ]
    },
    {
      "cell_type": "code",
      "metadata": {
        "id": "uPfmUQqmHrhc"
      },
      "source": [],
      "execution_count": null,
      "outputs": []
    },
    {
      "cell_type": "markdown",
      "metadata": {
        "id": "3JYNiEiTg6Xd"
      },
      "source": [
        "Exercise from Simplylearn classes and objects python for Data Science 3.4 Classes  and objects practice\n",
        "\n",
        "# Create a class circle with attributes radius and color"
      ]
    },
    {
      "cell_type": "code",
      "metadata": {
        "id": "YkvxDphuhO9Q"
      },
      "source": [
        "class Circle():\n",
        "  increase_radius= 2\n",
        "  \n",
        "  # Method: Constructor to  define the attributes of the class (i.e istances variables) so that objects can be created.\n",
        "  def __init__(self,radius,color):\n",
        "    self.radius=radius\n",
        "    self.color=color\n",
        "  def add_radius(self):\n",
        "    self.radius=self.radius+Circle.increase_radius \n",
        "  # Method for drawing circle\n",
        "    def drawCircle(self):\n",
        "        plt.gca().add_patch(plt.Circle((0, 0), radius=self.radius, fc=self.color))\n",
        "        plt.axis('scaled')\n",
        "        plt.show()  \n"
      ],
      "execution_count": null,
      "outputs": []
    },
    {
      "cell_type": "code",
      "metadata": {
        "id": "TEn18xApi__X"
      },
      "source": [
        "# creating Objects\n",
        "circle1 =Circle(3,'blue')\n",
        "circle2=Circle(4,'red')"
      ],
      "execution_count": null,
      "outputs": []
    },
    {
      "cell_type": "code",
      "metadata": {
        "id": "5qwm_Z9DkSb8"
      },
      "source": [
        "print(circle1,circle2)"
      ],
      "execution_count": null,
      "outputs": []
    },
    {
      "cell_type": "code",
      "metadata": {
        "id": "3k_FsrnakhO3"
      },
      "source": [
        "circle1.add_radius()"
      ],
      "execution_count": null,
      "outputs": []
    },
    {
      "cell_type": "code",
      "metadata": {
        "id": "1S-Q0o8-nr3s"
      },
      "source": [
        "print(circle1.radius)\n"
      ],
      "execution_count": null,
      "outputs": []
    },
    {
      "cell_type": "code",
      "metadata": {
        "id": "TlhiAswGn7eB"
      },
      "source": [
        "circle1.color"
      ],
      "execution_count": null,
      "outputs": []
    },
    {
      "cell_type": "code",
      "metadata": {
        "id": "C9Z7VZcfoE3F"
      },
      "source": [
        "# Import the library for drawing the figure of a circle\n",
        "\n",
        "import matplotlib.pyplot as plt\n",
        "%matplotlib inline  "
      ],
      "execution_count": null,
      "outputs": []
    },
    {
      "cell_type": "code",
      "metadata": {
        "id": "_gdlv5uBoR4J"
      },
      "source": [
        "# Call the method drawCircle\n",
        "circle1.drawCircle()"
      ],
      "execution_count": null,
      "outputs": []
    },
    {
      "cell_type": "code",
      "metadata": {
        "id": "qPLDNG9z7FSU"
      },
      "source": [
        "class Employee:\n",
        "  increment=1000\n",
        "  no_employees=0\n",
        "  \n",
        "  def __init__(self,fname,lname,salary):\n",
        "    self.fname=fname\n",
        "    self.lname=lname\n",
        "    self.salary=salary\n",
        "    Employee.no_employees +=1\n",
        "  def increase(self):\n",
        "    self.salary=self.salary+Employee.increment\n",
        "    # we want to increase the increment to 2000\n",
        "  @classmethod\n",
        "  def change_incre(cls,amount):\n",
        "    cls.increment=amount\n",
        "  @staticmethod\n",
        "  def open_office(day):\n",
        "    if day== \"sunday\":\n",
        "      return False\n",
        "    else:\n",
        "      return True\n",
        "class Programmer(Employee):\n",
        "  def __init__(self,fname,lname,salary,prolang,exp):\n",
        "    super().__init__(fname,lname,salary)\n",
        "    self.prolang=prolang\n",
        "    self.exp=exp\n",
        "  def increase(self):\n",
        "    self.salary=self.salary+(Employee.increment+3000)\n",
        "\n"
      ],
      "execution_count": null,
      "outputs": []
    },
    {
      "cell_type": "code",
      "metadata": {
        "colab": {
          "base_uri": "https://localhost:8080/"
        },
        "id": "V44joVUh1FLd",
        "outputId": "8d2f1501-4d71-4cc2-a9b0-b5625a7988c8"
      },
      "source": [
        "harry=Employee('harry','jackson',44000)\n",
        "print(harry)"
      ],
      "execution_count": null,
      "outputs": [
        {
          "output_type": "stream",
          "name": "stdout",
          "text": [
            "<__main__.Employee object at 0x7ffb3c298ad0>\n"
          ]
        }
      ]
    },
    {
      "cell_type": "code",
      "metadata": {
        "colab": {
          "base_uri": "https://localhost:8080/"
        },
        "id": "d7SDtrF62pHY",
        "outputId": "9cc2f999-940e-4f95-92ca-484bff98c14b"
      },
      "source": [
        "harry.salary"
      ],
      "execution_count": null,
      "outputs": [
        {
          "output_type": "execute_result",
          "data": {
            "text/plain": [
              "44000"
            ]
          },
          "metadata": {},
          "execution_count": 10
        }
      ]
    },
    {
      "cell_type": "code",
      "metadata": {
        "id": "w-W9EAQw2u6w"
      },
      "source": [
        "harry.increase()"
      ],
      "execution_count": null,
      "outputs": []
    },
    {
      "cell_type": "code",
      "metadata": {
        "id": "Mmld1O8f3r3m"
      },
      "source": [
        "harry.salary"
      ],
      "execution_count": null,
      "outputs": []
    },
    {
      "cell_type": "code",
      "metadata": {
        "id": "GaXuZbL_40XU"
      },
      "source": [
        "Employee.no_employees"
      ],
      "execution_count": null,
      "outputs": []
    },
    {
      "cell_type": "code",
      "metadata": {
        "id": "gMdYzk_b6UHz"
      },
      "source": [
        "harry.increase()\n",
        "\n",
        "\n"
      ],
      "execution_count": null,
      "outputs": []
    },
    {
      "cell_type": "code",
      "metadata": {
        "colab": {
          "base_uri": "https://localhost:8080/"
        },
        "id": "KeB0Ou9W9l_W",
        "outputId": "af659a62-e688-4c76-9b77-243e06d92b7a"
      },
      "source": [
        "\n",
        "\n",
        "harry.salary\n"
      ],
      "execution_count": null,
      "outputs": [
        {
          "output_type": "execute_result",
          "data": {
            "text/plain": [
              "46000"
            ]
          },
          "metadata": {},
          "execution_count": 14
        }
      ]
    },
    {
      "cell_type": "code",
      "metadata": {
        "id": "iUZT9wRtADj1"
      },
      "source": [
        "harry.increase()"
      ],
      "execution_count": null,
      "outputs": []
    },
    {
      "cell_type": "code",
      "metadata": {
        "id": "-DYAI-YeAIcl"
      },
      "source": [
        "harry.change_incre(2000)"
      ],
      "execution_count": null,
      "outputs": []
    },
    {
      "cell_type": "code",
      "metadata": {
        "colab": {
          "base_uri": "https://localhost:8080/"
        },
        "id": "xVpo7-pWANQr",
        "outputId": "c427b825-e350-4f79-b03e-a748ec674cf9"
      },
      "source": [
        "harry.salary"
      ],
      "execution_count": null,
      "outputs": [
        {
          "output_type": "execute_result",
          "data": {
            "text/plain": [
              "47000"
            ]
          },
          "metadata": {},
          "execution_count": 17
        }
      ]
    },
    {
      "cell_type": "code",
      "metadata": {
        "colab": {
          "base_uri": "https://localhost:8080/"
        },
        "id": "oNH6HfkyBfuA",
        "outputId": "19c37c74-9c11-411e-ea96-80df96bf78c0"
      },
      "source": [
        "Employee.open_office(\"sunday\")"
      ],
      "execution_count": null,
      "outputs": [
        {
          "output_type": "execute_result",
          "data": {
            "text/plain": [
              "False"
            ]
          },
          "metadata": {},
          "execution_count": 18
        }
      ]
    },
    {
      "cell_type": "code",
      "metadata": {
        "id": "0qWT2cRiBnc7"
      },
      "source": [
        "tarry=Programmer('tarry','jackson',44000,'python',23)"
      ],
      "execution_count": null,
      "outputs": []
    },
    {
      "cell_type": "code",
      "metadata": {
        "id": "4uo8vuLQDtBe"
      },
      "source": [
        "tarry.increase()"
      ],
      "execution_count": null,
      "outputs": []
    },
    {
      "cell_type": "code",
      "metadata": {
        "colab": {
          "base_uri": "https://localhost:8080/"
        },
        "id": "ddnxgiwwDy2p",
        "outputId": "2527cfb5-bd1d-4f72-cbf4-3cf680b337eb"
      },
      "source": [
        "tarry.salary"
      ],
      "execution_count": null,
      "outputs": [
        {
          "output_type": "execute_result",
          "data": {
            "text/plain": [
              "49000"
            ]
          },
          "metadata": {},
          "execution_count": 21
        }
      ]
    },
    {
      "cell_type": "code",
      "metadata": {
        "id": "Mp3OAKpe61wi"
      },
      "source": [
        "class Employee():\n",
        "  increment=2000\n",
        "  no_employees=0\n",
        "  def __init__(self,fname ,lname,salary):\n",
        "    self.fname=fname\n",
        "    self.lname=lname\n",
        "    self.salary=salary\n",
        "    Employee.no_employees +=1\n",
        "  def increase(self):\n",
        "    self .salary=self.salary+Employee.increment\n",
        "  @classmethod # we want to change the incrfemewnt without changing it at each level\n",
        "  def change_incre(cls,amount):\n",
        "    cls.increment=amount\n",
        "\n",
        "\n",
        "class Programmer(Employee):\n",
        "    def __init__(self,fname ,lname,salary,prolang,exp):\n",
        "      super().__init__(fname ,lname,salary)\n",
        "      self.prolang=prolang\n",
        "      self.exp=exp"
      ],
      "execution_count": null,
      "outputs": []
    }
  ]
}