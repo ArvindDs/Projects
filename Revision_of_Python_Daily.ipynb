{
  "nbformat": 4,
  "nbformat_minor": 0,
  "metadata": {
    "colab": {
      "provenance": [],
      "authorship_tag": "ABX9TyNCU6QNhPKUoxbJ0l7tOJ9x",
      "include_colab_link": true
    },
    "kernelspec": {
      "name": "python3",
      "display_name": "Python 3"
    },
    "language_info": {
      "name": "python"
    }
  },
  "cells": [
    {
      "cell_type": "markdown",
      "metadata": {
        "id": "view-in-github",
        "colab_type": "text"
      },
      "source": [
        "<a href=\"https://colab.research.google.com/github/ArvindDs/Projects/blob/main/Revision_of_Python_Daily.ipynb\" target=\"_parent\"><img src=\"https://colab.research.google.com/assets/colab-badge.svg\" alt=\"Open In Colab\"/></a>"
      ]
    },
    {
      "cell_type": "code",
      "execution_count": null,
      "metadata": {
        "id": "oW9P8s0FsVS6"
      },
      "outputs": [],
      "source": [
        "#Function Revision 26.09.2022 Exercise"
      ]
    },
    {
      "cell_type": "code",
      "source": [
        "\n",
        " # Create a function without  Parameter\n",
        "\n",
        " def message():\n",
        "     print('Iam a good boy')\n",
        " message()"
      ],
      "metadata": {
        "colab": {
          "base_uri": "https://localhost:8080/"
        },
        "id": "xpcwcGLIskj5",
        "outputId": "59f5b326-a833-4fdc-cedb-6f4888c2a0ca"
      },
      "execution_count": null,
      "outputs": [
        {
          "output_type": "stream",
          "name": "stdout",
          "text": [
            "Iam a good boy\n"
          ]
        }
      ]
    },
    {
      "cell_type": "code",
      "source": [
        "# Creating a function with parameter and return value\n",
        "\n",
        "def add(n,m):\n",
        "    addition=n+m\n",
        "    return addition\n",
        "print(\"sum of two numbers:\", add(45,89))\n",
        "\n",
        "def add(n,m):\n",
        "    addition =n+m\n",
        "    print( \"first numer is:\",n)\n",
        "    print(\"second number is:\",m)\n",
        "    return addition\n",
        "print('sum of two numbers:',add(34,56))\n",
        "\n"
      ],
      "metadata": {
        "colab": {
          "base_uri": "https://localhost:8080/"
        },
        "id": "Tnra1TxzvULP",
        "outputId": "ac7d2401-14da-4391-b491-c7fa31866f7f"
      },
      "execution_count": null,
      "outputs": [
        {
          "output_type": "stream",
          "name": "stdout",
          "text": [
            "sum of two numbers: 134\n",
            "first numer is: 34\n",
            "second number is: 56\n",
            "sum of two numbers: 90\n"
          ]
        }
      ]
    },
    {
      "cell_type": "code",
      "source": [
        "# calling a function\n",
        "def add(n,m):\n",
        "    addition =n+m\n",
        "    print( \"first numer is:\",n)\n",
        "    print(\"second number is:\",m)\n",
        "    return addition\n",
        "add(34,56) # calling a function"
      ],
      "metadata": {
        "colab": {
          "base_uri": "https://localhost:8080/"
        },
        "id": "Kdvwor6Hxznu",
        "outputId": "faa0a943-57a5-41d0-ac3b-4bf1573889ff"
      },
      "execution_count": null,
      "outputs": [
        {
          "output_type": "stream",
          "name": "stdout",
          "text": [
            "first numer is: 34\n",
            "second number is: 56\n"
          ]
        },
        {
          "output_type": "execute_result",
          "data": {
            "text/plain": [
              "90"
            ]
          },
          "metadata": {},
          "execution_count": 13
        }
      ]
    },
    {
      "cell_type": "code",
      "source": [
        "# calling a function of a module\n",
        "from random import randint\n",
        "# randiant is a function\n",
        "\n",
        "\n",
        "randint(13,16)"
      ],
      "metadata": {
        "colab": {
          "base_uri": "https://localhost:8080/"
        },
        "id": "NFffFsHFyRLN",
        "outputId": "b65ad3db-45bb-471d-81e2-c7f287105807"
      },
      "execution_count": null,
      "outputs": [
        {
          "output_type": "execute_result",
          "data": {
            "text/plain": [
              "15"
            ]
          },
          "metadata": {},
          "execution_count": 26
        }
      ]
    },
    {
      "cell_type": "code",
      "source": [
        "# Docstrings\n",
        "def add(x):\n",
        "    \"\"\" i am addiding \n",
        "     the two numbers\"\"\"\n",
        "    \n",
        "\n",
        "    # We can access docstring using doc attribute (__doc__) # unjderscore ko do bar dabao\n",
        "    #for any object like list, tuple, dict, and user-defined function, etc.\n",
        "\n",
        "print(add.__doc__)"
      ],
      "metadata": {
        "colab": {
          "base_uri": "https://localhost:8080/"
        },
        "id": "RAgE8RyBz8HC",
        "outputId": "cf72bf8d-9535-43af-b537-8e549db677f7"
      },
      "execution_count": null,
      "outputs": [
        {
          "output_type": "stream",
          "name": "stdout",
          "text": [
            " i am addiding \n",
            "     the two numbers\n"
          ]
        }
      ]
    },
    {
      "cell_type": "code",
      "source": [
        "# return value from a function\n",
        "def multiply(n,m):\n",
        "    mul=m*n\n",
        "    return mul\n",
        "multiply(7,8)"
      ],
      "metadata": {
        "colab": {
          "base_uri": "https://localhost:8080/"
        },
        "id": "wuuJw3mH-zrm",
        "outputId": "655e1278-76df-477b-bfa9-a7829bec1a30"
      },
      "execution_count": null,
      "outputs": [
        {
          "output_type": "execute_result",
          "data": {
            "text/plain": [
              "56"
            ]
          },
          "metadata": {},
          "execution_count": 39
        }
      ]
    },
    {
      "cell_type": "code",
      "source": [
        "#Return multiple values\n",
        "def oper(n,m):\n",
        "    add= n+m\n",
        "    sub= n-m\n",
        "    mul=n*m\n",
        "    div=n/m\n",
        "    return(add,sub,mul,div)\n",
        "a,b,c,d= oper(9,6)\n",
        "print(' addition:', a)\n",
        "print('subtrasction:',b)\n",
        "print('multiplicationj:',c)\n",
        "print('division:',d)\n"
      ],
      "metadata": {
        "colab": {
          "base_uri": "https://localhost:8080/"
        },
        "id": "f4jCT0AnG2Vf",
        "outputId": "769cd076-e60e-4006-ad50-e190f1b9ed58"
      },
      "execution_count": null,
      "outputs": [
        {
          "output_type": "stream",
          "name": "stdout",
          "text": [
            " addition: 15\n",
            "subtrasction: 3\n",
            "multiplicationj: 54\n",
            "division: 1.5\n"
          ]
        }
      ]
    },
    {
      "cell_type": "code",
      "source": [
        "# pass statement\n",
        "def div(b,c):\n",
        "    d=b+c\n",
        "    return(d)\n",
        "div(9,6)\n",
        "pass"
      ],
      "metadata": {
        "id": "6M3ETEl4JSSd"
      },
      "execution_count": null,
      "outputs": []
    },
    {
      "cell_type": "code",
      "source": [
        "\n",
        "# Local variable in function\n",
        "def open():\n",
        "     E=55 # vlocal Variable\n",
        "     print(\"vaue of E:\", E)\n",
        "open()\n",
        "\n",
        "def close():\n",
        "    print(\"value of E:\",Error)\n",
        "close()"
      ],
      "metadata": {
        "colab": {
          "base_uri": "https://localhost:8080/"
        },
        "id": "JZmn8fvfI2nj",
        "outputId": "6fef0bec-d622-4f70-a9ec-568fd5833b49"
      },
      "execution_count": null,
      "outputs": [
        {
          "output_type": "stream",
          "name": "stdout",
          "text": [
            "vaue of E: 55\n",
            "value of E: <class 'copy.Error'>\n"
          ]
        }
      ]
    },
    {
      "cell_type": "code",
      "source": [
        "# global Variable\n",
        "E=55\n"
      ],
      "metadata": {
        "id": "_fYRzfsnSRaW"
      },
      "execution_count": null,
      "outputs": []
    },
    {
      "cell_type": "code",
      "source": [
        "\n",
        "# Global variable in function\n",
        "E=55\n",
        "def open():\n",
        "     \n",
        "     print(\"vaue of E:\", E)\n",
        "open()\n",
        "\n",
        "def close():\n",
        "    print(\"value of E:\",E)\n",
        "close()"
      ],
      "metadata": {
        "colab": {
          "base_uri": "https://localhost:8080/"
        },
        "outputId": "f52d169f-ed50-48b1-92e5-865cb999c426",
        "id": "8wVW1KUfSbRe"
      },
      "execution_count": null,
      "outputs": [
        {
          "output_type": "stream",
          "name": "stdout",
          "text": [
            "vaue of E: 55\n",
            "value of E: 55\n"
          ]
        }
      ]
    },
    {
      "cell_type": "code",
      "source": [
        "# global keyword in function\n",
        " \n",
        "global_var = 5\n",
        "\n",
        "def function1():\n",
        "    print(\"Value in 1st function :\", global_var)\n",
        "\n",
        "def function2():\n",
        "    # Modify global variable\n",
        "    # function will treat it as a local variable\n",
        "    global_var = 555\n",
        "    print(\"Value in 2nd function :\", global_var)\n",
        "\n",
        "def function3():\n",
        "    print(\"Value in 3rd function :\", global_var)\n",
        "\n",
        "function1()\n",
        "function2()\n",
        "function3()"
      ],
      "metadata": {
        "colab": {
          "base_uri": "https://localhost:8080/"
        },
        "id": "G5iw3HB1Srrv",
        "outputId": "0683380f-d455-4cea-b1e5-a6786812f5cb"
      },
      "execution_count": null,
      "outputs": [
        {
          "output_type": "stream",
          "name": "stdout",
          "text": [
            "Value in 1st function : 5\n",
            "Value in 2nd function : 555\n",
            "Value in 3rd function : 5\n"
          ]
        }
      ]
    },
    {
      "cell_type": "code",
      "source": [
        "# Non local variable in function\n",
        "    "
      ],
      "metadata": {
        "id": "qspZC6bWfPkj"
      },
      "execution_count": null,
      "outputs": []
    },
    {
      "cell_type": "markdown",
      "source": [
        "In Python, nonlocal is the keyword used to declare a variable that acts as a global variable for a nested function (i.e., function within another function).\n",
        "\n",
        "We can use a nonlocal keyword when we want to declare a variable in the local scope but act as a global scope."
      ],
      "metadata": {
        "id": "jL9GdML2JksK"
      }
    },
    {
      "cell_type": "code",
      "source": [
        "def outer_func():\n",
        "    x = 777  # x is local variable here\n",
        "\n",
        "    def inner_func():\n",
        "        # local variable now acts as global variable\n",
        "        nonlocal x    # hamne iss keyword se x ko global bana diya\n",
        "        x = 700\n",
        "        print(\"value of x inside inner function is :\", x)\n",
        "\n",
        "    inner_func()\n",
        "    print(\"value of x inside outer function is :\", x)\n",
        "outer_func()"
      ],
      "metadata": {
        "colab": {
          "base_uri": "https://localhost:8080/"
        },
        "id": "Jutp9CCJJmqX",
        "outputId": "72329c2d-a276-4379-a592-b71906fa0a5e"
      },
      "execution_count": null,
      "outputs": [
        {
          "output_type": "stream",
          "name": "stdout",
          "text": [
            "value of x inside inner function is : 700\n",
            "value of x inside outer function is : 700\n"
          ]
        }
      ]
    },
    {
      "cell_type": "code",
      "source": [
        "# Positional  arguments\n",
        "def add(a, b):\n",
        "    print(a - b)\n",
        "\n",
        "add(50, 10)\n",
        "# Output 40\n",
        "add(10, 50)"
      ],
      "metadata": {
        "colab": {
          "base_uri": "https://localhost:8080/"
        },
        "id": "4Dr65uWsNi9S",
        "outputId": "50862d6b-3ca4-428d-d745-b2c371fd7b63"
      },
      "execution_count": null,
      "outputs": [
        {
          "output_type": "stream",
          "name": "stdout",
          "text": [
            "40\n",
            "-40\n"
          ]
        }
      ]
    },
    {
      "cell_type": "code",
      "source": [
        "#Keyword Arguments\n",
        "def message(name,sirname):\n",
        "    print('Hello',name,sirname) # name and sirname are variable\n",
        "message(name=\"arvind\", sirname=\"joshi\")"
      ],
      "metadata": {
        "colab": {
          "base_uri": "https://localhost:8080/"
        },
        "id": "wIcqsLuoPKw4",
        "outputId": "132f995f-fbd7-4e5b-a8d5-348076d0f125"
      },
      "execution_count": null,
      "outputs": [
        {
          "output_type": "stream",
          "name": "stdout",
          "text": [
            "Hello arvind joshi\n"
          ]
        }
      ]
    }
  ]
}