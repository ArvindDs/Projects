{
  "nbformat": 4,
  "nbformat_minor": 0,
  "metadata": {
    "colab": {
      "provenance": [],
      "authorship_tag": "ABX9TyM3qdXsopjPQbkSZ9I74zPP",
      "include_colab_link": true
    },
    "kernelspec": {
      "name": "python3",
      "display_name": "Python 3"
    },
    "language_info": {
      "name": "python"
    }
  },
  "cells": [
    {
      "cell_type": "markdown",
      "metadata": {
        "id": "view-in-github",
        "colab_type": "text"
      },
      "source": [
        "<a href=\"https://colab.research.google.com/github/ArvindDs/Projects/blob/main/exercise_practice.ipynb\" target=\"_parent\"><img src=\"https://colab.research.google.com/assets/colab-badge.svg\" alt=\"Open In Colab\"/></a>"
      ]
    },
    {
      "cell_type": "code",
      "execution_count": null,
      "metadata": {
        "id": "--ilM4GeDdpn"
      },
      "outputs": [],
      "source": []
    },
    {
      "cell_type": "code",
      "source": [
        "# 1. Print 10 numbers using a for loop.\n",
        "for i in range(1,11):\n",
        "    print(i)\n",
        "    "
      ],
      "metadata": {
        "id": "Z9Sc1YT5Sz4l",
        "colab": {
          "base_uri": "https://localhost:8080/"
        },
        "outputId": "91390c2f-6311-4835-aec7-325c23a25747"
      },
      "execution_count": null,
      "outputs": [
        {
          "output_type": "stream",
          "name": "stdout",
          "text": [
            "1\n",
            "2\n",
            "3\n",
            "4\n",
            "5\n",
            "6\n",
            "7\n",
            "8\n",
            "9\n",
            "10\n"
          ]
        }
      ]
    },
    {
      "cell_type": "code",
      "source": [],
      "metadata": {
        "id": "R_QLbL9oELz2"
      },
      "execution_count": null,
      "outputs": []
    },
    {
      "cell_type": "code",
      "source": [
        "# 2.Print sum of all even numbers from 10  to 20.\n",
        "sum=0\n",
        "for i in range(10,22,2):\n",
        "    sum=sum+i\n",
        "print(sum) # this has come out of the loop  \n",
        "\n",
        "\n"
      ],
      "metadata": {
        "id": "uYP1y1s5ThgY",
        "colab": {
          "base_uri": "https://localhost:8080/"
        },
        "outputId": "07292bb8-15f6-4353-9787-6383a195f58e"
      },
      "execution_count": null,
      "outputs": [
        {
          "output_type": "stream",
          "name": "stdout",
          "text": [
            "90\n"
          ]
        }
      ]
    },
    {
      "cell_type": "code",
      "source": [
        "# Print all  even and odd numbers.\n",
        "num=[1,4,7,8,15,20,35,45]\n",
        "for i in num:\n",
        "    if i % 2==0:\n",
        "        print('even number',i)\n",
        "    else:\n",
        "        print('odd number',i) "
      ],
      "metadata": {
        "id": "jiRt9uiBRo5-",
        "colab": {
          "base_uri": "https://localhost:8080/"
        },
        "outputId": "2939d454-37fb-4485-cd20-5008956b6124"
      },
      "execution_count": null,
      "outputs": [
        {
          "output_type": "stream",
          "name": "stdout",
          "text": [
            "odd number 1\n",
            "even number 4\n",
            "odd number 7\n",
            "even number 8\n",
            "odd number 15\n",
            "even number 20\n",
            "odd number 35\n",
            "odd number 45\n"
          ]
        }
      ]
    },
    {
      "cell_type": "code",
      "source": [
        "# 3.break the loop if nkumber is greater than 15.\n",
        "list=[1,4,7,8,15,20,35,45]\n",
        "for i in list:\n",
        "    if i>15:\n",
        "        break\n",
        "    else:\n",
        "        print(i) "
      ],
      "metadata": {
        "id": "d7fee78pc03L",
        "colab": {
          "base_uri": "https://localhost:8080/"
        },
        "outputId": "56b4e2b6-958a-4995-fe7b-989b0e8448e7"
      },
      "execution_count": null,
      "outputs": [
        {
          "output_type": "stream",
          "name": "stdout",
          "text": [
            "1\n",
            "4\n",
            "7\n",
            "8\n",
            "15\n"
          ]
        }
      ]
    },
    {
      "cell_type": "code",
      "source": [
        "# 4.count the total number of m in given string\n",
        "name='mariya mennen'\n",
        "count=0  \n",
        "for i in name:\n",
        "    if i=='m':\n",
        "        count=count+1\n",
        "print(count)"
      ],
      "metadata": {
        "id": "ZClaiZgweMrs",
        "colab": {
          "base_uri": "https://localhost:8080/"
        },
        "outputId": "73c9dce8-a87d-4db0-fafe-f379c02c2492"
      },
      "execution_count": null,
      "outputs": [
        {
          "output_type": "stream",
          "name": "stdout",
          "text": [
            "2\n"
          ]
        }
      ]
    },
    {
      "cell_type": "code",
      "source": [
        "str='trech'\n",
        "count=0\n",
        "for i in str:\n",
        "    if i=='a':    #Here str do  not contain 'a' so  loop  will  not function at this  \n",
        "                                 #level and give  count vaalue  as 0'\n",
        "        count=count+1\n",
        "print(count)\n",
        "    "
      ],
      "metadata": {
        "id": "5NMzKuwdR_Qj",
        "colab": {
          "base_uri": "https://localhost:8080/"
        },
        "outputId": "45a64f93-adb8-4507-9059-9fdd409d015b"
      },
      "execution_count": null,
      "outputs": [
        {
          "output_type": "stream",
          "name": "stdout",
          "text": [
            "0\n"
          ]
        }
      ]
    },
    {
      "cell_type": "code",
      "source": [
        "# .Print first two numbers out of 5 and then print numbers less than equal to 2.\n",
        "number=[2,3,1,0,7]\n",
        "print('first two numbers',number[0:2])\n",
        "for i in number:\n",
        "    if i<=2:\n",
        "        print(i,end=\",\")\n",
        "\n"
      ],
      "metadata": {
        "id": "fieWkGLbifMK",
        "colab": {
          "base_uri": "https://localhost:8080/"
        },
        "outputId": "74ca3ec9-7f66-47b5-83a1-3c343c695550"
      },
      "execution_count": null,
      "outputs": [
        {
          "output_type": "stream",
          "name": "stdout",
          "text": [
            "first two numbers [2, 3]\n",
            "2,1,0,"
          ]
        }
      ]
    },
    {
      "cell_type": "code",
      "source": [
        "#6.calculate the square of each number.\n",
        "number=[2,3,4,5]\n",
        "for i in number:\n",
        "    square=i**2\n",
        "    print('square of:',i,square)\n",
        "\n"
      ],
      "metadata": {
        "id": "Qr1szyl8lP0b",
        "colab": {
          "base_uri": "https://localhost:8080/"
        },
        "outputId": "5d537eef-34ce-4f13-bc08-f820a4d117c8"
      },
      "execution_count": null,
      "outputs": [
        {
          "output_type": "stream",
          "name": "stdout",
          "text": [
            "square of: 2 4\n",
            "square of: 3 9\n",
            "square of: 4 16\n",
            "square of: 5 25\n"
          ]
        }
      ]
    },
    {
      "cell_type": "code",
      "source": [
        "# 7.Sum and average of first n natural numbers\n",
        "n = int(input(\"Enter number\"))\n",
        "sum = 0\n",
        "# loop from 1 to n\n",
        "for num in range(1, n + 1, 1):\n",
        "    sum = sum + num\n",
        "print(\"Sum of first \", n, \"numbers is: \", sum)\n",
        "average = sum / n\n",
        "print(\"Average of \", n, \"numbers is: \", average)"
      ],
      "metadata": {
        "id": "BSSK9Ox3l1G2"
      },
      "execution_count": null,
      "outputs": []
    },
    {
      "cell_type": "code",
      "source": [
        "#8.calculate the sum and average of numbers present in the given list.\n",
        "num_list = [10, 20.5, 30, 45.5, 50]\n",
        "sum=0\n",
        "for i in num_list:\n",
        "    sum=sum+i\n",
        "print('sum of numbers:','is',sum)\n",
        "avg= sum/len(num_list)\n",
        "print(avg) \n"
      ],
      "metadata": {
        "id": "xXgr4CVRqWAt"
      },
      "execution_count": null,
      "outputs": []
    },
    {
      "cell_type": "code",
      "source": [
        "# list with int and floats\n",
        "num_list = [10, 20.5, 30, 45.5, 50]\n",
        "\n",
        "# Approach 1 using built-in function sum\n",
        "res = sum(num_list)\n",
        "avg = res / len(num_list)\n",
        "print(\"sum is: \", res, \"Average is: \", avg)\n",
        "# Output sum is:  156.0 Average is:  31.2\n",
        "\n"
      ],
      "metadata": {
        "id": "OISKnPmOvYdW"
      },
      "execution_count": null,
      "outputs": []
    },
    {
      "cell_type": "code",
      "source": [
        "# Approach 2 using a for loop\n",
        "sum = 0\n",
        "for num in num_list:\n",
        "    sum=sum+num\n",
        "avg1 = sum / len(num_list)\n",
        "print(\"sum is: \", sum, \"Average is: \", avg1)\n",
        "# Output sum is:  156.0 Average is:  31.2"
      ],
      "metadata": {
        "id": "BnRypLf0fhjH"
      },
      "execution_count": null,
      "outputs": []
    },
    {
      "cell_type": "code",
      "source": [
        "# Sum and average using a mathematical formula\n",
        "#Assume n is a number\n",
        "\n",
        "#The sum of the first n natural number = n * (n+1) / 2\n",
        "#the average of first n natural number = (n * (n+1) / 2) / n\n",
        "n = 20\n",
        "# formula to calculate sum\n",
        "res = n * (n + 1) / 2\n",
        "print('sum of first', n, 'numbers is:', res)\n",
        "# Output sum of first 20 numbers is: 210.0\n",
        "\n",
        "# formula to calculate average\n",
        "average = (n * (n + 1) / 2) / n\n",
        "print('Average of first', n, 'numbers is:', average)\n",
        "# Output Average of 20 numbers is: 10.5\n"
      ],
      "metadata": {
        "id": "JBwZW5Fhv1RQ"
      },
      "execution_count": null,
      "outputs": []
    },
    {
      "cell_type": "code",
      "source": [
        "input_string = input('Enter numbers separated by space ')\n",
        "print(\"\\n\")\n",
        "# Take input numbers into list\n",
        "numbers = input_string.split()\n",
        "\n",
        "# convert each item to int type\n",
        "for i in range(len(numbers)):\n",
        "    # convert each item to int type\n",
        "    numbers[i] = int(numbers[i])\n",
        "\n",
        "# Calculating the sum and average\n",
        "print(\"Sum = \", sum(numbers))\n",
        "print(\"Average = \", sum(numbers) / len(numbers))\n"
      ],
      "metadata": {
        "id": "V9B30Gc22_Uz"
      },
      "execution_count": null,
      "outputs": []
    },
    {
      "cell_type": "code",
      "source": [
        "#Reverse for loop\n",
        "#There are three ways to iterating the for loop backward\n",
        "#1.Reverse for loop using range()\n",
        "#2.Reverse for loop using the reversed() function\n",
        "#3.Reverse a list using a loop"
      ],
      "metadata": {
        "id": "yZ0UCknY4G_9"
      },
      "execution_count": null,
      "outputs": []
    },
    {
      "cell_type": "code",
      "source": [
        "# Reversed numbers using reversed() function\n",
        "list1 = [10, 20, 30, 40]\n",
        "for num in reversed(list1):\n",
        "    print(num)\n"
      ],
      "metadata": {
        "id": "JoTSw_nhB0Cp"
      },
      "execution_count": null,
      "outputs": []
    },
    {
      "cell_type": "code",
      "source": [
        "print(\"Reverse numbers using for loop\")\n",
        "num = 5\n",
        "# start = 5\n",
        "# stop = -1\n",
        "# step = -1\n",
        "for num in (range(num, -1, -1)):\n",
        "    print(num)"
      ],
      "metadata": {
        "id": "z1oBBf-qCRHk"
      },
      "execution_count": null,
      "outputs": []
    },
    {
      "cell_type": "code",
      "source": [
        "print('Reverse a list using a loop ')\n",
        "numbers = [1, 2, 3, 4]\n",
        "for i in numbers[::-1]:\n",
        "    print(i)"
      ],
      "metadata": {
        "id": "lLaprIxLCZZ7"
      },
      "execution_count": null,
      "outputs": []
    },
    {
      "cell_type": "code",
      "source": [
        "# Nested for loops\n",
        "#In this example, we are printing a multiplication table of the first ten numbers.\n"
      ],
      "metadata": {
        "id": "P73KLNEmC_iO"
      },
      "execution_count": null,
      "outputs": []
    },
    {
      "cell_type": "markdown",
      "source": [
        "![image.png](data:image/png;base64,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)"
      ],
      "metadata": {
        "id": "RhvsS76nZZPc"
      }
    },
    {
      "cell_type": "code",
      "source": [
        "for i in range(1,11):\n",
        "    for j in range(1,11):\n",
        "        print(i*j,end=',')\n",
        "    print('Table of',i)   # here the 'print' outcome is a partof outer loop \n",
        "    #  so as  the operation for i=1 will take place till  j=10 and then end will put them in one row . \n",
        "    # and the loop  wil go for i=2 in another row and stop at j=10.\n",
        "    # "
      ],
      "metadata": {
        "id": "JhHKOucFd8Kh"
      },
      "execution_count": null,
      "outputs": []
    },
    {
      "cell_type": "code",
      "source": [
        "for i in range(1,11):\n",
        "    for j in range(1,11):\n",
        "        print(i*j,end=',')\n",
        "    print('Table of',i)   # here the 'print' outcome is a partof outer loop \n",
        "    #  so as  the operation for i=1 will take place till  j=10 and then end will put them in one row . \n",
        "    # and the loop  wil go for i=2 in another row and stop at j=10.\n",
        "    # "
      ],
      "metadata": {
        "id": "ZDPGWPz0FM_P"
      },
      "execution_count": null,
      "outputs": []
    },
    {
      "cell_type": "code",
      "source": [
        "# star pattern\n",
        "rows =6\n",
        "for i in range(1,rows+1):\n",
        "      for j in range(1,i+1):\n",
        "          print('*',end=\"\")\n",
        "      print=()"
      ],
      "metadata": {
        "id": "Uu5ungXw3Vad"
      },
      "execution_count": null,
      "outputs": []
    },
    {
      "cell_type": "code",
      "source": [
        "rows=5\n",
        "for i in range(1,rows+1):\n",
        "    for j in range(1,i+1):\n",
        "        print('*',end='')\n",
        "    print()"
      ],
      "metadata": {
        "id": "rKkpbPco_iTZ"
      },
      "execution_count": null,
      "outputs": []
    },
    {
      "cell_type": "markdown",
      "source": [
        "*In this program, the outer loop is the number of rows print.\n",
        " \n",
        "*The number of rows is five, so the outer loop will execute five times\n",
        "\n",
        "*Next, the inner loop is the total number of columns in each row.\n",
        "\n",
        "*For each iteration of the outer loop, the columns count gets incremented by 1\n",
        "\n",
        "*In the first iteration of the outer loop, the column count is 1, in the next it 2. and so on.\n",
        "\n",
        "*The inner loop iteration is equal to the count of columns.\n",
        "\n",
        "*In each iteration of an inner loop, we print star"
      ],
      "metadata": {
        "id": "cTbw6lX4IdhL"
      }
    }
  ]
}