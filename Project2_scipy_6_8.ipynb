{
  "nbformat": 4,
  "nbformat_minor": 0,
  "metadata": {
    "colab": {
      "name": "Project2 scipy/6.8.ipynb",
      "provenance": [],
      "authorship_tag": "ABX9TyNf/AjK52EBGvS41A2EMgJV",
      "include_colab_link": true
    },
    "kernelspec": {
      "name": "python3",
      "display_name": "Python 3"
    },
    "language_info": {
      "name": "python"
    }
  },
  "cells": [
    {
      "cell_type": "markdown",
      "metadata": {
        "id": "view-in-github",
        "colab_type": "text"
      },
      "source": [
        "<a href=\"https://colab.research.google.com/github/ArvindDs/Projects/blob/main/Project2_scipy_6_8.ipynb\" target=\"_parent\"><img src=\"https://colab.research.google.com/assets/colab-badge.svg\" alt=\"Open In Colab\"/></a>"
      ]
    },
    {
      "cell_type": "markdown",
      "source": [
        "## **Solving Linear Algebra problem using SciPy**\n",
        "DESCRIPTION\n",
        "\n",
        "Problem:\n",
        "\n",
        "Use SciPy to solve a linear algebra problem.\n",
        "\n",
        "There is a test with 30 questions worth 150 marks. The test has two types of questions:\n",
        "\n",
        "1. True or false – carries 4 marks each\n",
        "\n",
        "2. Multiple-choice – carries 9 marks each\n",
        "\n",
        "Find the number of true or false and multiple-choice questions."
      ],
      "metadata": {
        "id": "BCmroJDFjSQj"
      }
    },
    {
      "cell_type": "code",
      "source": [
        "#let number of True or  False  questions =x and Multiple questions=y\n",
        "#   x+y=30\n",
        "#   4x+9y=150\n"
      ],
      "metadata": {
        "id": "CHTcfrNSjDq1"
      },
      "execution_count": null,
      "outputs": []
    },
    {
      "cell_type": "code",
      "source": [
        "# import required libraries\n",
        "import numpy as np\n",
        "from scipy import linalg "
      ],
      "metadata": {
        "id": "4QkmKB4SkoRs"
      },
      "execution_count": null,
      "outputs": []
    },
    {
      "cell_type": "code",
      "source": [
        "variabletestQuest=np.array([[1,1],[4,9]])\n",
        "variablevalue=np.array([30,150])"
      ],
      "metadata": {
        "id": "Dm3V_m5vloqe"
      },
      "execution_count": null,
      "outputs": []
    },
    {
      "cell_type": "code",
      "source": [
        "# to  find the value of x and y\n",
        "# use  linalg function of scipy\n",
        "# use solve  method to solve the linear equations and find  value of x and y\n",
        "\n",
        "linalg.solve(variabletestQuest,variablevalue)"
      ],
      "metadata": {
        "colab": {
          "base_uri": "https://localhost:8080/"
        },
        "id": "DJGFo3asmwk5",
        "outputId": "3f83c4c1-f3c1-4e82-bada-8399199ede5d"
      },
      "execution_count": null,
      "outputs": [
        {
          "output_type": "execute_result",
          "data": {
            "text/plain": [
              "array([24.,  6.])"
            ]
          },
          "metadata": {},
          "execution_count": 6
        }
      ]
    }
  ]
}