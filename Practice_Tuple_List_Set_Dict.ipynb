{
  "nbformat": 4,
  "nbformat_minor": 0,
  "metadata": {
    "colab": {
      "provenance": [],
      "authorship_tag": "ABX9TyPpVeAwVbooYDLerNq3ZqJy",
      "include_colab_link": true
    },
    "kernelspec": {
      "name": "python3",
      "display_name": "Python 3"
    },
    "language_info": {
      "name": "python"
    }
  },
  "cells": [
    {
      "cell_type": "markdown",
      "metadata": {
        "id": "view-in-github",
        "colab_type": "text"
      },
      "source": [
        "<a href=\"https://colab.research.google.com/github/ArvindDs/Projects/blob/main/Practice_Tuple_List_Set_Dict.ipynb\" target=\"_parent\"><img src=\"https://colab.research.google.com/assets/colab-badge.svg\" alt=\"Open In Colab\"/></a>"
      ]
    },
    {
      "cell_type": "markdown",
      "metadata": {
        "id": "KPp5K0aE4FL0"
      },
      "source": [
        "**Tuples  Immutable**"
      ]
    },
    {
      "cell_type": "markdown",
      "metadata": {
        "id": "39Ja8ZAUPvUh"
      },
      "source": []
    },
    {
      "cell_type": "code",
      "metadata": {
        "colab": {
          "base_uri": "https://localhost:8080/"
        },
        "id": "97a7H3L-4J3s",
        "outputId": "956472ce-ba76-4496-b0d5-3d86bf065095"
      },
      "source": [
        "A_tuple = ('Bombay','Arvind Joshi',1.54,3,True)\n",
        "type(A_tuple)\n",
        "# contains string,float,int and Boolean"
      ],
      "execution_count": null,
      "outputs": [
        {
          "output_type": "execute_result",
          "data": {
            "text/plain": [
              "tuple"
            ]
          },
          "metadata": {
            "tags": []
          },
          "execution_count": 3
        }
      ]
    },
    {
      "cell_type": "code",
      "metadata": {
        "colab": {
          "base_uri": "https://localhost:8080/",
          "height": 35
        },
        "id": "_PYpnPBCCl0a",
        "outputId": "500923b6-8546-40fc-bc7a-fe8895bc2993"
      },
      "source": [
        "A_tuple[1]\n",
        "Note that squae brackets indicate index "
      ],
      "execution_count": null,
      "outputs": [
        {
          "output_type": "execute_result",
          "data": {
            "application/vnd.google.colaboratory.intrinsic+json": {
              "type": "string"
            },
            "text/plain": [
              "'Arvind Joshi'"
            ]
          },
          "metadata": {
            "tags": []
          },
          "execution_count": 4
        }
      ]
    },
    {
      "cell_type": "code",
      "metadata": {
        "colab": {
          "base_uri": "https://localhost:8080/"
        },
        "id": "ik8MJqWBCtqB",
        "outputId": "e14e9002-37f6-4e25-bd2d-5e9eec436175"
      },
      "source": [
        "A_tuple[1:4]"
      ],
      "execution_count": null,
      "outputs": [
        {
          "output_type": "execute_result",
          "data": {
            "text/plain": [
              "('Arvind Joshi', 1.54, 3)"
            ]
          },
          "metadata": {
            "tags": []
          },
          "execution_count": 5
        }
      ]
    },
    {
      "cell_type": "code",
      "metadata": {
        "colab": {
          "base_uri": "https://localhost:8080/",
          "height": 35
        },
        "id": "I8a7ilxMC5LZ",
        "outputId": "971fa42f-d1b4-495f-e7a4-0d7de08c2312"
      },
      "source": [
        "A_tuple[1:4][0][2]\n",
        "#here we  have taken index 1 to 3 and then again indexing the 1 iis now at 0 index and then again indexing 0 index here 2nd index is v"
      ],
      "execution_count": null,
      "outputs": [
        {
          "output_type": "execute_result",
          "data": {
            "application/vnd.google.colaboratory.intrinsic+json": {
              "type": "string"
            },
            "text/plain": [
              "'v'"
            ]
          },
          "metadata": {
            "tags": []
          },
          "execution_count": 9
        }
      ]
    },
    {
      "cell_type": "code",
      "metadata": {
        "colab": {
          "base_uri": "https://localhost:8080/"
        },
        "id": "qpCWxgGYDqYV",
        "outputId": "252dc011-2316-4745-be9c-68d19bfe81f4"
      },
      "source": [
        "tuple_add= (1,'p', 3)\n",
        "tuple3= tuple_add + A_tuple\n",
        "tuple3\n",
        "# See here it is now new tuple unlike dict and lists "
      ],
      "execution_count": null,
      "outputs": [
        {
          "output_type": "execute_result",
          "data": {
            "text/plain": [
              "(1, 'p', 3, 'Bombay', 'Arvind Joshi', 1.54, 3, True)"
            ]
          },
          "metadata": {
            "tags": []
          },
          "execution_count": 11
        }
      ]
    },
    {
      "cell_type": "code",
      "metadata": {
        "colab": {
          "base_uri": "https://localhost:8080/",
          "height": 198
        },
        "id": "0iYm2QVdEbiz",
        "outputId": "36d656f4-819d-40fd-959e-3a9c6b2c6a19"
      },
      "source": [
        "tuple3[1] = 5\n",
        "tuple3\n",
        "# Tuples  are Immutable Error shows  that you can not change element at index 1 i.e.p to 5 and then getting the  same name tuple "
      ],
      "execution_count": null,
      "outputs": [
        {
          "output_type": "error",
          "ename": "TypeError",
          "evalue": "ignored",
          "traceback": [
            "\u001b[0;31m---------------------------------------------------------------------------\u001b[0m",
            "\u001b[0;31mTypeError\u001b[0m                                 Traceback (most recent call last)",
            "\u001b[0;32m<ipython-input-20-633b5a85375a>\u001b[0m in \u001b[0;36m<module>\u001b[0;34m()\u001b[0m\n\u001b[0;32m----> 1\u001b[0;31m \u001b[0mtuple3\u001b[0m\u001b[0;34m[\u001b[0m\u001b[0;36m1\u001b[0m\u001b[0;34m]\u001b[0m \u001b[0;34m=\u001b[0m \u001b[0;36m5\u001b[0m\u001b[0;34m\u001b[0m\u001b[0;34m\u001b[0m\u001b[0m\n\u001b[0m\u001b[1;32m      2\u001b[0m \u001b[0mtuple3\u001b[0m\u001b[0;34m\u001b[0m\u001b[0;34m\u001b[0m\u001b[0m\n\u001b[1;32m      3\u001b[0m \u001b[0;31m# Tuples  are Immutable Error shows  that you can not change element at index 1 i.e.p to 5 and then getting the  same name tuple\u001b[0m\u001b[0;34m\u001b[0m\u001b[0;34m\u001b[0m\u001b[0;34m\u001b[0m\u001b[0m\n",
            "\u001b[0;31mTypeError\u001b[0m: 'tuple' object does not support item assignment"
          ]
        }
      ]
    },
    {
      "cell_type": "code",
      "metadata": {
        "colab": {
          "base_uri": "https://localhost:8080/"
        },
        "id": "NhMM_YGtFfan",
        "outputId": "4e63f890-5911-40af-d884-03743f5185c5"
      },
      "source": [
        "len(tuple_add)"
      ],
      "execution_count": null,
      "outputs": [
        {
          "output_type": "execute_result",
          "data": {
            "text/plain": [
              "3"
            ]
          },
          "metadata": {
            "tags": []
          },
          "execution_count": 18
        }
      ]
    },
    {
      "cell_type": "code",
      "metadata": {
        "id": "HYtrkfZhGiT6"
      },
      "source": [
        "# Nesting\n",
        "tuple1= ((1,'p', 3),'Bombay','Arvind Joshi',1.54,3,True )"
      ],
      "execution_count": null,
      "outputs": []
    },
    {
      "cell_type": "code",
      "metadata": {
        "colab": {
          "base_uri": "https://localhost:8080/",
          "height": 35
        },
        "id": "woJjFsy7G5QD",
        "outputId": "07581711-0568-432d-a42a-032fbee97701"
      },
      "source": [
        "tuple1[2]\n",
        "tuple1[2][1]"
      ],
      "execution_count": null,
      "outputs": [
        {
          "output_type": "execute_result",
          "data": {
            "application/vnd.google.colaboratory.intrinsic+json": {
              "type": "string"
            },
            "text/plain": [
              "'r'"
            ]
          },
          "metadata": {
            "tags": []
          },
          "execution_count": 27
        }
      ]
    },
    {
      "cell_type": "markdown",
      "metadata": {
        "id": "opRtDzGoIAXo"
      },
      "source": [
        "# **LISTS              Mutable and orderd slicing indexing same as tuple**"
      ]
    },
    {
      "cell_type": "code",
      "metadata": {
        "colab": {
          "base_uri": "https://localhost:8080/"
        },
        "id": "XM7hRdydIC-M",
        "outputId": "d0563a72-33e3-424d-b5fd-af8db4458549"
      },
      "source": [
        "L= [(1,'p', 3),'Bombay','Arvind Joshi',1.54,3,True]\n",
        "# Lists  are  mutable i.e. while tuples are immutable but we have here changed the index 2 element and got the same lisit 'L'\n",
        "L[2]= 'oxygen'\n",
        "L"
      ],
      "execution_count": null,
      "outputs": [
        {
          "output_type": "execute_result",
          "data": {
            "text/plain": [
              "[(1, 'p', 3), 'Bombay', 'oxygen', 1.54, 3, True]"
            ]
          },
          "metadata": {
            "tags": []
          },
          "execution_count": 2
        }
      ]
    },
    {
      "cell_type": "code",
      "metadata": {
        "colab": {
          "base_uri": "https://localhost:8080/"
        },
        "id": "dGhY5rH6I0Co",
        "outputId": "d50b1788-6e0c-43bc-c507-4fcb3dd97463"
      },
      "source": [
        "# Since it is mutable so we can do  extend and append operatoins\n",
        "L.extend(['pop',5])\n",
        "L\n",
        "\n"
      ],
      "execution_count": null,
      "outputs": [
        {
          "output_type": "execute_result",
          "data": {
            "text/plain": [
              "[(1, 'p', 3), 'Bombay', 'oxygen', 1.54, 3, True, 'pop', 5]"
            ]
          },
          "metadata": {
            "tags": []
          },
          "execution_count": 3
        }
      ]
    },
    {
      "cell_type": "code",
      "metadata": {
        "id": "AaGfBhgIK0eo",
        "colab": {
          "base_uri": "https://localhost:8080/"
        },
        "outputId": "22905453-2044-4d5f-a09e-7aa4097b7c8e"
      },
      "source": [
        "# Lists  are  mutable i.e. while tuples are immutable but we have here changed the index 2 element and got the same lisit 'L'\n",
        "L.append(['pop',4])\n",
        "L"
      ],
      "execution_count": null,
      "outputs": [
        {
          "output_type": "execute_result",
          "data": {
            "text/plain": [
              "[(1, 'p', 3), 'Bombay', 'oxygen', 1.54, 3, True, 'pop', 5, ['pop', 4]]"
            ]
          },
          "metadata": {
            "tags": []
          },
          "execution_count": 4
        }
      ]
    },
    {
      "cell_type": "code",
      "metadata": {
        "id": "ohfbKqdcLSow"
      },
      "source": [
        "del(L[3])\n",
        "L"
      ],
      "execution_count": null,
      "outputs": []
    },
    {
      "cell_type": "code",
      "metadata": {
        "colab": {
          "base_uri": "https://localhost:8080/"
        },
        "id": "QoprmYAdREl-",
        "outputId": "3e4e3e35-3e36-4b07-d510-eef380226ee0"
      },
      "source": [
        " \n",
        "('A,B,C,D').split(',')"
      ],
      "execution_count": null,
      "outputs": [
        {
          "output_type": "execute_result",
          "data": {
            "text/plain": [
              "['A', 'B', 'C', 'D']"
            ]
          },
          "metadata": {
            "tags": []
          },
          "execution_count": 5
        }
      ]
    },
    {
      "cell_type": "code",
      "metadata": {
        "colab": {
          "base_uri": "https://localhost:8080/"
        },
        "id": "YIJWrK23SqPG",
        "outputId": "52771f00-7c98-4f59-f705-d0be498e41d3"
      },
      "source": [
        "'Arvind,Joshi'.split(',')"
      ],
      "execution_count": null,
      "outputs": [
        {
          "output_type": "execute_result",
          "data": {
            "text/plain": [
              "['Arvind', 'Joshi']"
            ]
          },
          "metadata": {
            "tags": []
          },
          "execution_count": 6
        }
      ]
    },
    {
      "cell_type": "code",
      "metadata": {
        "colab": {
          "base_uri": "https://localhost:8080/"
        },
        "id": "PLDKJMMdToke",
        "outputId": "4e2a2b63-0338-409a-d4aa-e74c2e644eb9"
      },
      "source": [
        "# Aliasing: Land L2  are same\n",
        "L= [(1,'p', 3),'Bombay','Arvind Joshi',1.54,3,True]\n",
        "L2= [(1,'p', 3),'Bombay','Arvind Joshi',1.54,3,True]\n",
        "L2\n",
        "# Now if\n",
        "L2[0]=9\n",
        "L2"
      ],
      "execution_count": null,
      "outputs": [
        {
          "output_type": "execute_result",
          "data": {
            "text/plain": [
              "[9, 'Bombay', 'Arvind Joshi', 1.54, 3, True]"
            ]
          },
          "metadata": {
            "tags": []
          },
          "execution_count": 13
        }
      ]
    },
    {
      "cell_type": "code",
      "metadata": {
        "colab": {
          "base_uri": "https://localhost:8080/"
        },
        "id": "fy9XAKAWUdAG",
        "outputId": "d8a8a2fb-9567-464d-dcb7-9cfdd8fe4c8b"
      },
      "source": [
        "#  And L will also be with same change though we have not changed L\n",
        "L"
      ],
      "execution_count": null,
      "outputs": [
        {
          "output_type": "execute_result",
          "data": {
            "text/plain": [
              "[(1, 'p', 3), 'Bombay', 'Arvind Joshi', 1.54, 3, True]"
            ]
          },
          "metadata": {
            "tags": []
          },
          "execution_count": 15
        }
      ]
    },
    {
      "cell_type": "code",
      "metadata": {
        "colab": {
          "base_uri": "https://localhost:8080/"
        },
        "id": "5aPUNGPDU_vg",
        "outputId": "cdadae11-fe9d-4ea4-d569-e42c45aa7f17"
      },
      "source": [
        "# CLONING of L in lists\n",
        "B=L[:]\n",
        "B"
      ],
      "execution_count": null,
      "outputs": [
        {
          "output_type": "execute_result",
          "data": {
            "text/plain": [
              "[(1, 'p', 3), 'Bombay', 'Arvind Joshi', 1.54, 3, True]"
            ]
          },
          "metadata": {
            "tags": []
          },
          "execution_count": 77
        }
      ]
    },
    {
      "cell_type": "markdown",
      "metadata": {
        "id": "7TpdSUmBliKs"
      },
      "source": [
        "#  SET not ordered BUT MUTABLE"
      ]
    },
    {
      "cell_type": "markdown",
      "metadata": {
        "id": "gx-cJUrIlWff"
      },
      "source": [
        "# A set is a unique collection of objects in Python. You can denote a set with a curly bracket {}. Python will automatically remove duplicate items"
      ]
    },
    {
      "cell_type": "code",
      "metadata": {
        "colab": {
          "base_uri": "https://localhost:8080/",
          "height": 181
        },
        "id": "92dEMIN_lgqD",
        "outputId": "61e8178b-b91a-4a3e-8e5f-aa356da99453"
      },
      "source": [
        "# Set is not Subscriptable like Dict ,tuples, lists\n",
        "#The [...] indexing syntax is called a subscript, because it's equivalent to mathematical notation\n",
        " that uses actual subscripts; e.g. a[1] is Python for what mathematicians would write as a₁.\n",
        " So \"subscriptable\" means \"able to be subscripted\". \n",
        "\n",
        "S = {(1,'p', 3),'Bombay','Arvind Joshi',1.54,3,True}\n",
        "S[0:4]"
      ],
      "execution_count": null,
      "outputs": [
        {
          "output_type": "error",
          "ename": "TypeError",
          "evalue": "ignored",
          "traceback": [
            "\u001b[0;31m---------------------------------------------------------------------------\u001b[0m",
            "\u001b[0;31mTypeError\u001b[0m                                 Traceback (most recent call last)",
            "\u001b[0;32m<ipython-input-79-b1f87ec5d661>\u001b[0m in \u001b[0;36m<module>\u001b[0;34m()\u001b[0m\n\u001b[1;32m      1\u001b[0m \u001b[0mS\u001b[0m \u001b[0;34m=\u001b[0m \u001b[0;34m{\u001b[0m\u001b[0;34m(\u001b[0m\u001b[0;36m1\u001b[0m\u001b[0;34m,\u001b[0m\u001b[0;34m'p'\u001b[0m\u001b[0;34m,\u001b[0m \u001b[0;36m3\u001b[0m\u001b[0;34m)\u001b[0m\u001b[0;34m,\u001b[0m\u001b[0;34m'Bombay'\u001b[0m\u001b[0;34m,\u001b[0m\u001b[0;34m'Arvind Joshi'\u001b[0m\u001b[0;34m,\u001b[0m\u001b[0;36m1.54\u001b[0m\u001b[0;34m,\u001b[0m\u001b[0;36m3\u001b[0m\u001b[0;34m,\u001b[0m\u001b[0;32mTrue\u001b[0m\u001b[0;34m}\u001b[0m\u001b[0;34m\u001b[0m\u001b[0;34m\u001b[0m\u001b[0m\n\u001b[0;32m----> 2\u001b[0;31m \u001b[0mS\u001b[0m\u001b[0;34m[\u001b[0m\u001b[0;36m0\u001b[0m\u001b[0;34m:\u001b[0m\u001b[0;36m4\u001b[0m\u001b[0;34m]\u001b[0m\u001b[0;34m\u001b[0m\u001b[0;34m\u001b[0m\u001b[0m\n\u001b[0m",
            "\u001b[0;31mTypeError\u001b[0m: 'set' object is not subscriptable"
          ]
        }
      ]
    },
    {
      "cell_type": "code",
      "metadata": {
        "colab": {
          "base_uri": "https://localhost:8080/"
        },
        "id": "hIC4MyGBnhrQ",
        "outputId": "9b73b1ec-850c-4814-c49c-c51dde04fef2"
      },
      "source": [
        "L = [(1,'p', 3),'Bombay','Arvind Joshi',1.54,3,True,1.54]\n",
        "## Convert List to Set\n",
        "S= set(L)\n",
        "S"
      ],
      "execution_count": null,
      "outputs": [
        {
          "output_type": "execute_result",
          "data": {
            "text/plain": [
              "{(1, 'p', 3), 1.54, 3, 'Arvind Joshi', 'Bombay', True}"
            ]
          },
          "metadata": {
            "tags": []
          },
          "execution_count": 82
        }
      ]
    },
    {
      "cell_type": "code",
      "metadata": {
        "colab": {
          "base_uri": "https://localhost:8080/"
        },
        "id": "IYYLGIVSoJda",
        "outputId": "de55f2f0-321b-4567-de91-62ff9bc558bf"
      },
      "source": [
        "# Add element to set\n",
        "\n",
        "S.add(\"NSYNC\")\n",
        "S"
      ],
      "execution_count": null,
      "outputs": [
        {
          "output_type": "execute_result",
          "data": {
            "text/plain": [
              "{(1, 'p', 3), 1.54, 3, 'Arvind Joshi', 'Bombay', 'NSYNC', True}"
            ]
          },
          "metadata": {
            "tags": []
          },
          "execution_count": 83
        }
      ]
    },
    {
      "cell_type": "markdown",
      "metadata": {
        "id": "2cX0ogIxo0rS"
      },
      "source": [
        "If we add the same element twice, nothing will happen as there can be no duplicates in a set:"
      ]
    },
    {
      "cell_type": "code",
      "metadata": {
        "colab": {
          "base_uri": "https://localhost:8080/"
        },
        "id": "6W1qrU_Iokea",
        "outputId": "f311393a-d407-44db-d45e-723d0e822c0c"
      },
      "source": [
        "# again Add same element to set\n",
        "S.add(\"NSYNC\")\n",
        "S"
      ],
      "execution_count": null,
      "outputs": [
        {
          "output_type": "execute_result",
          "data": {
            "text/plain": [
              "{(1, 'p', 3), 1.54, 3, 'Arvind Joshi', 'Bombay', 'NSYNC', True}"
            ]
          },
          "metadata": {
            "tags": []
          },
          "execution_count": 84
        }
      ]
    },
    {
      "cell_type": "code",
      "metadata": {
        "id": "h9TL4nPNowWS"
      },
      "source": [],
      "execution_count": null,
      "outputs": []
    },
    {
      "cell_type": "markdown",
      "metadata": {
        "id": "b1TR24NSpATk"
      },
      "source": [
        "We can remove an item from a set using the remove method: as in list we use del because list is mutable but we can not use this operation in  tuple as they are immutable"
      ]
    },
    {
      "cell_type": "code",
      "metadata": {
        "colab": {
          "base_uri": "https://localhost:8080/"
        },
        "id": "9jIfrCbRphOy",
        "outputId": "c49a86f2-7cd8-476f-b6bb-45451d030606"
      },
      "source": [
        "S.remove(3)\n",
        "S"
      ],
      "execution_count": null,
      "outputs": [
        {
          "output_type": "execute_result",
          "data": {
            "text/plain": [
              "{(1, 'p', 3), 1.54, 'Arvind Joshi', 'Bombay', 'NSYNC', True}"
            ]
          },
          "metadata": {
            "tags": []
          },
          "execution_count": 87
        }
      ]
    },
    {
      "cell_type": "markdown",
      "metadata": {
        "id": "g2ycr9GfqHVb"
      },
      "source": [
        "# Sets Logic Operations\n",
        "\n",
        "difference, intersection, and union:\n",
        "\n",
        "\n",
        "\n"
      ]
    },
    {
      "cell_type": "code",
      "metadata": {
        "id": "XiykTWEaB8rr"
      },
      "source": [
        "# Sample Sets\n",
        "\n",
        "album1 = set([\"Thriller\", 'AC/DC', 'Back in Black'])\n",
        "album2 = set([ \"AC/DC\", \"Back in Black\", \"The Dark Side of the Moon\"])"
      ],
      "execution_count": null,
      "outputs": []
    },
    {
      "cell_type": "markdown",
      "metadata": {
        "id": "GFUdAqObqxaV"
      },
      "source": [
        "## **union**"
      ]
    },
    {
      "cell_type": "code",
      "metadata": {
        "colab": {
          "base_uri": "https://localhost:8080/"
        },
        "id": "Ro__Jcx1q1pl",
        "outputId": "d0475597-ee8b-48ea-f97d-80e963859fee"
      },
      "source": [
        "album1.union(album2)"
      ],
      "execution_count": null,
      "outputs": [
        {
          "output_type": "execute_result",
          "data": {
            "text/plain": [
              "{'AC/DC', 'Back in Black', 'The Dark Side of the Moon', 'Thriller'}"
            ]
          },
          "metadata": {
            "tags": []
          },
          "execution_count": 18
        }
      ]
    },
    {
      "cell_type": "markdown",
      "metadata": {
        "id": "uK4lXUq7rNAB"
      },
      "source": [
        "# Intersection"
      ]
    },
    {
      "cell_type": "code",
      "metadata": {
        "colab": {
          "base_uri": "https://localhost:8080/"
        },
        "id": "cOtV62wJrPr7",
        "outputId": "34499c84-046f-48d5-f583-b4b4393e26c9"
      },
      "source": [
        "album1.intersection(album2)"
      ],
      "execution_count": null,
      "outputs": [
        {
          "output_type": "execute_result",
          "data": {
            "text/plain": [
              "{'AC/DC', 'Back in Black'}"
            ]
          },
          "metadata": {
            "tags": []
          },
          "execution_count": 19
        }
      ]
    },
    {
      "cell_type": "markdown",
      "metadata": {
        "id": "btPIJIQbrjFj"
      },
      "source": [
        "## **difference**"
      ]
    },
    {
      "cell_type": "markdown",
      "metadata": {
        "id": "1duvDLpzraG7"
      },
      "source": []
    },
    {
      "cell_type": "code",
      "metadata": {
        "colab": {
          "base_uri": "https://localhost:8080/"
        },
        "id": "UNBKM1LxrnOk",
        "outputId": "9cf1341b-791e-496f-a97d-bca9f5797e38"
      },
      "source": [
        "album1.difference(album2)"
      ],
      "execution_count": null,
      "outputs": [
        {
          "output_type": "execute_result",
          "data": {
            "text/plain": [
              "{'Thriller'}"
            ]
          },
          "metadata": {
            "tags": []
          },
          "execution_count": 33
        }
      ]
    },
    {
      "cell_type": "code",
      "metadata": {
        "colab": {
          "base_uri": "https://localhost:8080/"
        },
        "id": "ExrwWCBGr75C",
        "outputId": "679962e0-7613-4f70-f80f-21e5ea4136b4"
      },
      "source": [
        "# Check if superset\n",
        "\n",
        "set(album1).issuperset(album2)   "
      ],
      "execution_count": null,
      "outputs": [
        {
          "output_type": "execute_result",
          "data": {
            "text/plain": [
              "False"
            ]
          },
          "metadata": {
            "tags": []
          },
          "execution_count": 34
        }
      ]
    },
    {
      "cell_type": "code",
      "metadata": {
        "colab": {
          "base_uri": "https://localhost:8080/"
        },
        "id": "lN_e5LshsHYa",
        "outputId": "f0983a6f-6431-4399-b6d3-b5d21a2e2424"
      },
      "source": [
        "# Check if subset\n",
        "\n",
        "set(album2).issubset(album1)     "
      ],
      "execution_count": null,
      "outputs": [
        {
          "output_type": "execute_result",
          "data": {
            "text/plain": [
              "False"
            ]
          },
          "metadata": {
            "tags": []
          },
          "execution_count": 35
        }
      ]
    },
    {
      "cell_type": "markdown",
      "metadata": {
        "id": "HR7j3XZisZkr"
      },
      "source": [
        "## **DICTIONARY**  Mutable hai"
      ]
    },
    {
      "cell_type": "code",
      "metadata": {
        "colab": {
          "base_uri": "https://localhost:8080/"
        },
        "id": "iXDjoybUsdCG",
        "outputId": "6124cc0f-62bf-40eb-e453-a455539cda9b"
      },
      "source": [
        "# Create a sample dictionary\n",
        "\n",
        "movies_dict = {\"Thriller\": \"1982\", \"Back in Black\": \"1980\", \\\n",
        "                    \"The Dark Side of the Moon\": \"1973\", \"The Bodyguard\": \"1992\", \\\n",
        "                    \"Bat Out of Hell\": \"1977\", \"Their Greatest Hits (1971-1975)\": \"1976\", \\\n",
        "                    \"Saturday Night Fever\": \"1977\", \"Rumours\": \"1977\"}\n",
        "movies_dict"
      ],
      "execution_count": null,
      "outputs": [
        {
          "output_type": "execute_result",
          "data": {
            "text/plain": [
              "{'Back in Black': '1980',\n",
              " 'Bat Out of Hell': '1977',\n",
              " 'Rumours': '1977',\n",
              " 'Saturday Night Fever': '1977',\n",
              " 'The Bodyguard': '1992',\n",
              " 'The Dark Side of the Moon': '1973',\n",
              " 'Their Greatest Hits (1971-1975)': '1976',\n",
              " 'Thriller': '1982'}"
            ]
          },
          "metadata": {
            "tags": []
          },
          "execution_count": 1
        }
      ]
    },
    {
      "cell_type": "code",
      "metadata": {
        "colab": {
          "base_uri": "https://localhost:8080/",
          "height": 35
        },
        "id": "mk2Fe5Jrupky",
        "outputId": "e8054fbb-b37f-4dd6-8bed-becb9077e177"
      },
      "source": [
        "movies_dict[\"Thriller\"]"
      ],
      "execution_count": null,
      "outputs": [
        {
          "output_type": "execute_result",
          "data": {
            "application/vnd.google.colaboratory.intrinsic+json": {
              "type": "string"
            },
            "text/plain": [
              "'1982'"
            ]
          },
          "metadata": {
            "tags": []
          },
          "execution_count": 2
        }
      ]
    },
    {
      "cell_type": "code",
      "metadata": {
        "colab": {
          "base_uri": "https://localhost:8080/"
        },
        "id": "T06A2S89vIMf",
        "outputId": "2a15fc7b-5503-4b79-f7f6-9e88b9589740"
      },
      "source": [
        "movies_dict.keys()"
      ],
      "execution_count": null,
      "outputs": [
        {
          "output_type": "execute_result",
          "data": {
            "text/plain": [
              "dict_keys(['Thriller', 'Back in Black', 'The Dark Side of the Moon', 'The Bodyguard', 'Bat Out of Hell', 'Their Greatest Hits (1971-1975)', 'Saturday Night Fever', 'Rumours'])"
            ]
          },
          "metadata": {
            "tags": []
          },
          "execution_count": 3
        }
      ]
    },
    {
      "cell_type": "code",
      "metadata": {
        "colab": {
          "base_uri": "https://localhost:8080/"
        },
        "id": "s43dxaghvg_Q",
        "outputId": "26addb55-95c8-4769-fbdc-df5aa535ecfe"
      },
      "source": [
        "movies_dict.values()"
      ],
      "execution_count": null,
      "outputs": [
        {
          "output_type": "execute_result",
          "data": {
            "text/plain": [
              "dict_values(['1982', '1980', '1973', '1992', '1977', '1976', '1977', '1977'])"
            ]
          },
          "metadata": {
            "tags": []
          },
          "execution_count": 4
        }
      ]
    },
    {
      "cell_type": "code",
      "metadata": {
        "colab": {
          "base_uri": "https://localhost:8080/"
        },
        "id": "pYrIFvvfvxM2",
        "outputId": "837b6e4f-594e-4730-b088-796d30ff8938"
      },
      "source": [
        "# Append value with key into dictionary\n",
        "movies_dict['arvind'] = '2007'\n",
        "movies_dict"
      ],
      "execution_count": null,
      "outputs": [
        {
          "output_type": "execute_result",
          "data": {
            "text/plain": [
              "{'Back in Black': '1980',\n",
              " 'Bat Out of Hell': '1977',\n",
              " 'Rumours': '1977',\n",
              " 'Saturday Night Fever': '1977',\n",
              " 'The Bodyguard': '1992',\n",
              " 'The Dark Side of the Moon': '1973',\n",
              " 'Their Greatest Hits (1971-1975)': '1976',\n",
              " 'Thriller': '1982',\n",
              " 'arvind': '2007'}"
            ]
          },
          "metadata": {
            "tags": []
          },
          "execution_count": 5
        }
      ]
    },
    {
      "cell_type": "code",
      "metadata": {
        "colab": {
          "base_uri": "https://localhost:8080/"
        },
        "id": "Nph8z2DwwE-g",
        "outputId": "bd44c729-5627-4875-887c-83b18db362a9"
      },
      "source": [
        "# Delete entries by key\n",
        "\n",
        "del(movies_dict[\"arvind\"])\n",
        "movies_dict"
      ],
      "execution_count": null,
      "outputs": [
        {
          "output_type": "execute_result",
          "data": {
            "text/plain": [
              "{'Back in Black': '1980',\n",
              " 'Bat Out of Hell': '1977',\n",
              " 'Rumours': '1977',\n",
              " 'Saturday Night Fever': '1977',\n",
              " 'The Bodyguard': '1992',\n",
              " 'The Dark Side of the Moon': '1973',\n",
              " 'Their Greatest Hits (1971-1975)': '1976',\n",
              " 'Thriller': '1982'}"
            ]
          },
          "metadata": {
            "tags": []
          },
          "execution_count": 6
        }
      ]
    },
    {
      "cell_type": "code",
      "metadata": {
        "id": "0u4sqPdlwXz3"
      },
      "source": [
        "del(movies_dict[\"The Dark Side of the Moon\"])\n"
      ],
      "execution_count": null,
      "outputs": []
    },
    {
      "cell_type": "code",
      "metadata": {
        "colab": {
          "base_uri": "https://localhost:8080/"
        },
        "id": "owd1YnDHx5TX",
        "outputId": "92c8e9bd-98e7-4b70-c1bd-e0b7741c4a9e"
      },
      "source": [
        "movies_dict"
      ],
      "execution_count": null,
      "outputs": [
        {
          "output_type": "execute_result",
          "data": {
            "text/plain": [
              "{'Back in Black': '1980',\n",
              " 'Bat Out of Hell': '1977',\n",
              " 'Rumours': '1977',\n",
              " 'Saturday Night Fever': '1977',\n",
              " 'The Bodyguard': '1992',\n",
              " 'Their Greatest Hits (1971-1975)': '1976',\n",
              " 'Thriller': '1982'}"
            ]
          },
          "metadata": {
            "tags": []
          },
          "execution_count": 8
        }
      ]
    },
    {
      "cell_type": "code",
      "metadata": {
        "colab": {
          "base_uri": "https://localhost:8080/"
        },
        "id": "4rl49XV8yezg",
        "outputId": "7be23272-5e71-4998-da76-76b9bf66125a"
      },
      "source": [
        "# Verify the key is in the dictionary\n",
        "\n",
        "'Rumours' in movies_dict"
      ],
      "execution_count": null,
      "outputs": [
        {
          "output_type": "execute_result",
          "data": {
            "text/plain": [
              "True"
            ]
          },
          "metadata": {
            "tags": []
          },
          "execution_count": 9
        }
      ]
    },
    {
      "cell_type": "code",
      "metadata": {
        "colab": {
          "base_uri": "https://localhost:8080/"
        },
        "id": "4YqKR1L-zExp",
        "outputId": "d8b0e3b4-aa7b-4edd-90f3-aebaf6fad307"
      },
      "source": [
        "del(movies_dict[\"Rumours\"])\n",
        "movies_dict"
      ],
      "execution_count": null,
      "outputs": [
        {
          "output_type": "execute_result",
          "data": {
            "text/plain": [
              "{'Back in Black': '1980',\n",
              " 'Bat Out of Hell': '1977',\n",
              " 'Saturday Night Fever': '1977',\n",
              " 'The Bodyguard': '1992',\n",
              " 'Their Greatest Hits (1971-1975)': '1976',\n",
              " 'Thriller': '1982'}"
            ]
          },
          "metadata": {
            "tags": []
          },
          "execution_count": 10
        }
      ]
    },
    {
      "cell_type": "markdown",
      "metadata": {
        "id": "bm3L-u8FP0gY"
      },
      "source": [
        "# **Condition Statements**\n",
        "# Comparison Operators\n",
        "Comparison operations compare some value or operand and, based on a condition, they produce a Boolean. When comparing two values you can use these operators:\n",
        "\n",
        "equal: ==\n",
        "\n",
        "not equal: !=\n",
        "\n",
        "greater than: >\n",
        "\n",
        "less than: <\n",
        "\n",
        "greater than or equal to: >=\n",
        "\n",
        "less than or equal to: <=\n",
        "\n",
        "Let's assign a a value of 5. Use the equality operator denoted with two equal\n",
        "\n",
        " == signs to determine if two values are equal. The case below compares the variable a with 6."
      ]
    },
    {
      "cell_type": "code",
      "metadata": {
        "id": "CYRehHsLP68t"
      },
      "source": [],
      "execution_count": null,
      "outputs": []
    }
  ]
}