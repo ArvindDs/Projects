{
  "nbformat": 4,
  "nbformat_minor": 0,
  "metadata": {
    "colab": {
      "provenance": [],
      "authorship_tag": "ABX9TyPGxKRkh9Pw0E1zDHjDhwTh",
      "include_colab_link": true
    },
    "kernelspec": {
      "name": "python3",
      "display_name": "Python 3"
    },
    "language_info": {
      "name": "python"
    }
  },
  "cells": [
    {
      "cell_type": "markdown",
      "metadata": {
        "id": "view-in-github",
        "colab_type": "text"
      },
      "source": [
        "<a href=\"https://colab.research.google.com/github/ArvindDs/Projects/blob/main/loop_if_else_24_10.ipynb\" target=\"_parent\"><img src=\"https://colab.research.google.com/assets/colab-badge.svg\" alt=\"Open In Colab\"/></a>"
      ]
    },
    {
      "cell_type": "code",
      "metadata": {
        "colab": {
          "base_uri": "https://localhost:8080/"
        },
        "id": "36qF-Fb72oPJ",
        "outputId": "304104de-b9c0-42a0-99c3-57198da7b930"
      },
      "source": [
        "var1=(1,2,3,4,5)\n",
        "for item in var1:\n",
        "  if item>3:\n",
        "    print('good')\n",
        "    if item ==4:\n",
        "      print ('equal')\n",
        "  else:\n",
        "    print('unequal')\n"
      ],
      "execution_count": null,
      "outputs": [
        {
          "output_type": "stream",
          "name": "stdout",
          "text": [
            "unequal\n",
            "unequal\n",
            "unequal\n",
            "good\n",
            "equal\n",
            "good\n"
          ]
        }
      ]
    },
    {
      "cell_type": "code",
      "metadata": {
        "colab": {
          "base_uri": "https://localhost:8080/"
        },
        "id": "N14vldnO5AGV",
        "outputId": "ae44579a-f888-4131-bb3f-2fdad9a2d909"
      },
      "source": [
        "var1=(1,2,3,4,8)\n",
        "for item in var1:\n",
        "  if item>5:\n",
        "    print('good')\n",
        "  if item ==4:\n",
        "    print ('equal')\n",
        "  else:\n",
        "    print('unequal')"
      ],
      "execution_count": null,
      "outputs": [
        {
          "output_type": "stream",
          "name": "stdout",
          "text": [
            "unequal\n",
            "unequal\n",
            "unequal\n",
            "equal\n",
            "good\n",
            "unequal\n"
          ]
        }
      ]
    },
    {
      "cell_type": "code",
      "metadata": {
        "colab": {
          "base_uri": "https://localhost:8080/"
        },
        "id": "CrEBuePI5YL1",
        "outputId": "e006d071-97ca-42fb-f0fa-cef9bc4637d8"
      },
      "source": [
        "# Use for loop to change the elements in list\n",
        "\n",
        "squares = ['red', 'yellow', 'green', 'purple', 'blue']\n",
        "\n",
        "for i in range(0, 5):\n",
        "    print(\"Before square \", i, 'is',  squares[i])\n",
        "    squares[i] = 'weight'\n",
        "    print(\"After square \", i, 'is',  squares[i])"
      ],
      "execution_count": null,
      "outputs": [
        {
          "output_type": "stream",
          "name": "stdout",
          "text": [
            "Before square  0 is red\n",
            "After square  0 is weight\n",
            "Before square  1 is yellow\n",
            "After square  1 is weight\n",
            "Before square  2 is green\n",
            "After square  2 is weight\n",
            "Before square  3 is purple\n",
            "After square  3 is weight\n",
            "Before square  4 is blue\n",
            "After square  4 is weight\n"
          ]
        }
      ]
    },
    {
      "cell_type": "code",
      "metadata": {
        "colab": {
          "base_uri": "https://localhost:8080/",
          "height": 130
        },
        "id": "N_aLPqIz52I4",
        "outputId": "42a9b576-8d82-4e88-c566-0a4577338faf"
      },
      "source": [
        "# Use for loop to change the elements in list\n",
        "\n",
        "list = ['red', 'yellow', 'green', 'purple', 'blue']\n",
        "for i in list:\n",
        "  if list[3]=='red':\n",
        "    print('indigo')\n",
        "  while list[0]=='red':\n",
        "     print('goods')\n",
        "     elif list[2]=='green':\n",
        "       prnt('nice')\n",
        "else:\n",
        "  print('nice')\n",
        "\n",
        "\n",
        "\n",
        "    "
      ],
      "execution_count": null,
      "outputs": [
        {
          "output_type": "error",
          "ename": "SyntaxError",
          "evalue": "ignored",
          "traceback": [
            "\u001b[0;36m  File \u001b[0;32m\"<ipython-input-43-6cc7805ac53f>\"\u001b[0;36m, line \u001b[0;32m9\u001b[0m\n\u001b[0;31m    elif list[2]=='green':\u001b[0m\n\u001b[0m       ^\u001b[0m\n\u001b[0;31mSyntaxError\u001b[0m\u001b[0;31m:\u001b[0m invalid syntax\n"
          ]
        }
      ]
    }
  ]
}