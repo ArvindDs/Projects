{
  "nbformat": 4,
  "nbformat_minor": 0,
  "metadata": {
    "colab": {
      "name": "Project 1 Numpy London Olympic.ipynb",
      "provenance": [],
      "authorship_tag": "ABX9TyOrf4unf0QMmOHAU9uvuj4h",
      "include_colab_link": true
    },
    "kernelspec": {
      "name": "python3",
      "display_name": "Python 3"
    },
    "language_info": {
      "name": "python"
    }
  },
  "cells": [
    {
      "cell_type": "markdown",
      "metadata": {
        "id": "view-in-github",
        "colab_type": "text"
      },
      "source": [
        "<a href=\"https://colab.research.google.com/github/ArvindDs/Projects/blob/main/Project_1_Numpy_London_Olympic.ipynb\" target=\"_parent\"><img src=\"https://colab.research.google.com/assets/colab-badge.svg\" alt=\"Open In Colab\"/></a>"
      ]
    },
    {
      "cell_type": "code",
      "execution_count": null,
      "metadata": {
        "colab": {
          "base_uri": "https://localhost:8080/"
        },
        "id": "pQlzzQTD56cV",
        "outputId": "9806d9ae-89c5-4d5e-c93a-6879deda4f9c"
      },
      "outputs": [
        {
          "output_type": "stream",
          "name": "stdout",
          "text": [
            "Drive already mounted at /content/drive; to attempt to forcibly remount, call drive.mount(\"/content/drive\", force_remount=True).\n"
          ]
        }
      ],
      "source": [
        "from google.colab import drive\n",
        "drive.mount('/content/drive')"
      ]
    },
    {
      "cell_type": "code",
      "source": [
        ""
      ],
      "metadata": {
        "id": "aWO6foOb__lx"
      },
      "execution_count": null,
      "outputs": []
    },
    {
      "cell_type": "code",
      "source": [
        "                                                                                                                                                                                                                                                                                                                                                                                                                                                                                                                                                                                                                                                                                                                                                                                                                                                                                                                                                                                                                                                                                                                                                                                                                                                                                                                                                                                                                                                                                                                                                                                                                                                                                                                                                                                                                                                                                                                                                                                                                                                                                                                                                                                                                                                                                                                                                                                                                                                                                                                                                                                                                                                                                                                                                                                                                                                                                                                                                                                                                                                                                                                        import numpy as np             #for numerical computations like log,exp,sqrt etc\n",
        "import pandas as pd            #for reading & storing data, pre-processing\n",
        "import matplotlib.pylab as plt #for visualization\n",
        "#for making sure matplotlib plots are generated in Jupyter notebook itself\n",
        "%matplotlib inline             \n",
        "from statsmodels.tsa.stattools import adfuller\n",
        "from statsmodels.tsa.stattools import acf, pacf\n",
        "from statsmodels.tsa.seasonal import seasonal_decompose\n",
        "from statsmodels.tsa.arima_model import ARIMA\n",
        "from matplotlib.pylab import rcParams\n",
        "rcParams['figure.figsize'] = 10, 6                                                                                                                                                                                                                          "
      ],
      "metadata": {
        "id": "tWikK65462gf"
      },
      "execution_count": null,
      "outputs": []
    },
    {
      "cell_type": "code",
      "source": [
        ""
      ],
      "metadata": {
        "id": "vzDOuuEzHcfo"
      },
      "execution_count": null,
      "outputs": []
    },
    {
      "cell_type": "markdown",
      "source": [
        "![image.png](data:image/png;base64,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)"
      ],
      "metadata": {
        "id": "llYYbN-JDBWX"
      }
    },
    {
      "cell_type": "code",
      "source": [
        "from google.colab import data_table\n",
        "data_table.enable_dataframe_formatter()\n",
        "\n",
        "df=pd.read_excel('/content/drive/MyDrive/Olympic 2012 Medal Tally.xlsx')\n",
        "df.head(11)"
      ],
      "metadata": {
        "colab": {
          "base_uri": "https://localhost:8080/",
          "height": 284
        },
        "id": "b9x8nQD0-qhJ",
        "outputId": "85a6214a-c422-493e-e175-7dc7ba82eaf8"
      },
      "execution_count": null,
      "outputs": [
        {
          "output_type": "execute_result",
          "data": {
            "application/vnd.google.colaboratory.module+javascript": "\n      import \"https://ssl.gstatic.com/colaboratory/data_table/a6224c040fa35dcf/data_table.js\";\n\n      window.createDataTable({\n        data: [[{\n            'v': 0,\n            'f': \"0\",\n        },\n{\n            'v': NaN,\n            'f': \"NaN\",\n        },\n\"Country\",\n\"Country Code\",\n\"Year\",\n\"Medal Tally\",\nNaN,\nNaN],\n [{\n            'v': 1,\n            'f': \"1\",\n        },\n{\n            'v': NaN,\n            'f': \"NaN\",\n        },\nNaN,\nNaN,\nNaN,\n\"Gold\",\n\"Silver\",\n\"Bronze\"],\n [{\n            'v': 2,\n            'f': \"2\",\n        },\n{\n            'v': NaN,\n            'f': \"NaN\",\n        },\n\"Great Britain\",\n\"GBR\",\n2012,\n29,\n17,\n19],\n [{\n            'v': 3,\n            'f': \"3\",\n        },\n{\n            'v': NaN,\n            'f': \"NaN\",\n        },\n\"China \",\n\"CHN\",\n2012,\n38,\n28,\n22],\n [{\n            'v': 4,\n            'f': \"4\",\n        },\n{\n            'v': NaN,\n            'f': \"NaN\",\n        },\n\"Russia\",\n\"RUS\",\n2012,\n24,\n25,\n32],\n [{\n            'v': 5,\n            'f': \"5\",\n        },\n{\n            'v': NaN,\n            'f': \"NaN\",\n        },\n\"United States\",\n\"US\",\n2012,\n46,\n28,\n29],\n [{\n            'v': 6,\n            'f': \"6\",\n        },\n{\n            'v': NaN,\n            'f': \"NaN\",\n        },\n\"Korea\",\n\"KOR\",\n2012,\n13,\n8,\n7],\n [{\n            'v': 7,\n            'f': \"7\",\n        },\n{\n            'v': NaN,\n            'f': \"NaN\",\n        },\n\"Japan\",\n\"JPN\",\n2012,\n7,\n14,\n17],\n [{\n            'v': 8,\n            'f': \"8\",\n        },\n{\n            'v': NaN,\n            'f': \"NaN\",\n        },\n\"Germany\",\n\"GER\",\n2012,\n11,\n11,\n14]],\n        columns: [[\"number\", \"index\"], [\"number\", \"Unnamed: 0\"], [\"string\", \"Unnamed: 1\"], [\"string\", \"Unnamed: 2\"], [\"string\", \"Unnamed: 3\"], [\"string\", \"Unnamed: 4\"], [\"string\", \"Unnamed: 5\"], [\"string\", \"Unnamed: 6\"]],\n        columnOptions: [{\"width\": \"1px\", \"className\": \"index_column\"}],\n        rowsPerPage: 25,\n        helpUrl: \"https://colab.research.google.com/notebooks/data_table.ipynb\",\n        suppressOutputScrolling: true,\n        minimumWidth: undefined,\n      });\n    ",
            "text/html": [
              "\n",
              "  <div id=\"df-ae577b88-a7e0-435e-be6a-b021096e1152\">\n",
              "    <div class=\"colab-df-container\">\n",
              "      <div>\n",
              "<style scoped>\n",
              "    .dataframe tbody tr th:only-of-type {\n",
              "        vertical-align: middle;\n",
              "    }\n",
              "\n",
              "    .dataframe tbody tr th {\n",
              "        vertical-align: top;\n",
              "    }\n",
              "\n",
              "    .dataframe thead th {\n",
              "        text-align: right;\n",
              "    }\n",
              "</style>\n",
              "<table border=\"1\" class=\"dataframe\">\n",
              "  <thead>\n",
              "    <tr style=\"text-align: right;\">\n",
              "      <th></th>\n",
              "      <th>Unnamed: 0</th>\n",
              "      <th>Unnamed: 1</th>\n",
              "      <th>Unnamed: 2</th>\n",
              "      <th>Unnamed: 3</th>\n",
              "      <th>Unnamed: 4</th>\n",
              "      <th>Unnamed: 5</th>\n",
              "      <th>Unnamed: 6</th>\n",
              "    </tr>\n",
              "  </thead>\n",
              "  <tbody>\n",
              "    <tr>\n",
              "      <th>0</th>\n",
              "      <td>NaN</td>\n",
              "      <td>Country</td>\n",
              "      <td>Country Code</td>\n",
              "      <td>Year</td>\n",
              "      <td>Medal Tally</td>\n",
              "      <td>NaN</td>\n",
              "      <td>NaN</td>\n",
              "    </tr>\n",
              "    <tr>\n",
              "      <th>1</th>\n",
              "      <td>NaN</td>\n",
              "      <td>NaN</td>\n",
              "      <td>NaN</td>\n",
              "      <td>NaN</td>\n",
              "      <td>Gold</td>\n",
              "      <td>Silver</td>\n",
              "      <td>Bronze</td>\n",
              "    </tr>\n",
              "    <tr>\n",
              "      <th>2</th>\n",
              "      <td>NaN</td>\n",
              "      <td>Great Britain</td>\n",
              "      <td>GBR</td>\n",
              "      <td>2012</td>\n",
              "      <td>29</td>\n",
              "      <td>17</td>\n",
              "      <td>19</td>\n",
              "    </tr>\n",
              "    <tr>\n",
              "      <th>3</th>\n",
              "      <td>NaN</td>\n",
              "      <td>China</td>\n",
              "      <td>CHN</td>\n",
              "      <td>2012</td>\n",
              "      <td>38</td>\n",
              "      <td>28</td>\n",
              "      <td>22</td>\n",
              "    </tr>\n",
              "    <tr>\n",
              "      <th>4</th>\n",
              "      <td>NaN</td>\n",
              "      <td>Russia</td>\n",
              "      <td>RUS</td>\n",
              "      <td>2012</td>\n",
              "      <td>24</td>\n",
              "      <td>25</td>\n",
              "      <td>32</td>\n",
              "    </tr>\n",
              "    <tr>\n",
              "      <th>5</th>\n",
              "      <td>NaN</td>\n",
              "      <td>United States</td>\n",
              "      <td>US</td>\n",
              "      <td>2012</td>\n",
              "      <td>46</td>\n",
              "      <td>28</td>\n",
              "      <td>29</td>\n",
              "    </tr>\n",
              "    <tr>\n",
              "      <th>6</th>\n",
              "      <td>NaN</td>\n",
              "      <td>Korea</td>\n",
              "      <td>KOR</td>\n",
              "      <td>2012</td>\n",
              "      <td>13</td>\n",
              "      <td>8</td>\n",
              "      <td>7</td>\n",
              "    </tr>\n",
              "    <tr>\n",
              "      <th>7</th>\n",
              "      <td>NaN</td>\n",
              "      <td>Japan</td>\n",
              "      <td>JPN</td>\n",
              "      <td>2012</td>\n",
              "      <td>7</td>\n",
              "      <td>14</td>\n",
              "      <td>17</td>\n",
              "    </tr>\n",
              "    <tr>\n",
              "      <th>8</th>\n",
              "      <td>NaN</td>\n",
              "      <td>Germany</td>\n",
              "      <td>GER</td>\n",
              "      <td>2012</td>\n",
              "      <td>11</td>\n",
              "      <td>11</td>\n",
              "      <td>14</td>\n",
              "    </tr>\n",
              "  </tbody>\n",
              "</table>\n",
              "</div>\n",
              "      <button class=\"colab-df-convert\" onclick=\"convertToInteractive('df-ae577b88-a7e0-435e-be6a-b021096e1152')\"\n",
              "              title=\"Convert this dataframe to an interactive table.\"\n",
              "              style=\"display:none;\">\n",
              "        \n",
              "  <svg xmlns=\"http://www.w3.org/2000/svg\" height=\"24px\"viewBox=\"0 0 24 24\"\n",
              "       width=\"24px\">\n",
              "    <path d=\"M0 0h24v24H0V0z\" fill=\"none\"/>\n",
              "    <path d=\"M18.56 5.44l.94 2.06.94-2.06 2.06-.94-2.06-.94-.94-2.06-.94 2.06-2.06.94zm-11 1L8.5 8.5l.94-2.06 2.06-.94-2.06-.94L8.5 2.5l-.94 2.06-2.06.94zm10 10l.94 2.06.94-2.06 2.06-.94-2.06-.94-.94-2.06-.94 2.06-2.06.94z\"/><path d=\"M17.41 7.96l-1.37-1.37c-.4-.4-.92-.59-1.43-.59-.52 0-1.04.2-1.43.59L10.3 9.45l-7.72 7.72c-.78.78-.78 2.05 0 2.83L4 21.41c.39.39.9.59 1.41.59.51 0 1.02-.2 1.41-.59l7.78-7.78 2.81-2.81c.8-.78.8-2.07 0-2.86zM5.41 20L4 18.59l7.72-7.72 1.47 1.35L5.41 20z\"/>\n",
              "  </svg>\n",
              "      </button>\n",
              "      \n",
              "  <style>\n",
              "    .colab-df-container {\n",
              "      display:flex;\n",
              "      flex-wrap:wrap;\n",
              "      gap: 12px;\n",
              "    }\n",
              "\n",
              "    .colab-df-convert {\n",
              "      background-color: #E8F0FE;\n",
              "      border: none;\n",
              "      border-radius: 50%;\n",
              "      cursor: pointer;\n",
              "      display: none;\n",
              "      fill: #1967D2;\n",
              "      height: 32px;\n",
              "      padding: 0 0 0 0;\n",
              "      width: 32px;\n",
              "    }\n",
              "\n",
              "    .colab-df-convert:hover {\n",
              "      background-color: #E2EBFA;\n",
              "      box-shadow: 0px 1px 2px rgba(60, 64, 67, 0.3), 0px 1px 3px 1px rgba(60, 64, 67, 0.15);\n",
              "      fill: #174EA6;\n",
              "    }\n",
              "\n",
              "    [theme=dark] .colab-df-convert {\n",
              "      background-color: #3B4455;\n",
              "      fill: #D2E3FC;\n",
              "    }\n",
              "\n",
              "    [theme=dark] .colab-df-convert:hover {\n",
              "      background-color: #434B5C;\n",
              "      box-shadow: 0px 1px 3px 1px rgba(0, 0, 0, 0.15);\n",
              "      filter: drop-shadow(0px 1px 2px rgba(0, 0, 0, 0.3));\n",
              "      fill: #FFFFFF;\n",
              "    }\n",
              "  </style>\n",
              "\n",
              "      <script>\n",
              "        const buttonEl =\n",
              "          document.querySelector('#df-ae577b88-a7e0-435e-be6a-b021096e1152 button.colab-df-convert');\n",
              "        buttonEl.style.display =\n",
              "          google.colab.kernel.accessAllowed ? 'block' : 'none';\n",
              "\n",
              "        async function convertToInteractive(key) {\n",
              "          const element = document.querySelector('#df-ae577b88-a7e0-435e-be6a-b021096e1152');\n",
              "          const dataTable =\n",
              "            await google.colab.kernel.invokeFunction('convertToInteractive',\n",
              "                                                     [key], {});\n",
              "          if (!dataTable) return;\n",
              "\n",
              "          const docLinkHtml = 'Like what you see? Visit the ' +\n",
              "            '<a target=\"_blank\" href=https://colab.research.google.com/notebooks/data_table.ipynb>data table notebook</a>'\n",
              "            + ' to learn more about interactive tables.';\n",
              "          element.innerHTML = '';\n",
              "          dataTable['output_type'] = 'display_data';\n",
              "          await google.colab.output.renderOutput(dataTable, element);\n",
              "          const docLink = document.createElement('div');\n",
              "          docLink.innerHTML = docLinkHtml;\n",
              "          element.appendChild(docLink);\n",
              "        }\n",
              "      </script>\n",
              "    </div>\n",
              "  </div>\n",
              "  "
            ],
            "text/plain": [
              "   Unnamed: 0     Unnamed: 1    Unnamed: 2  ...   Unnamed: 4 Unnamed: 5 Unnamed: 6\n",
              "0         NaN        Country  Country Code  ...  Medal Tally        NaN        NaN\n",
              "1         NaN            NaN           NaN  ...         Gold     Silver     Bronze\n",
              "2         NaN  Great Britain           GBR  ...           29         17         19\n",
              "3         NaN         China            CHN  ...           38         28         22\n",
              "4         NaN         Russia           RUS  ...           24         25         32\n",
              "5         NaN  United States            US  ...           46         28         29\n",
              "6         NaN          Korea           KOR  ...           13          8          7\n",
              "7         NaN          Japan           JPN  ...            7         14         17\n",
              "8         NaN        Germany           GER  ...           11         11         14\n",
              "\n",
              "[9 rows x 7 columns]"
            ]
          },
          "metadata": {},
          "execution_count": 10
        }
      ]
    },
    {
      "cell_type": "code",
      "source": [
        "# Dataset from the  summer  Olympic\n",
        "np_olympic_country= np.array(['GBR','CHN','RUS','US','KOR','JPN','GER'])\n",
        "np_olympic_country_GOLD= np.array([29,38,24,46,13,7,11])\n",
        "np_olympic_country_SILVER= np.array([17,28,25,28,8,14,11])\n",
        "np_olympic_country_BRONZE= np.array([19,22,32,29,7,17,14])\n",
        "\n"
      ],
      "metadata": {
        "id": "B9716dw0H9qw"
      },
      "execution_count": null,
      "outputs": []
    },
    {
      "cell_type": "code",
      "source": [
        "# Find countryy index with maximum gold. Apply argmax method\n",
        "# So here we have to  take up gold medal tally\n",
        "max_gold_index=np_olympic_country_GOLD.argmax()\n",
        "max_gold_index\n"
      ],
      "metadata": {
        "colab": {
          "base_uri": "https://localhost:8080/"
        },
        "id": "F8ldhUZpMD1V",
        "outputId": "81312766-194b-4400-db63-081b31651ff0"
      },
      "execution_count": null,
      "outputs": [
        {
          "output_type": "execute_result",
          "data": {
            "text/plain": [
              "3"
            ]
          },
          "metadata": {},
          "execution_count": 12
        }
      ]
    },
    {
      "cell_type": "code",
      "source": [
        "# 3rd indexd is US\n",
        "# So if we want to know the number of gold medals  of 3rd indexed country.\n",
        "np_olympic_country_GOLD[3]"
      ],
      "metadata": {
        "colab": {
          "base_uri": "https://localhost:8080/"
        },
        "id": "fHT-zfHsUYJN",
        "outputId": "d1f1989b-b28e-43c3-b53e-59d010e4441a"
      },
      "execution_count": null,
      "outputs": [
        {
          "output_type": "execute_result",
          "data": {
            "text/plain": [
              "46"
            ]
          },
          "metadata": {},
          "execution_count": 13
        }
      ]
    },
    {
      "cell_type": "code",
      "source": [
        "# so if we want to know the name of 3rd indexed country.\n",
        "np_olympic_country[3]"
      ],
      "metadata": {
        "colab": {
          "base_uri": "https://localhost:8080/",
          "height": 35
        },
        "id": "JnxS598oU-K_",
        "outputId": "8a9e6b29-08af-4a20-f3c9-0bcca0591c6c"
      },
      "execution_count": null,
      "outputs": [
        {
          "output_type": "execute_result",
          "data": {
            "application/vnd.google.colaboratory.intrinsic+json": {
              "type": "string"
            },
            "text/plain": [
              "'US'"
            ]
          },
          "metadata": {},
          "execution_count": 14
        }
      ]
    },
    {
      "cell_type": "code",
      "source": [
        "# Find countries having more than 20 Golds\n",
        "\n",
        "filter=np_olympic_country[np_olympic_country_GOLD>20]\n",
        "filter"
      ],
      "metadata": {
        "colab": {
          "base_uri": "https://localhost:8080/"
        },
        "id": "MSSusi-JVWaE",
        "outputId": "d671f7ad-57a2-4cbb-8aee-30fb5bcfcd04"
      },
      "execution_count": null,
      "outputs": [
        {
          "output_type": "execute_result",
          "data": {
            "text/plain": [
              "array(['GBR', 'CHN', 'RUS', 'US'], dtype='<U3')"
            ]
          },
          "metadata": {},
          "execution_count": 15
        }
      ]
    },
    {
      "cell_type": "code",
      "source": [
        "# Evaluate the dataset and  print the medal tally.\n",
        "\n",
        "# print each country name with number of Gold\n",
        "#print each country name with total number of medals\n",
        "for i in range(len(np_olympic_country)):\n",
        "  gold_medal=np_olympic_country_GOLD[i]\n",
        "  country=np_olympic_country[i]\n",
        "  total_medal= np_olympic_country_GOLD[i] + np_olympic_country_SILVER[i] + np_olympic_country_BRONZE[i]\n",
        "  print('country-{},gold medal-{},Total medals-{}'.format(country,gold_medal,total_medal))   \n"
      ],
      "metadata": {
        "colab": {
          "base_uri": "https://localhost:8080/"
        },
        "id": "8ZpNDyAlXI8G",
        "outputId": "3c3f50ad-bea4-4440-ee6c-da7571355985"
      },
      "execution_count": null,
      "outputs": [
        {
          "output_type": "stream",
          "name": "stdout",
          "text": [
            "country-GBR,gold medal-29,Total medals-65\n",
            "country-CHN,gold medal-38,Total medals-88\n",
            "country-RUS,gold medal-24,Total medals-81\n",
            "country-US,gold medal-46,Total medals-103\n",
            "country-KOR,gold medal-13,Total medals-28\n",
            "country-JPN,gold medal-7,Total medals-38\n",
            "country-GER,gold medal-11,Total medals-36\n"
          ]
        }
      ]
    },
    {
      "cell_type": "code",
      "source": [
        "for i in range(len(np_olympic_country)):\n",
        "  gold_medal=np_olympic_country_GOLD[i]\n",
        "  country=np_olympic_country[i]\n",
        "  total_medal= np_olympic_country_GOLD[i] + np_olympic_country_SILVER[i] + np_olympic_country_BRONZE[i]\n",
        "  print(country,gold_medal,total_medal)   \n"
      ],
      "metadata": {
        "colab": {
          "base_uri": "https://localhost:8080/"
        },
        "id": "B0pTbJ7hkcMr",
        "outputId": "b2dc82f1-c241-47c6-a0bc-9c2553dcc8b0"
      },
      "execution_count": null,
      "outputs": [
        {
          "output_type": "stream",
          "name": "stdout",
          "text": [
            "GBR 29 65\n",
            "CHN 38 88\n",
            "RUS 24 81\n",
            "US 46 103\n",
            "KOR 13 28\n",
            "JPN 7 38\n",
            "GER 11 36\n"
          ]
        }
      ]
    }
  ]
}