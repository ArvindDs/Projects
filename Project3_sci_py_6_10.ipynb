{
  "nbformat": 4,
  "nbformat_minor": 0,
  "metadata": {
    "colab": {
      "provenance": [],
      "authorship_tag": "ABX9TyPmJR0WaWFYr8o+GtyJEqYo",
      "include_colab_link": true
    },
    "kernelspec": {
      "name": "python3",
      "display_name": "Python 3"
    },
    "language_info": {
      "name": "python"
    }
  },
  "cells": [
    {
      "cell_type": "markdown",
      "metadata": {
        "id": "view-in-github",
        "colab_type": "text"
      },
      "source": [
        "<a href=\"https://colab.research.google.com/github/ArvindDs/Projects/blob/main/Project3_sci_py_6_10.ipynb\" target=\"_parent\"><img src=\"https://colab.research.google.com/assets/colab-badge.svg\" alt=\"Open In Colab\"/></a>"
      ]
    },
    {
      "cell_type": "markdown",
      "source": [
        "## **Perform CDF and PDF using Scipy**\n",
        "DESCRIPTION\n",
        "\n",
        "Problem:\n",
        "\n",
        "Use SciPy to declare 20 random values for random values and perform the following:\n",
        "\n",
        "1. CDF – Cumulative Distribution Function for a random variable 10\n",
        "\n",
        "2. PDF – Probability Density Function for a random variable 14."
      ],
      "metadata": {
        "id": "j29ENVBTpJpH"
      }
    },
    {
      "cell_type": "code",
      "source": [
        "# import normal  distribution libraries from scipy\n",
        "from scipy.stats import norm"
      ],
      "metadata": {
        "id": "uTHy0j3cpNPZ"
      },
      "execution_count": null,
      "outputs": []
    },
    {
      "cell_type": "code",
      "source": [
        "# define 20 random variables for  normal distribution of data\n",
        "norm.rvs(loc=0,scale=1,size=20)"
      ],
      "metadata": {
        "colab": {
          "base_uri": "https://localhost:8080/"
        },
        "id": "cRCZGqrA1tOF",
        "outputId": "04d295f7-9dac-4234-d03e-34d142d22f48"
      },
      "execution_count": null,
      "outputs": [
        {
          "output_type": "execute_result",
          "data": {
            "text/plain": [
              "array([ 0.42731905, -0.27716273,  1.30345527,  1.08405771,  0.27260643,\n",
              "       -0.90268934, -0.88253994, -0.33417375,  0.9981952 , -0.0258825 ,\n",
              "        1.02334284,  0.19418914, -1.7699239 , -1.41405731, -0.12111627,\n",
              "        0.8490998 , -1.35009741, -0.54979734,  1.2971289 ,  0.08733229])"
            ]
          },
          "metadata": {},
          "execution_count": 3
        }
      ]
    },
    {
      "cell_type": "code",
      "source": [
        "# perform cumulative distribution function or CDF for random variables  10, loc=1,scale=3\n",
        "norm.cdf(10,loc=1,scale=3)"
      ],
      "metadata": {
        "colab": {
          "base_uri": "https://localhost:8080/"
        },
        "id": "YfS0YR1n2VEC",
        "outputId": "f54fc97a-5159-4801-80c6-4be09e5df660"
      },
      "execution_count": null,
      "outputs": [
        {
          "output_type": "execute_result",
          "data": {
            "text/plain": [
              "0.9986501019683699"
            ]
          },
          "metadata": {},
          "execution_count": 4
        }
      ]
    },
    {
      "cell_type": "code",
      "source": [
        "# perform probability distribution function or pDF for random variables  14, loc=1,scale=1\n",
        "norm.pdf(14,loc=1,scale=1)"
      ],
      "metadata": {
        "colab": {
          "base_uri": "https://localhost:8080/"
        },
        "id": "1dB7VmeW28nK",
        "outputId": "791e2e9d-a09b-4d1c-91d2-78746d0724ca"
      },
      "execution_count": null,
      "outputs": [
        {
          "output_type": "execute_result",
          "data": {
            "text/plain": [
              "7.998827757006813e-38"
            ]
          },
          "metadata": {},
          "execution_count": 5
        }
      ]
    }
  ]
}