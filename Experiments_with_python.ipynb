{
  "cells": [
    {
      "cell_type": "markdown",
      "metadata": {
        "id": "view-in-github",
        "colab_type": "text"
      },
      "source": [
        "<a href=\"https://colab.research.google.com/github/ArvindDs/Projects/blob/main/Experiments_with_python.ipynb\" target=\"_parent\"><img src=\"https://colab.research.google.com/assets/colab-badge.svg\" alt=\"Open In Colab\"/></a>"
      ]
    },
    {
      "cell_type": "markdown",
      "metadata": {
        "id": "GrIX5J9NKo4i"
      },
      "source": [
        "# **Explaination of pyramid**\n",
        "\n",
        "---\n",
        "\n"
      ]
    },
    {
      "cell_type": "code",
      "execution_count": null,
      "metadata": {
        "colab": {
          "base_uri": "https://localhost:8080/"
        },
        "id": "1XkDzZ4AwZdY",
        "outputId": "e1945f76-42c5-4401-96a2-919d2108ad5f"
      },
      "outputs": [
        {
          "output_type": "stream",
          "name": "stdout",
          "text": [
            "1\n",
            "2\n",
            "3\n",
            "4\n",
            "5\n"
          ]
        }
      ],
      "source": [
        "\n",
        "for i in range(1,6):  # it means that range is (1,6).i.e 1,2,3,4,5 i.e. start from 1 and end  at 6-1=5\n",
        "  print(i)\n"
      ]
    },
    {
      "cell_type": "code",
      "execution_count": null,
      "metadata": {
        "colab": {
          "base_uri": "https://localhost:8080/"
        },
        "id": "HmE1ddD5eoK3",
        "outputId": "45828253-d7fa-4b39-dadd-2d3deb002250"
      },
      "outputs": [
        {
          "output_type": "stream",
          "name": "stdout",
          "text": [
            "$\n",
            "$\n",
            "$\n",
            "$\n",
            "$\n"
          ]
        }
      ],
      "source": [
        "for i in range(1,6):  # it means that range is (1,6).i.e 1,2,3,4,5 \n",
        "  print('$')           # it means that start from 1=$ , 2=$ etc"
      ]
    },
    {
      "cell_type": "code",
      "execution_count": null,
      "metadata": {
        "colab": {
          "base_uri": "https://localhost:8080/"
        },
        "id": "WjnhrFwSfhwn",
        "outputId": "19a0316f-f042-402f-c15b-a6b4df4bcc75"
      },
      "outputs": [
        {
          "output_type": "stream",
          "name": "stdout",
          "text": [
            "$\n",
            "*\n",
            "$\n",
            "*\n",
            "*\n",
            "$\n",
            "*\n",
            "*\n",
            "*\n",
            "$\n",
            "*\n",
            "*\n",
            "*\n",
            "*\n",
            "$\n",
            "*\n",
            "*\n",
            "*\n",
            "*\n",
            "*\n"
          ]
        }
      ],
      "source": [
        "for i in range(1,6):  # it means that range is (1,6).i.e 1,2,3,4,5 \n",
        "  print('$')\n",
        "  for j in range(1,i+1):\n",
        "    print('*')"
      ]
    },
    {
      "cell_type": "code",
      "execution_count": null,
      "metadata": {
        "colab": {
          "base_uri": "https://localhost:8080/"
        },
        "id": "GNo3gC7fupVs",
        "outputId": "a8644efe-750a-470b-d445-35396c7e8c96"
      },
      "outputs": [
        {
          "output_type": "stream",
          "name": "stdout",
          "text": [
            "*\n",
            "*\n",
            "*\n",
            "*\n",
            "*\n",
            "*\n",
            "*\n",
            "*\n",
            "*\n",
            "*\n",
            "*\n",
            "*\n",
            "*\n",
            "*\n",
            "*\n"
          ]
        }
      ],
      "source": [
        "for i in range(1,6):  # it means that range is (1,6).i.e 1,2,3,4,5 \n",
        " \n",
        "  for j in range(1,i+1):\n",
        "    print('*')"
      ]
    },
    {
      "cell_type": "code",
      "execution_count": null,
      "metadata": {
        "colab": {
          "base_uri": "https://localhost:8080/"
        },
        "id": "tDGmORtUvH0J",
        "outputId": "21916845-e81f-4a69-8f87-8af41e02aea6"
      },
      "outputs": [
        {
          "output_type": "stream",
          "name": "stdout",
          "text": [
            "***************"
          ]
        }
      ],
      "source": [
        "for i in range(1,6):  # it means that range is (1,6).i.e 1,2,3,4,5 \n",
        " \n",
        "  for j in range(1,i+1):\n",
        "    print('*',end='')"
      ]
    },
    {
      "cell_type": "code",
      "execution_count": null,
      "metadata": {
        "colab": {
          "base_uri": "https://localhost:8080/"
        },
        "id": "ZYriKJ8uvY-y",
        "outputId": "0fe58b80-8fb8-4c6c-a79d-cb64b9dbe9f0"
      },
      "outputs": [
        {
          "output_type": "stream",
          "name": "stdout",
          "text": [
            "*\n",
            "**\n",
            "***\n",
            "****\n",
            "*****\n"
          ]
        }
      ],
      "source": [
        "for i in range(1,6):  # it means that range is (1,6).i.e 1,2,3,4,5 \n",
        " \n",
        "  for j in range(1,i+1):\n",
        "    print('*',end='')\n",
        "  print('')"
      ]
    },
    {
      "cell_type": "code",
      "execution_count": null,
      "metadata": {
        "colab": {
          "base_uri": "https://localhost:8080/"
        },
        "id": "tdlm4V37vud8",
        "outputId": "fcf7e613-4ccf-4cda-fda9-d74aa7a67bf3"
      },
      "outputs": [
        {
          "output_type": "stream",
          "name": "stdout",
          "text": [
            "*&\n",
            "**&\n",
            "***&\n",
            "****&\n",
            "*****&\n"
          ]
        }
      ],
      "source": [
        "for i in range(1,6):  # it means that range is (1,6).i.e 1,2,3,4,5 \n",
        " \n",
        "  for j in range(1,i+1):\n",
        "    print('*',end='')\n",
        "  print('&')"
      ]
    },
    {
      "cell_type": "code",
      "execution_count": null,
      "metadata": {
        "colab": {
          "base_uri": "https://localhost:8080/"
        },
        "id": "zU0rgMzXhrae",
        "outputId": "c7905675-ab63-4359-dfc8-354665e807f8"
      },
      "outputs": [
        {
          "output_type": "stream",
          "name": "stdout",
          "text": [
            "$\n",
            "*$\n",
            "**$\n",
            "***$\n",
            "****$\n",
            "*****"
          ]
        }
      ],
      "source": [
        "for i in range(1,6):  # it means that range is (1,6).i.e 1,2,3,4,5 \n",
        "  print('$')\n",
        "  for j in range(1,i+1):\n",
        "    print('*',end='')"
      ]
    },
    {
      "cell_type": "code",
      "execution_count": null,
      "metadata": {
        "colab": {
          "base_uri": "https://localhost:8080/"
        },
        "id": "x8-Gx41fi7OZ",
        "outputId": "b060cb96-92a6-45dc-b5dc-9b5973a5f8a1"
      },
      "outputs": [
        {
          "output_type": "stream",
          "name": "stdout",
          "text": [
            "*\n",
            "**\n",
            "***\n",
            "****\n",
            "*****\n",
            "*****\n"
          ]
        }
      ],
      "source": [
        "for i in range(1,6):  # it means that range is (1,6).i.e 1,2,3,4,5 \n",
        "  print('*')\n",
        "  for j in range(1,i+1):\n",
        "    print('*',end='')\n",
        "print('')"
      ]
    },
    {
      "cell_type": "code",
      "execution_count": null,
      "metadata": {
        "colab": {
          "base_uri": "https://localhost:8080/"
        },
        "id": "bRCFbWRSw5kK",
        "outputId": "43fe0f2f-1370-4c13-bf3b-f83e892f71a4"
      },
      "outputs": [
        {
          "output_type": "stream",
          "name": "stdout",
          "text": [
            "*\n",
            "**\n",
            "***\n",
            "****\n",
            "*****\n",
            "*****"
          ]
        }
      ],
      "source": [
        "row=5\n",
        "for i in range(1,row+1):\n",
        "  print('*')\n",
        "  for j in range(1,i+1):\n",
        "    print('*',end='')"
      ]
    },
    {
      "cell_type": "code",
      "execution_count": null,
      "metadata": {
        "colab": {
          "base_uri": "https://localhost:8080/"
        },
        "id": "keXw7x6NqPzM",
        "outputId": "7fb13682-224d-4865-eb13-e8c97c657b3c"
      },
      "outputs": [
        {
          "output_type": "stream",
          "name": "stdout",
          "text": [
            "***************"
          ]
        }
      ],
      "source": [
        "row=5\n",
        "for i in range(1,row+1):\n",
        "  \n",
        "  for j in range(1,i+1):\n",
        "    print('*',end='')"
      ]
    },
    {
      "cell_type": "code",
      "execution_count": null,
      "metadata": {
        "colab": {
          "base_uri": "https://localhost:8080/"
        },
        "id": "Ji6O45NKp9Xp",
        "outputId": "d3204c9b-6b30-402b-eb16-69d82f7b2845"
      },
      "outputs": [
        {
          "output_type": "stream",
          "name": "stdout",
          "text": [
            "*\n",
            "**\n",
            "***\n",
            "****\n",
            "*****\n"
          ]
        }
      ],
      "source": [
        "row=5\n",
        "for i in range(1,row+1):\n",
        "  for j in range(1,i+1):\n",
        "    print('*',end='')\n",
        "  print('')"
      ]
    },
    {
      "cell_type": "code",
      "execution_count": null,
      "metadata": {
        "colab": {
          "base_uri": "https://localhost:8080/"
        },
        "id": "FZ6Fse7wkM1z",
        "outputId": "e8feee43-fa00-4428-bc0d-01a7722323d5"
      },
      "outputs": [
        {
          "output_type": "stream",
          "name": "stdout",
          "text": [
            "*\n",
            "**\n",
            "***\n",
            "****\n",
            "*****\n"
          ]
        }
      ],
      "source": [
        "for i in range(1,6):  # it means that range is (1,6).i.e 1,2,3,4,5 \n",
        "  \n",
        "  for j in range(1,i+1):\n",
        "    print('*',end='')\n",
        "  print('')"
      ]
    },
    {
      "cell_type": "code",
      "execution_count": null,
      "metadata": {
        "colab": {
          "base_uri": "https://localhost:8080/"
        },
        "id": "MBIS2ILskZUU",
        "outputId": "84a054fe-187e-41e3-f40b-5fe28f058e9f"
      },
      "outputs": [
        {
          "output_type": "stream",
          "name": "stdout",
          "text": [
            "*\n",
            "**\n",
            "***\n",
            "****\n",
            "*****\n"
          ]
        }
      ],
      "source": [
        "rows = 5\n",
        "# outer loop\n",
        "for i in range(1, 6):\n",
        "    # inner loop\n",
        "    for j in range(1, i + 1):\n",
        "        print(\"*\", end=\"\")\n",
        "    print('')"
      ]
    },
    {
      "cell_type": "code",
      "execution_count": null,
      "metadata": {
        "id": "KIJb-_Ulth1K",
        "colab": {
          "base_uri": "https://localhost:8080/"
        },
        "outputId": "2c7b231b-29c7-4b98-f810-45a44235cfa3"
      },
      "outputs": [
        {
          "output_type": "stream",
          "name": "stdout",
          "text": [
            "5\n",
            "4\n",
            "3\n",
            "2\n",
            "1\n"
          ]
        }
      ],
      "source": [
        "for i in reversed(range(1,6)):\n",
        "  print(i)"
      ]
    },
    {
      "cell_type": "code",
      "source": [
        "for i in reversed(range(1,6)):\n",
        "  for j in range(1,i+1):\n",
        "    print('&',end='')\n",
        "  print('')"
      ],
      "metadata": {
        "colab": {
          "base_uri": "https://localhost:8080/"
        },
        "id": "uo874DV_yDff",
        "outputId": "258cb678-0efe-47b2-ba92-6b8b10319435"
      },
      "execution_count": null,
      "outputs": [
        {
          "output_type": "stream",
          "name": "stdout",
          "text": [
            "&&&&&\n",
            "&&&&\n",
            "&&&\n",
            "&&\n",
            "&\n"
          ]
        }
      ]
    },
    {
      "cell_type": "code",
      "source": [
        "for i in reversed(range(1,6)):\n",
        "  for j in range(1,i+1):\n",
        "    for k in reversed(range(1,j+1)):\n",
        "      print('&',end='')\n",
        "    print('')"
      ],
      "metadata": {
        "colab": {
          "base_uri": "https://localhost:8080/"
        },
        "id": "fpXoId75zcrj",
        "outputId": "9224f2ba-20f5-47c4-da51-097732111cd0"
      },
      "execution_count": null,
      "outputs": [
        {
          "output_type": "stream",
          "name": "stdout",
          "text": [
            "&\n",
            "&&\n",
            "&&&\n",
            "&&&&\n",
            "&&&&&\n",
            "&\n",
            "&&\n",
            "&&&\n",
            "&&&&\n",
            "&\n",
            "&&\n",
            "&&&\n",
            "&\n",
            "&&\n",
            "&\n"
          ]
        }
      ]
    },
    {
      "cell_type": "code",
      "source": [
        "b=[10,13,14,5]\n",
        "a=reversed(b)\n",
        "print(a)\n"
      ],
      "metadata": {
        "colab": {
          "base_uri": "https://localhost:8080/"
        },
        "id": "HAG5yrjr1BNX",
        "outputId": "2bc5b49e-be88-46e5-bbd9-6885582a58af"
      },
      "execution_count": null,
      "outputs": [
        {
          "output_type": "stream",
          "name": "stdout",
          "text": [
            "<list_reverseiterator object at 0x7fa06fef59d0>\n"
          ]
        }
      ]
    },
    {
      "cell_type": "code",
      "source": [
        "# write a multiplication Table\n",
        "# outer loop\n",
        "for i in range(1, 11):\n",
        "    # nested loop\n",
        "    # to iterate from 1 to 10\n",
        "    for j in range(1, 11):\n",
        "        # print multiplication\n",
        "        print(i * j, end=' ')\n",
        "    print()"
      ],
      "metadata": {
        "colab": {
          "base_uri": "https://localhost:8080/"
        },
        "id": "rQJaH0OG2jR-",
        "outputId": "e5292465-bd91-40f4-f412-835a69324546"
      },
      "execution_count": null,
      "outputs": [
        {
          "output_type": "stream",
          "name": "stdout",
          "text": [
            "1 2 3 4 5 6 7 8 9 10 \n",
            "2 4 6 8 10 12 14 16 18 20 \n",
            "3 6 9 12 15 18 21 24 27 30 \n",
            "4 8 12 16 20 24 28 32 36 40 \n",
            "5 10 15 20 25 30 35 40 45 50 \n",
            "6 12 18 24 30 36 42 48 54 60 \n",
            "7 14 21 28 35 42 49 56 63 70 \n",
            "8 16 24 32 40 48 56 64 72 80 \n",
            "9 18 27 36 45 54 63 72 81 90 \n",
            "10 20 30 40 50 60 70 80 90 100 \n"
          ]
        }
      ]
    },
    {
      "cell_type": "code",
      "source": [
        "# find average of numbers\n",
        "numbers = [10, 20, 30, 40, 50]\n",
        "\n",
        "# definite iteration\n",
        "# run loop 5 times because list contains 5 items\n",
        "sum = 0\n",
        "for i in numbers:\n",
        "    sum = sum + i\n",
        "list_size = len(numbers)\n",
        "average = sum / list_size\n",
        "print(average)"
      ],
      "metadata": {
        "colab": {
          "base_uri": "https://localhost:8080/"
        },
        "id": "Hz5XkId9eTqZ",
        "outputId": "5f584847-ee57-4de4-fa30-6d608e8defce"
      },
      "execution_count": null,
      "outputs": [
        {
          "output_type": "stream",
          "name": "stdout",
          "text": [
            "30.0\n"
          ]
        }
      ]
    },
    {
      "cell_type": "code",
      "source": [
        "#Print all even and odd numbers\n",
        "for i in range(1, 11):\n",
        "    if i % 2 == 0:\n",
        "        print('Even Number:', i)\n",
        "    else:\n",
        "        print('Odd Number:', i)"
      ],
      "metadata": {
        "colab": {
          "base_uri": "https://localhost:8080/"
        },
        "id": "TNBaGE8TfudF",
        "outputId": "86dfa113-cfd5-48ab-ef4d-c03cf736c92a"
      },
      "execution_count": null,
      "outputs": [
        {
          "output_type": "stream",
          "name": "stdout",
          "text": [
            "Odd Number: 1\n",
            "Even Number: 2\n",
            "Odd Number: 3\n",
            "Even Number: 4\n",
            "Odd Number: 5\n",
            "Even Number: 6\n",
            "Odd Number: 7\n",
            "Even Number: 8\n",
            "Odd Number: 9\n",
            "Even Number: 10\n"
          ]
        }
      ]
    },
    {
      "cell_type": "code",
      "source": [
        "#Example: Print Multiplication table of a first 5 numbers using for loop and while loop\n",
        "# outer loop\n",
        "for i in range(1, 6):\n",
        "    print('Multiplication table of:', i) \n",
        "    count = 1\n",
        "                                        # inner loop to print multiplication table of current number i.e. first for 1 then current number will be 2 etc.\n",
        "    while count < 11:                   # after taking the value i=1 the count will move inside while loop till it attended its condition count<11 it stops. \n",
        "                                        # then it will take value i=2 and will  move inside.\n",
        "        print(i * count, end=' ')       #we have a  count having value 1 to 10 and it iterates  10 times and the value  of i is changing from 1 to  5 in each iteration.\n",
        "                                        # let for i=1 first iteration give output 1*1 =1 at this place and moves to next line of operation\n",
        "        count = count + 1               # at this point count becomes 1+1=2 it prints 2  as output.things will go on till count \n",
        "                                        # will attend the value 10. at this point count=11 and the things will stop as the condition is count<11\n",
        "    print('\\n')                         # start with new line"
      ],
      "metadata": {
        "id": "NCpULwWzgMzE",
        "colab": {
          "base_uri": "https://localhost:8080/"
        },
        "outputId": "f868cafd-a570-4ec3-e319-bfeb80ccca11"
      },
      "execution_count": null,
      "outputs": [
        {
          "output_type": "stream",
          "name": "stdout",
          "text": [
            "Multiplication table of: 1\n",
            "1 2 3 4 5 6 7 8 9 10 \n",
            "\n",
            "Multiplication table of: 2\n",
            "2 4 6 8 10 12 14 16 18 20 \n",
            "\n",
            "Multiplication table of: 3\n",
            "3 6 9 12 15 18 21 24 27 30 \n",
            "\n",
            "Multiplication table of: 4\n",
            "4 8 12 16 20 24 28 32 36 40 \n",
            "\n",
            "Multiplication table of: 5\n",
            "5 10 15 20 25 30 35 40 45 50 \n",
            "\n"
          ]
        }
      ]
    },
    {
      "cell_type": "code",
      "source": [
        "for i in range (1,6):\n",
        "  for j  in range (1,6):\n",
        "    print(i*j,end=',')\n",
        "  print('multiplication table of:',i)"
      ],
      "metadata": {
        "colab": {
          "base_uri": "https://localhost:8080/"
        },
        "id": "ESeW-cElBndP",
        "outputId": "f59e7141-8d4c-4e73-bd9c-4c7e2d38377a"
      },
      "execution_count": null,
      "outputs": [
        {
          "output_type": "stream",
          "name": "stdout",
          "text": [
            "1,2,3,4,5,multiplication table of: 1\n",
            "2,4,6,8,10,multiplication table of: 2\n",
            "3,6,9,12,15,multiplication table of: 3\n",
            "4,8,12,16,20,multiplication table of: 4\n",
            "5,10,15,20,25,multiplication table of: 5\n"
          ]
        }
      ]
    },
    {
      "cell_type": "code",
      "source": [
        "for i in range (1,6):\n",
        "  for j  in range (1,i+1):\n",
        "    print('*',end='####')\n",
        "  print('@@@@@',55555,'&&&&')"
      ],
      "metadata": {
        "colab": {
          "base_uri": "https://localhost:8080/"
        },
        "id": "fdc6AjAXDpKo",
        "outputId": "1fef25dd-5a01-4d77-dae6-9aed3901e331"
      },
      "execution_count": null,
      "outputs": [
        {
          "output_type": "stream",
          "name": "stdout",
          "text": [
            "*####@@@@@ 55555 &&&&\n",
            "*####*####@@@@@ 55555 &&&&\n",
            "*####*####*####@@@@@ 55555 &&&&\n",
            "*####*####*####*####@@@@@ 55555 &&&&\n",
            "*####*####*####*####*####@@@@@ 55555 &&&&\n"
          ]
        }
      ]
    },
    {
      "cell_type": "code",
      "source": [
        "# find average of numbers\n",
        "numbers = [10, 20, 30, 40, 50]\n",
        "\n",
        "# definite iteration\n",
        "# run loop 5 times because list contains 5 items\n",
        "sum = 0\n",
        "for i in numbers:\n",
        "    sum = sum + i\n",
        "list_size = len(numbers)\n",
        "average = sum / list_size\n",
        "print(average)"
      ],
      "metadata": {
        "colab": {
          "base_uri": "https://localhost:8080/"
        },
        "id": "MwxEkzF4O4nv",
        "outputId": "4a4dabc5-7eb0-4ac6-8089-592aaf0955ea"
      },
      "execution_count": null,
      "outputs": [
        {
          "output_type": "stream",
          "name": "stdout",
          "text": [
            "30.0\n"
          ]
        }
      ]
    },
    {
      "cell_type": "code",
      "source": [
        "numbers=[12,13,15,17]\n",
        "sum=0\n",
        "for i in numbers:\n",
        "  sum=sum+i # we took for first iteration sum=12 then sum=12+13,then sum=25+15 and so on\n",
        "  a=len(numbers)   # mean count of numbers is 4\n",
        "  b=sum/a\n",
        "  print( b) # it will give avearge of each iteration as we want output inside the loop b=12/4 then 25/4 etc\n",
        "\n",
        "   "
      ],
      "metadata": {
        "colab": {
          "base_uri": "https://localhost:8080/"
        },
        "id": "nXImQ2r1GPdr",
        "outputId": "5b373991-68f4-4fa4-dd8d-566ead78c631"
      },
      "execution_count": null,
      "outputs": [
        {
          "output_type": "stream",
          "name": "stdout",
          "text": [
            "3.0\n",
            "6.25\n",
            "10.0\n",
            "14.25\n"
          ]
        }
      ]
    },
    {
      "cell_type": "code",
      "source": [
        "numbers=[12,13,15,17]\n",
        "sum=0\n",
        "for i in numbers:\n",
        "  sum=sum+i # we took for first iteration sum=12 then sum=12+13,then sum=25+15 and so on\n",
        "  a=len(numbers)   # mean count of numbers is 4\n",
        "  b=sum/a\n",
        "print( b) # it will give avearge of all iteration as we want output outside the loop b=57/4\n",
        "\n",
        "   "
      ],
      "metadata": {
        "colab": {
          "base_uri": "https://localhost:8080/"
        },
        "outputId": "b7f74f72-5ab8-42d7-8f0c-31f35602060a",
        "id": "UtFo3DIZSHmS"
      },
      "execution_count": null,
      "outputs": [
        {
          "output_type": "stream",
          "name": "stdout",
          "text": [
            "14.25\n"
          ]
        }
      ]
    },
    {
      "cell_type": "code",
      "source": [
        "for i in range(1, 6):\n",
        "    print('Multiplication table of:', i) \n",
        "    count = 1\n",
        "    # inner loop to print multiplication table of current number\n",
        "    while count < 11:\n",
        "        print(i * count, end=' ')\n",
        "        count = count + 1\n",
        "    print('\\n')       # start with new line\n",
        "  "
      ],
      "metadata": {
        "id": "_yAUk12r8rQ3",
        "colab": {
          "base_uri": "https://localhost:8080/"
        },
        "outputId": "89923d74-ac78-4d7b-d653-b49e09087fe9"
      },
      "execution_count": null,
      "outputs": [
        {
          "output_type": "stream",
          "name": "stdout",
          "text": [
            "Multiplication table of: 1\n",
            "1 2 3 4 5 6 7 8 9 10 \n",
            "\n",
            "Multiplication table of: 2\n",
            "2 4 6 8 10 12 14 16 18 20 \n",
            "\n",
            "Multiplication table of: 3\n",
            "3 6 9 12 15 18 21 24 27 30 \n",
            "\n",
            "Multiplication table of: 4\n",
            "4 8 12 16 20 24 28 32 36 40 \n",
            "\n",
            "Multiplication table of: 5\n",
            "5 10 15 20 25 30 35 40 45 50 \n",
            "\n"
          ]
        }
      ]
    },
    {
      "cell_type": "code",
      "source": [
        " # Example: Print numbers less than 5\n",
        " count=1\n",
        " while count<5:\n",
        "   print(count)\n",
        "   count=count+1"
      ],
      "metadata": {
        "id": "h7ttXgH72tHI",
        "colab": {
          "base_uri": "https://localhost:8080/"
        },
        "outputId": "c7879b39-4994-4c01-f9d4-a3be53ce70e8"
      },
      "execution_count": null,
      "outputs": [
        {
          "output_type": "stream",
          "name": "stdout",
          "text": [
            "1\n",
            "2\n",
            "3\n",
            "4\n"
          ]
        }
      ]
    },
    {
      "cell_type": "code",
      "source": [
        "# Example 2: Check how many times a given number can be divided by 3 before it is less than or equal to 10.\n",
        "count = 0\n",
        "number = 180  # you have to divide 180 by 3 then 60 by 3 then 20 by 3 after it is 6.6 which is less than 10 so 3 iteratiobns\n",
        "while number > 10: # it means that number >10 are divided by 3 is our mandate.\n",
        "    # divide number by 3\n",
        "    number = number / 3  # this is the condition\n",
        "    # increase count\n",
        "    count = count + 1  # number of iteration will be counted by this formula as the loop will run till the condition number>10 becomes false.\n",
        "print('Total iteration required', count)\n",
        "\n"
      ],
      "metadata": {
        "colab": {
          "base_uri": "https://localhost:8080/"
        },
        "id": "KXMSFI0PN6N5",
        "outputId": "4453806f-044a-4a98-f8c6-9d6be71784cd"
      },
      "execution_count": null,
      "outputs": [
        {
          "output_type": "stream",
          "name": "stdout",
          "text": [
            "Total iteration required 3\n"
          ]
        }
      ]
    },
    {
      "cell_type": "code",
      "source": [
        "#Example 1: Assure proper input from user\n",
        "#In this example, we want a user to enter any number \n",
        "#between 100 and 500. We will keep asking the user to \n",
        "#enter a correct input until he/she enters the number within a given range.\n",
        "\n",
        "number= int(input( 'any number between 100 and 500:'))\n",
        "\n",
        "if number >=100 and number <=500:\n",
        "  print('correct')\n",
        "else:\n",
        "  print('incorrect')"
      ],
      "metadata": {
        "colab": {
          "base_uri": "https://localhost:8080/"
        },
        "id": "oLiorW1fSEBl",
        "outputId": "a48c2840-eaa5-42fd-b72d-583ebb20f85b"
      },
      "execution_count": null,
      "outputs": [
        {
          "output_type": "stream",
          "name": "stdout",
          "text": [
            "any number between 100 and 500:500\n",
            "correct\n"
          ]
        }
      ]
    },
    {
      "cell_type": "code",
      "source": [
        "number = int(input('Enter any number between 100 and 500 '))\n",
        "# number greater than 100 and less than 500\n",
        "while number < 100 or number > 500:\n",
        "    print('Incorrect number, Please enter correct number:')\n",
        "    number = int(input('Enter a Number between 100 and 500 '))\n",
        "else:\n",
        "    print(\"Given Number is correct\", number)\n"
      ],
      "metadata": {
        "colab": {
          "base_uri": "https://localhost:8080/"
        },
        "id": "QuqqKyz5ZKgW",
        "outputId": "b55614a1-cc88-468d-bd05-b2af388ea709"
      },
      "execution_count": null,
      "outputs": [
        {
          "output_type": "stream",
          "name": "stdout",
          "text": [
            "Enter any number between 100 and 500 450\n",
            "Given Number is correct 450\n"
          ]
        }
      ]
    },
    {
      "cell_type": "code",
      "source": [
        "while number>100  or number>500:\n",
        "  print('number is correct:',number)\n",
        "  number= int(input( 'any number between 100 and 500:'))\n",
        "else:\n",
        "    print('number is incorrect:',number)\n",
        "\n",
        " "
      ],
      "metadata": {
        "colab": {
          "base_uri": "https://localhost:8080/",
          "height": 589
        },
        "id": "m68R1W4aV4wY",
        "outputId": "9cc8df0d-6543-436b-8b8c-d9e664bc9022"
      },
      "execution_count": null,
      "outputs": [
        {
          "output_type": "stream",
          "name": "stdout",
          "text": [
            "number is correct: 800\n",
            "any number between 100 and 500:700\n",
            "number is correct: 700\n"
          ]
        },
        {
          "output_type": "error",
          "ename": "KeyboardInterrupt",
          "evalue": "ignored",
          "traceback": [
            "\u001b[0;31m---------------------------------------------------------------------------\u001b[0m",
            "\u001b[0;31mKeyboardInterrupt\u001b[0m                         Traceback (most recent call last)",
            "\u001b[0;32m/usr/local/lib/python3.7/dist-packages/ipykernel/kernelbase.py\u001b[0m in \u001b[0;36m_input_request\u001b[0;34m(self, prompt, ident, parent, password)\u001b[0m\n\u001b[1;32m    728\u001b[0m             \u001b[0;32mtry\u001b[0m\u001b[0;34m:\u001b[0m\u001b[0;34m\u001b[0m\u001b[0;34m\u001b[0m\u001b[0m\n\u001b[0;32m--> 729\u001b[0;31m                 \u001b[0mident\u001b[0m\u001b[0;34m,\u001b[0m \u001b[0mreply\u001b[0m \u001b[0;34m=\u001b[0m \u001b[0mself\u001b[0m\u001b[0;34m.\u001b[0m\u001b[0msession\u001b[0m\u001b[0;34m.\u001b[0m\u001b[0mrecv\u001b[0m\u001b[0;34m(\u001b[0m\u001b[0mself\u001b[0m\u001b[0;34m.\u001b[0m\u001b[0mstdin_socket\u001b[0m\u001b[0;34m,\u001b[0m \u001b[0;36m0\u001b[0m\u001b[0;34m)\u001b[0m\u001b[0;34m\u001b[0m\u001b[0;34m\u001b[0m\u001b[0m\n\u001b[0m\u001b[1;32m    730\u001b[0m             \u001b[0;32mexcept\u001b[0m \u001b[0mException\u001b[0m\u001b[0;34m:\u001b[0m\u001b[0;34m\u001b[0m\u001b[0;34m\u001b[0m\u001b[0m\n",
            "\u001b[0;32m/usr/local/lib/python3.7/dist-packages/jupyter_client/session.py\u001b[0m in \u001b[0;36mrecv\u001b[0;34m(self, socket, mode, content, copy)\u001b[0m\n\u001b[1;32m    802\u001b[0m         \u001b[0;32mtry\u001b[0m\u001b[0;34m:\u001b[0m\u001b[0;34m\u001b[0m\u001b[0;34m\u001b[0m\u001b[0m\n\u001b[0;32m--> 803\u001b[0;31m             \u001b[0mmsg_list\u001b[0m \u001b[0;34m=\u001b[0m \u001b[0msocket\u001b[0m\u001b[0;34m.\u001b[0m\u001b[0mrecv_multipart\u001b[0m\u001b[0;34m(\u001b[0m\u001b[0mmode\u001b[0m\u001b[0;34m,\u001b[0m \u001b[0mcopy\u001b[0m\u001b[0;34m=\u001b[0m\u001b[0mcopy\u001b[0m\u001b[0;34m)\u001b[0m\u001b[0;34m\u001b[0m\u001b[0;34m\u001b[0m\u001b[0m\n\u001b[0m\u001b[1;32m    804\u001b[0m         \u001b[0;32mexcept\u001b[0m \u001b[0mzmq\u001b[0m\u001b[0;34m.\u001b[0m\u001b[0mZMQError\u001b[0m \u001b[0;32mas\u001b[0m \u001b[0me\u001b[0m\u001b[0;34m:\u001b[0m\u001b[0;34m\u001b[0m\u001b[0;34m\u001b[0m\u001b[0m\n",
            "\u001b[0;32m/usr/local/lib/python3.7/dist-packages/zmq/sugar/socket.py\u001b[0m in \u001b[0;36mrecv_multipart\u001b[0;34m(self, flags, copy, track)\u001b[0m\n\u001b[1;32m    624\u001b[0m         \"\"\"\n\u001b[0;32m--> 625\u001b[0;31m         \u001b[0mparts\u001b[0m \u001b[0;34m=\u001b[0m \u001b[0;34m[\u001b[0m\u001b[0mself\u001b[0m\u001b[0;34m.\u001b[0m\u001b[0mrecv\u001b[0m\u001b[0;34m(\u001b[0m\u001b[0mflags\u001b[0m\u001b[0;34m,\u001b[0m \u001b[0mcopy\u001b[0m\u001b[0;34m=\u001b[0m\u001b[0mcopy\u001b[0m\u001b[0;34m,\u001b[0m \u001b[0mtrack\u001b[0m\u001b[0;34m=\u001b[0m\u001b[0mtrack\u001b[0m\u001b[0;34m)\u001b[0m\u001b[0;34m]\u001b[0m\u001b[0;34m\u001b[0m\u001b[0;34m\u001b[0m\u001b[0m\n\u001b[0m\u001b[1;32m    626\u001b[0m         \u001b[0;31m# have first part already, only loop while more to receive\u001b[0m\u001b[0;34m\u001b[0m\u001b[0;34m\u001b[0m\u001b[0;34m\u001b[0m\u001b[0m\n",
            "\u001b[0;32mzmq/backend/cython/socket.pyx\u001b[0m in \u001b[0;36mzmq.backend.cython.socket.Socket.recv\u001b[0;34m()\u001b[0m\n",
            "\u001b[0;32mzmq/backend/cython/socket.pyx\u001b[0m in \u001b[0;36mzmq.backend.cython.socket.Socket.recv\u001b[0;34m()\u001b[0m\n",
            "\u001b[0;32mzmq/backend/cython/socket.pyx\u001b[0m in \u001b[0;36mzmq.backend.cython.socket._recv_copy\u001b[0;34m()\u001b[0m\n",
            "\u001b[0;32m/usr/local/lib/python3.7/dist-packages/zmq/backend/cython/checkrc.pxd\u001b[0m in \u001b[0;36mzmq.backend.cython.checkrc._check_rc\u001b[0;34m()\u001b[0m\n",
            "\u001b[0;31mKeyboardInterrupt\u001b[0m: ",
            "\nDuring handling of the above exception, another exception occurred:\n",
            "\u001b[0;31mKeyboardInterrupt\u001b[0m                         Traceback (most recent call last)",
            "\u001b[0;32m<ipython-input-34-ee186b7d15d2>\u001b[0m in \u001b[0;36m<module>\u001b[0;34m()\u001b[0m\n\u001b[1;32m      1\u001b[0m \u001b[0;32mwhile\u001b[0m \u001b[0mnumber\u001b[0m\u001b[0;34m>\u001b[0m\u001b[0;36m100\u001b[0m  \u001b[0;32mor\u001b[0m \u001b[0mnumber\u001b[0m\u001b[0;34m>\u001b[0m\u001b[0;36m500\u001b[0m\u001b[0;34m:\u001b[0m\u001b[0;34m\u001b[0m\u001b[0;34m\u001b[0m\u001b[0m\n\u001b[1;32m      2\u001b[0m   \u001b[0mprint\u001b[0m\u001b[0;34m(\u001b[0m\u001b[0;34m'number is correct:'\u001b[0m\u001b[0;34m,\u001b[0m\u001b[0mnumber\u001b[0m\u001b[0;34m)\u001b[0m\u001b[0;34m\u001b[0m\u001b[0;34m\u001b[0m\u001b[0m\n\u001b[0;32m----> 3\u001b[0;31m   \u001b[0mnumber\u001b[0m\u001b[0;34m=\u001b[0m \u001b[0mint\u001b[0m\u001b[0;34m(\u001b[0m\u001b[0minput\u001b[0m\u001b[0;34m(\u001b[0m \u001b[0;34m'any number between 100 and 500:'\u001b[0m\u001b[0;34m)\u001b[0m\u001b[0;34m)\u001b[0m\u001b[0;34m\u001b[0m\u001b[0;34m\u001b[0m\u001b[0m\n\u001b[0m\u001b[1;32m      4\u001b[0m \u001b[0;32melse\u001b[0m\u001b[0;34m:\u001b[0m\u001b[0;34m\u001b[0m\u001b[0;34m\u001b[0m\u001b[0m\n\u001b[1;32m      5\u001b[0m     \u001b[0mprint\u001b[0m\u001b[0;34m(\u001b[0m\u001b[0;34m'number is incorrect:'\u001b[0m\u001b[0;34m,\u001b[0m\u001b[0mnumber\u001b[0m\u001b[0;34m)\u001b[0m\u001b[0;34m\u001b[0m\u001b[0;34m\u001b[0m\u001b[0m\n",
            "\u001b[0;32m/usr/local/lib/python3.7/dist-packages/ipykernel/kernelbase.py\u001b[0m in \u001b[0;36mraw_input\u001b[0;34m(self, prompt)\u001b[0m\n\u001b[1;32m    702\u001b[0m             \u001b[0mself\u001b[0m\u001b[0;34m.\u001b[0m\u001b[0m_parent_ident\u001b[0m\u001b[0;34m,\u001b[0m\u001b[0;34m\u001b[0m\u001b[0;34m\u001b[0m\u001b[0m\n\u001b[1;32m    703\u001b[0m             \u001b[0mself\u001b[0m\u001b[0;34m.\u001b[0m\u001b[0m_parent_header\u001b[0m\u001b[0;34m,\u001b[0m\u001b[0;34m\u001b[0m\u001b[0;34m\u001b[0m\u001b[0m\n\u001b[0;32m--> 704\u001b[0;31m             \u001b[0mpassword\u001b[0m\u001b[0;34m=\u001b[0m\u001b[0;32mFalse\u001b[0m\u001b[0;34m,\u001b[0m\u001b[0;34m\u001b[0m\u001b[0;34m\u001b[0m\u001b[0m\n\u001b[0m\u001b[1;32m    705\u001b[0m         )\n\u001b[1;32m    706\u001b[0m \u001b[0;34m\u001b[0m\u001b[0m\n",
            "\u001b[0;32m/usr/local/lib/python3.7/dist-packages/ipykernel/kernelbase.py\u001b[0m in \u001b[0;36m_input_request\u001b[0;34m(self, prompt, ident, parent, password)\u001b[0m\n\u001b[1;32m    732\u001b[0m             \u001b[0;32mexcept\u001b[0m \u001b[0mKeyboardInterrupt\u001b[0m\u001b[0;34m:\u001b[0m\u001b[0;34m\u001b[0m\u001b[0;34m\u001b[0m\u001b[0m\n\u001b[1;32m    733\u001b[0m                 \u001b[0;31m# re-raise KeyboardInterrupt, to truncate traceback\u001b[0m\u001b[0;34m\u001b[0m\u001b[0;34m\u001b[0m\u001b[0;34m\u001b[0m\u001b[0m\n\u001b[0;32m--> 734\u001b[0;31m                 \u001b[0;32mraise\u001b[0m \u001b[0mKeyboardInterrupt\u001b[0m\u001b[0;34m\u001b[0m\u001b[0;34m\u001b[0m\u001b[0m\n\u001b[0m\u001b[1;32m    735\u001b[0m             \u001b[0;32melse\u001b[0m\u001b[0;34m:\u001b[0m\u001b[0;34m\u001b[0m\u001b[0;34m\u001b[0m\u001b[0m\n\u001b[1;32m    736\u001b[0m                 \u001b[0;32mbreak\u001b[0m\u001b[0;34m\u001b[0m\u001b[0;34m\u001b[0m\u001b[0m\n",
            "\u001b[0;31mKeyboardInterrupt\u001b[0m: "
          ]
        }
      ]
    }
  ],
  "metadata": {
    "colab": {
      "provenance": [],
      "authorship_tag": "ABX9TyOf8mKoYaCmIM13zj1Ww2AZ",
      "include_colab_link": true
    },
    "kernelspec": {
      "display_name": "Python 3",
      "name": "python3"
    },
    "language_info": {
      "name": "python"
    }
  },
  "nbformat": 4,
  "nbformat_minor": 0
}